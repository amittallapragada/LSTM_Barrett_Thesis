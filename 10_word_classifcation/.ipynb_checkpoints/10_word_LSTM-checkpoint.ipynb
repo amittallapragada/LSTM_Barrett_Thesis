{
 "cells": [
  {
   "cell_type": "code",
   "execution_count": 1,
   "metadata": {},
   "outputs": [
    {
     "name": "stderr",
     "output_type": "stream",
     "text": [
      "Using TensorFlow backend.\n"
     ]
    }
   ],
   "source": [
    "import pandas as pd\n",
    "import seaborn as sns\n",
    "from keras.models import Sequential\n",
    "from keras.layers import LSTM, Activation, Dense, Dropout, Input, Embedding, Flatten, Bidirectional\n",
    "from keras.optimizers import Adam\n",
    "from keras.models import Model\n",
    "from keras.optimizers import RMSprop\n",
    "from keras.callbacks import EarlyStopping\n",
    "from keras.preprocessing.text import Tokenizer\n",
    "from keras.preprocessing import sequence\n",
    "from keras.preprocessing.text import text_to_word_sequence\n",
    "from keras.utils import np_utils\n",
    "#sklearn imports\n",
    "from sklearn.preprocessing import LabelEncoder\n",
    "from sklearn.preprocessing import OneHotEncoder\n",
    "from sklearn.model_selection import train_test_split"
   ]
  },
  {
   "cell_type": "code",
   "execution_count": 2,
   "metadata": {},
   "outputs": [
    {
     "name": "stdout",
     "output_type": "stream",
     "text": [
      "38237\n"
     ]
    },
    {
     "data": {
      "text/plain": [
       "<matplotlib.axes._subplots.AxesSubplot at 0x1334c3208>"
      ]
     },
     "execution_count": 2,
     "metadata": {},
     "output_type": "execute_result"
    },
    {
     "data": {
      "image/png": "[encoded data removed]",
      "text/plain": [
       "<Figure size 432x288 with 1 Axes>"
      ]
     },
     "metadata": {
      "needs_background": "light"
     },
     "output_type": "display_data"
    }
   ],
   "source": [
    "df = pd.read_pickle('10_word_seqs.pkl', compression='gzip')\n",
    "print(len(df))\n",
    "sns.countplot(df.genre)"
   ]
  },
  {
   "cell_type": "code",
   "execution_count": 17,
   "metadata": {},
   "outputs": [],
   "source": [
    "#this value is the length of the longest song in our dataset.\n",
    "MAX_VALUE = 10 #the length of each of our sequences\n",
    "tok = Tokenizer(num_words=MAX_VALUE)\n",
    "tok.fit_on_texts(df.lyrics)\n",
    "#build sequences\n",
    "sequences = tok.texts_to_sequences(df.lyrics)\n",
    "sequences_matrix = sequence.pad_sequences(sequences, maxlen=MAX_VALUE)\n",
    "sequences_matrix = sequences_matrix.reshape(38237, 10,1)\n",
    "\n"
   ]
  },
  {
   "cell_type": "code",
   "execution_count": 18,
   "metadata": {},
   "outputs": [
    {
     "name": "stdout",
     "output_type": "stream",
     "text": [
      "[[0. 0. 1. 0.]\n",
      " [0. 0. 1. 0.]\n",
      " [0. 0. 1. 0.]\n",
      " ...\n",
      " [0. 1. 0. 0.]\n",
      " [0. 1. 0. 0.]\n",
      " [0. 1. 0. 0.]]\n"
     ]
    },
    {
     "name": "stderr",
     "output_type": "stream",
     "text": [
      "/anaconda3/envs/py36/lib/python3.6/site-packages/sklearn/preprocessing/_encoders.py:368: FutureWarning: The handling of integer data will change in version 0.22. Currently, the categories are determined based on the range [0, max(values)], while in the future they will be determined based on the unique values.\n",
      "If you want the future behaviour and silence this warning, you can specify \"categories='auto'\".\n",
      "In case you used a LabelEncoder before this OneHotEncoder to convert the categories to integers, then you can now use the OneHotEncoder directly.\n",
      "  warnings.warn(msg, FutureWarning)\n"
     ]
    }
   ],
   "source": [
    "label_encoder = LabelEncoder()\n",
    "onehot_encoder = OneHotEncoder(sparse=False)\n",
    "\n",
    "integer_encoded = label_encoder.fit_transform(df.genre)\n",
    "integer_encoded = integer_encoded.reshape(len(integer_encoded), 1)\n",
    "onehot_encoded = onehot_encoder.fit_transform(integer_encoded)\n",
    "print(onehot_encoded)"
   ]
  },
  {
   "cell_type": "code",
   "execution_count": 19,
   "metadata": {},
   "outputs": [],
   "source": [
    "X_train,X_test,Y_train,Y_test = train_test_split(sequences_matrix,onehot_encoded,test_size=0.2)"
   ]
  },
  {
   "cell_type": "code",
   "execution_count": 28,
   "metadata": {},
   "outputs": [],
   "source": [
    "model = Sequential()\n",
    "model.add(LSTM(128, input_shape=X_train[0].shape))\n",
    "model.add(Dense(4, activation='softmax'))\n"
   ]
  },
  {
   "cell_type": "code",
   "execution_count": 29,
   "metadata": {},
   "outputs": [
    {
     "name": "stdout",
     "output_type": "stream",
     "text": [
      "Train on 30589 samples, validate on 7648 samples\n",
      "Epoch 1/100\n",
      "30589/30589 [==============================] - 4s 132us/step - loss: 1.3829 - acc: 0.2706 - val_loss: 1.3760 - val_acc: 0.2897\n",
      "Epoch 2/100\n",
      "30589/30589 [==============================] - 3s 110us/step - loss: 1.3730 - acc: 0.2932 - val_loss: 1.3723 - val_acc: 0.2994\n",
      "Epoch 3/100\n",
      "30589/30589 [==============================] - 3s 110us/step - loss: 1.3705 - acc: 0.2970 - val_loss: 1.3676 - val_acc: 0.3041\n",
      "Epoch 4/100\n",
      "30589/30589 [==============================] - 3s 111us/step - loss: 1.3692 - acc: 0.2968 - val_loss: 1.3657 - val_acc: 0.3099\n",
      "Epoch 5/100\n",
      "30589/30589 [==============================] - 3s 110us/step - loss: 1.3688 - acc: 0.2996 - val_loss: 1.3661 - val_acc: 0.3016\n",
      "Epoch 6/100\n",
      "30589/30589 [==============================] - 3s 109us/step - loss: 1.3677 - acc: 0.2989 - val_loss: 1.3705 - val_acc: 0.3001\n",
      "Epoch 7/100\n",
      "30589/30589 [==============================] - 3s 109us/step - loss: 1.3674 - acc: 0.2992 - val_loss: 1.3647 - val_acc: 0.3009\n",
      "Epoch 8/100\n",
      "30589/30589 [==============================] - 3s 110us/step - loss: 1.3669 - acc: 0.3001 - val_loss: 1.3655 - val_acc: 0.2964\n",
      "Epoch 9/100\n",
      "30589/30589 [==============================] - 3s 112us/step - loss: 1.3663 - acc: 0.3003 - val_loss: 1.3657 - val_acc: 0.3047\n",
      "Epoch 10/100\n",
      "30589/30589 [==============================] - 3s 111us/step - loss: 1.3661 - acc: 0.2993 - val_loss: 1.3640 - val_acc: 0.2993\n",
      "Epoch 11/100\n",
      "30589/30589 [==============================] - 3s 111us/step - loss: 1.3657 - acc: 0.2990 - val_loss: 1.3627 - val_acc: 0.3061\n",
      "Epoch 12/100\n",
      "30589/30589 [==============================] - 3s 110us/step - loss: 1.3654 - acc: 0.3018 - val_loss: 1.3654 - val_acc: 0.3103\n",
      "Epoch 13/100\n",
      "30589/30589 [==============================] - 3s 110us/step - loss: 1.3649 - acc: 0.3006 - val_loss: 1.3624 - val_acc: 0.3101\n",
      "Epoch 14/100\n",
      "30589/30589 [==============================] - 3s 111us/step - loss: 1.3642 - acc: 0.2999 - val_loss: 1.3607 - val_acc: 0.3056\n",
      "Epoch 15/100\n",
      "30589/30589 [==============================] - 3s 111us/step - loss: 1.3643 - acc: 0.2998 - val_loss: 1.3614 - val_acc: 0.3088\n",
      "Epoch 16/100\n",
      "30589/30589 [==============================] - 3s 110us/step - loss: 1.3636 - acc: 0.3012 - val_loss: 1.3623 - val_acc: 0.3194\n",
      "Epoch 17/100\n",
      "30589/30589 [==============================] - 4s 115us/step - loss: 1.3631 - acc: 0.3008 - val_loss: 1.3627 - val_acc: 0.3019\n",
      "Epoch 18/100\n",
      "30589/30589 [==============================] - 3s 113us/step - loss: 1.3624 - acc: 0.2996 - val_loss: 1.3600 - val_acc: 0.3075\n",
      "Epoch 19/100\n",
      "30589/30589 [==============================] - 3s 112us/step - loss: 1.3622 - acc: 0.3040 - val_loss: 1.3583 - val_acc: 0.3130\n",
      "Epoch 20/100\n",
      "30589/30589 [==============================] - 3s 112us/step - loss: 1.3619 - acc: 0.3044 - val_loss: 1.3582 - val_acc: 0.3166\n",
      "Epoch 21/100\n",
      "30589/30589 [==============================] - 3s 112us/step - loss: 1.3614 - acc: 0.3069 - val_loss: 1.3573 - val_acc: 0.3194\n",
      "Epoch 22/100\n",
      "30589/30589 [==============================] - 3s 114us/step - loss: 1.3609 - acc: 0.3059 - val_loss: 1.3571 - val_acc: 0.3139\n",
      "Epoch 23/100\n",
      "30589/30589 [==============================] - 3s 113us/step - loss: 1.3606 - acc: 0.3070 - val_loss: 1.3566 - val_acc: 0.3172\n",
      "Epoch 24/100\n",
      "30589/30589 [==============================] - 4s 115us/step - loss: 1.3604 - acc: 0.3070 - val_loss: 1.3577 - val_acc: 0.3149\n",
      "Epoch 25/100\n",
      "30589/30589 [==============================] - 4s 115us/step - loss: 1.3597 - acc: 0.3085 - val_loss: 1.3569 - val_acc: 0.3217\n",
      "Epoch 26/100\n",
      "30589/30589 [==============================] - 3s 113us/step - loss: 1.3594 - acc: 0.3080 - val_loss: 1.3562 - val_acc: 0.3194\n",
      "Epoch 27/100\n",
      "30589/30589 [==============================] - 3s 113us/step - loss: 1.3590 - acc: 0.3109 - val_loss: 1.3563 - val_acc: 0.3092\n",
      "Epoch 28/100\n",
      "30589/30589 [==============================] - 3s 113us/step - loss: 1.3588 - acc: 0.3107 - val_loss: 1.3558 - val_acc: 0.3241\n",
      "Epoch 29/100\n",
      "30589/30589 [==============================] - 3s 112us/step - loss: 1.3583 - acc: 0.3129 - val_loss: 1.3557 - val_acc: 0.3183\n",
      "Epoch 30/100\n",
      "30589/30589 [==============================] - 4s 128us/step - loss: 1.3581 - acc: 0.3117 - val_loss: 1.3554 - val_acc: 0.3261\n",
      "Epoch 31/100\n",
      "30589/30589 [==============================] - 4s 132us/step - loss: 1.3574 - acc: 0.3158 - val_loss: 1.3535 - val_acc: 0.3217\n",
      "Epoch 32/100\n",
      "30589/30589 [==============================] - 5s 151us/step - loss: 1.3568 - acc: 0.3136 - val_loss: 1.3554 - val_acc: 0.3270\n",
      "Epoch 33/100\n",
      "30589/30589 [==============================] - 5s 149us/step - loss: 1.3567 - acc: 0.3140 - val_loss: 1.3542 - val_acc: 0.3234\n",
      "Epoch 34/100\n",
      "30589/30589 [==============================] - 5s 150us/step - loss: 1.3560 - acc: 0.3140 - val_loss: 1.3549 - val_acc: 0.3213\n",
      "Epoch 35/100\n",
      "30589/30589 [==============================] - 5s 150us/step - loss: 1.3560 - acc: 0.3161 - val_loss: 1.3545 - val_acc: 0.3277\n",
      "Epoch 36/100\n",
      "30589/30589 [==============================] - 5s 157us/step - loss: 1.3555 - acc: 0.3171 - val_loss: 1.3526 - val_acc: 0.3287\n",
      "Epoch 37/100\n",
      "30589/30589 [==============================] - 4s 124us/step - loss: 1.3550 - acc: 0.3175 - val_loss: 1.3542 - val_acc: 0.3226\n",
      "Epoch 38/100\n",
      "30589/30589 [==============================] - 4s 122us/step - loss: 1.3549 - acc: 0.3186 - val_loss: 1.3531 - val_acc: 0.3332\n",
      "Epoch 39/100\n",
      "30589/30589 [==============================] - 4s 116us/step - loss: 1.3545 - acc: 0.3174 - val_loss: 1.3531 - val_acc: 0.3253\n",
      "Epoch 40/100\n",
      "30589/30589 [==============================] - 4s 120us/step - loss: 1.3543 - acc: 0.3194 - val_loss: 1.3533 - val_acc: 0.3248\n",
      "Epoch 41/100\n",
      "30589/30589 [==============================] - 4s 127us/step - loss: 1.3541 - acc: 0.3173 - val_loss: 1.3520 - val_acc: 0.3268\n",
      "Epoch 42/100\n",
      "30589/30589 [==============================] - 4s 123us/step - loss: 1.3536 - acc: 0.3197 - val_loss: 1.3551 - val_acc: 0.3264\n",
      "Epoch 43/100\n",
      "30589/30589 [==============================] - 4s 123us/step - loss: 1.3535 - acc: 0.3212 - val_loss: 1.3525 - val_acc: 0.3324\n",
      "Epoch 44/100\n",
      "30589/30589 [==============================] - 4s 119us/step - loss: 1.3529 - acc: 0.3208 - val_loss: 1.3521 - val_acc: 0.3302\n",
      "Epoch 45/100\n",
      "30589/30589 [==============================] - 4s 124us/step - loss: 1.3525 - acc: 0.3225 - val_loss: 1.3538 - val_acc: 0.3283\n",
      "Epoch 46/100\n",
      "30589/30589 [==============================] - 4s 144us/step - loss: 1.3519 - acc: 0.3224 - val_loss: 1.3531 - val_acc: 0.3294\n",
      "Epoch 47/100\n",
      "30589/30589 [==============================] - 4s 130us/step - loss: 1.3518 - acc: 0.3232 - val_loss: 1.3558 - val_acc: 0.3240\n",
      "Epoch 48/100\n",
      "30589/30589 [==============================] - 4s 117us/step - loss: 1.3510 - acc: 0.3235 - val_loss: 1.3536 - val_acc: 0.3211\n",
      "Epoch 49/100\n",
      "30589/30589 [==============================] - 3s 113us/step - loss: 1.3511 - acc: 0.3216 - val_loss: 1.3522 - val_acc: 0.3317\n",
      "Epoch 50/100\n",
      "30589/30589 [==============================] - 4s 124us/step - loss: 1.3508 - acc: 0.3239 - val_loss: 1.3519 - val_acc: 0.3307\n",
      "Epoch 51/100\n",
      "30589/30589 [==============================] - 3s 113us/step - loss: 1.3501 - acc: 0.3244 - val_loss: 1.3530 - val_acc: 0.3220\n",
      "Epoch 52/100\n",
      "30589/30589 [==============================] - 3s 113us/step - loss: 1.3500 - acc: 0.3253 - val_loss: 1.3522 - val_acc: 0.3265\n",
      "Epoch 53/100\n",
      "30589/30589 [==============================] - 4s 117us/step - loss: 1.3498 - acc: 0.3235 - val_loss: 1.3521 - val_acc: 0.3308\n",
      "Epoch 54/100\n",
      "30589/30589 [==============================] - 3s 111us/step - loss: 1.3492 - acc: 0.3262 - val_loss: 1.3536 - val_acc: 0.3281\n",
      "Epoch 55/100\n",
      "14080/30589 [============>.................] - ETA: 2s - loss: 1.3473 - acc: 0.3263"
     ]
    },
    {
     "ename": "KeyboardInterrupt",
     "evalue": "",
     "output_type": "error",
     "traceback": [
      "\u001b[0;31m---------------------------------------------------------------------------\u001b[0m",
      "\u001b[0;31mKeyboardInterrupt\u001b[0m                         Traceback (most recent call last)",
      "\u001b[0;32m<ipython-input-29-36f50e28e4c8>\u001b[0m in \u001b[0;36m<module>\u001b[0;34m\u001b[0m\n\u001b[1;32m      7\u001b[0m \u001b[0;34m\u001b[0m\u001b[0m\n\u001b[1;32m      8\u001b[0m \u001b[0mmodel\u001b[0m\u001b[0;34m.\u001b[0m\u001b[0mcompile\u001b[0m\u001b[0;34m(\u001b[0m\u001b[0mloss\u001b[0m\u001b[0;34m=\u001b[0m\u001b[0;34m'categorical_crossentropy'\u001b[0m\u001b[0;34m,\u001b[0m \u001b[0moptimizer\u001b[0m\u001b[0;34m=\u001b[0m\u001b[0moptimizer\u001b[0m\u001b[0;34m,\u001b[0m \u001b[0mmetrics\u001b[0m\u001b[0;34m=\u001b[0m\u001b[0;34m[\u001b[0m\u001b[0;34m'accuracy'\u001b[0m\u001b[0;34m]\u001b[0m\u001b[0;34m)\u001b[0m\u001b[0;34m\u001b[0m\u001b[0;34m\u001b[0m\u001b[0m\n\u001b[0;32m----> 9\u001b[0;31m \u001b[0mmodel\u001b[0m\u001b[0;34m.\u001b[0m\u001b[0mfit\u001b[0m\u001b[0;34m(\u001b[0m\u001b[0mX_train\u001b[0m\u001b[0;34m,\u001b[0m \u001b[0mY_train\u001b[0m\u001b[0;34m,\u001b[0m \u001b[0mepochs\u001b[0m\u001b[0;34m=\u001b[0m\u001b[0;36m100\u001b[0m\u001b[0;34m,\u001b[0m \u001b[0mbatch_size\u001b[0m\u001b[0;34m=\u001b[0m\u001b[0;36m128\u001b[0m\u001b[0;34m,\u001b[0m \u001b[0mvalidation_data\u001b[0m\u001b[0;34m=\u001b[0m\u001b[0;34m(\u001b[0m\u001b[0mX_test\u001b[0m\u001b[0;34m,\u001b[0m \u001b[0mY_test\u001b[0m\u001b[0;34m)\u001b[0m\u001b[0;34m,\u001b[0m \u001b[0mshuffle\u001b[0m\u001b[0;34m=\u001b[0m\u001b[0;32mTrue\u001b[0m\u001b[0;34m,\u001b[0m \u001b[0mcallbacks\u001b[0m\u001b[0;34m=\u001b[0m\u001b[0;34m[\u001b[0m\u001b[0mtensorboard\u001b[0m\u001b[0;34m]\u001b[0m\u001b[0;34m)\u001b[0m\u001b[0;34m\u001b[0m\u001b[0;34m\u001b[0m\u001b[0m\n\u001b[0m",
      "\u001b[0;32m/anaconda3/envs/py36/lib/python3.6/site-packages/keras/engine/training.py\u001b[0m in \u001b[0;36mfit\u001b[0;34m(self, x, y, batch_size, epochs, verbose, callbacks, validation_split, validation_data, shuffle, class_weight, sample_weight, initial_epoch, steps_per_epoch, validation_steps, **kwargs)\u001b[0m\n\u001b[1;32m   1037\u001b[0m                                         \u001b[0minitial_epoch\u001b[0m\u001b[0;34m=\u001b[0m\u001b[0minitial_epoch\u001b[0m\u001b[0;34m,\u001b[0m\u001b[0;34m\u001b[0m\u001b[0;34m\u001b[0m\u001b[0m\n\u001b[1;32m   1038\u001b[0m                                         \u001b[0msteps_per_epoch\u001b[0m\u001b[0;34m=\u001b[0m\u001b[0msteps_per_epoch\u001b[0m\u001b[0;34m,\u001b[0m\u001b[0;34m\u001b[0m\u001b[0;34m\u001b[0m\u001b[0m\n\u001b[0;32m-> 1039\u001b[0;31m                                         validation_steps=validation_steps)\n\u001b[0m\u001b[1;32m   1040\u001b[0m \u001b[0;34m\u001b[0m\u001b[0m\n\u001b[1;32m   1041\u001b[0m     def evaluate(self, x=None, y=None,\n",
      "\u001b[0;32m/anaconda3/envs/py36/lib/python3.6/site-packages/keras/engine/training_arrays.py\u001b[0m in \u001b[0;36mfit_loop\u001b[0;34m(model, f, ins, out_labels, batch_size, epochs, verbose, callbacks, val_f, val_ins, shuffle, callback_metrics, initial_epoch, steps_per_epoch, validation_steps)\u001b[0m\n\u001b[1;32m    197\u001b[0m                     \u001b[0mins_batch\u001b[0m\u001b[0;34m[\u001b[0m\u001b[0mi\u001b[0m\u001b[0;34m]\u001b[0m \u001b[0;34m=\u001b[0m \u001b[0mins_batch\u001b[0m\u001b[0;34m[\u001b[0m\u001b[0mi\u001b[0m\u001b[0;34m]\u001b[0m\u001b[0;34m.\u001b[0m\u001b[0mtoarray\u001b[0m\u001b[0;34m(\u001b[0m\u001b[0;34m)\u001b[0m\u001b[0;34m\u001b[0m\u001b[0;34m\u001b[0m\u001b[0m\n\u001b[1;32m    198\u001b[0m \u001b[0;34m\u001b[0m\u001b[0m\n\u001b[0;32m--> 199\u001b[0;31m                 \u001b[0mouts\u001b[0m \u001b[0;34m=\u001b[0m \u001b[0mf\u001b[0m\u001b[0;34m(\u001b[0m\u001b[0mins_batch\u001b[0m\u001b[0;34m)\u001b[0m\u001b[0;34m\u001b[0m\u001b[0;34m\u001b[0m\u001b[0m\n\u001b[0m\u001b[1;32m    200\u001b[0m                 \u001b[0mouts\u001b[0m \u001b[0;34m=\u001b[0m \u001b[0mto_list\u001b[0m\u001b[0;34m(\u001b[0m\u001b[0mouts\u001b[0m\u001b[0;34m)\u001b[0m\u001b[0;34m\u001b[0m\u001b[0;34m\u001b[0m\u001b[0m\n\u001b[1;32m    201\u001b[0m                 \u001b[0;32mfor\u001b[0m \u001b[0ml\u001b[0m\u001b[0;34m,\u001b[0m \u001b[0mo\u001b[0m \u001b[0;32min\u001b[0m \u001b[0mzip\u001b[0m\u001b[0;34m(\u001b[0m\u001b[0mout_labels\u001b[0m\u001b[0;34m,\u001b[0m \u001b[0mouts\u001b[0m\u001b[0;34m)\u001b[0m\u001b[0;34m:\u001b[0m\u001b[0;34m\u001b[0m\u001b[0;34m\u001b[0m\u001b[0m\n",
      "\u001b[0;32m/anaconda3/envs/py36/lib/python3.6/site-packages/keras/backend/tensorflow_backend.py\u001b[0m in \u001b[0;36m__call__\u001b[0;34m(self, inputs)\u001b[0m\n\u001b[1;32m   2713\u001b[0m                 \u001b[0;32mreturn\u001b[0m \u001b[0mself\u001b[0m\u001b[0;34m.\u001b[0m\u001b[0m_legacy_call\u001b[0m\u001b[0;34m(\u001b[0m\u001b[0minputs\u001b[0m\u001b[0;34m)\u001b[0m\u001b[0;34m\u001b[0m\u001b[0;34m\u001b[0m\u001b[0m\n\u001b[1;32m   2714\u001b[0m \u001b[0;34m\u001b[0m\u001b[0m\n\u001b[0;32m-> 2715\u001b[0;31m             \u001b[0;32mreturn\u001b[0m \u001b[0mself\u001b[0m\u001b[0;34m.\u001b[0m\u001b[0m_call\u001b[0m\u001b[0;34m(\u001b[0m\u001b[0minputs\u001b[0m\u001b[0;34m)\u001b[0m\u001b[0;34m\u001b[0m\u001b[0;34m\u001b[0m\u001b[0m\n\u001b[0m\u001b[1;32m   2716\u001b[0m         \u001b[0;32melse\u001b[0m\u001b[0;34m:\u001b[0m\u001b[0;34m\u001b[0m\u001b[0;34m\u001b[0m\u001b[0m\n\u001b[1;32m   2717\u001b[0m             \u001b[0;32mif\u001b[0m \u001b[0mpy_any\u001b[0m\u001b[0;34m(\u001b[0m\u001b[0mis_tensor\u001b[0m\u001b[0;34m(\u001b[0m\u001b[0mx\u001b[0m\u001b[0;34m)\u001b[0m \u001b[0;32mfor\u001b[0m \u001b[0mx\u001b[0m \u001b[0;32min\u001b[0m \u001b[0minputs\u001b[0m\u001b[0;34m)\u001b[0m\u001b[0;34m:\u001b[0m\u001b[0;34m\u001b[0m\u001b[0;34m\u001b[0m\u001b[0m\n",
      "\u001b[0;32m/anaconda3/envs/py36/lib/python3.6/site-packages/keras/backend/tensorflow_backend.py\u001b[0m in \u001b[0;36m_call\u001b[0;34m(self, inputs)\u001b[0m\n\u001b[1;32m   2673\u001b[0m             \u001b[0mfetched\u001b[0m \u001b[0;34m=\u001b[0m \u001b[0mself\u001b[0m\u001b[0;34m.\u001b[0m\u001b[0m_callable_fn\u001b[0m\u001b[0;34m(\u001b[0m\u001b[0;34m*\u001b[0m\u001b[0marray_vals\u001b[0m\u001b[0;34m,\u001b[0m \u001b[0mrun_metadata\u001b[0m\u001b[0;34m=\u001b[0m\u001b[0mself\u001b[0m\u001b[0;34m.\u001b[0m\u001b[0mrun_metadata\u001b[0m\u001b[0;34m)\u001b[0m\u001b[0;34m\u001b[0m\u001b[0;34m\u001b[0m\u001b[0m\n\u001b[1;32m   2674\u001b[0m         \u001b[0;32melse\u001b[0m\u001b[0;34m:\u001b[0m\u001b[0;34m\u001b[0m\u001b[0;34m\u001b[0m\u001b[0m\n\u001b[0;32m-> 2675\u001b[0;31m             \u001b[0mfetched\u001b[0m \u001b[0;34m=\u001b[0m \u001b[0mself\u001b[0m\u001b[0;34m.\u001b[0m\u001b[0m_callable_fn\u001b[0m\u001b[0;34m(\u001b[0m\u001b[0;34m*\u001b[0m\u001b[0marray_vals\u001b[0m\u001b[0;34m)\u001b[0m\u001b[0;34m\u001b[0m\u001b[0;34m\u001b[0m\u001b[0m\n\u001b[0m\u001b[1;32m   2676\u001b[0m         \u001b[0;32mreturn\u001b[0m \u001b[0mfetched\u001b[0m\u001b[0;34m[\u001b[0m\u001b[0;34m:\u001b[0m\u001b[0mlen\u001b[0m\u001b[0;34m(\u001b[0m\u001b[0mself\u001b[0m\u001b[0;34m.\u001b[0m\u001b[0moutputs\u001b[0m\u001b[0;34m)\u001b[0m\u001b[0;34m]\u001b[0m\u001b[0;34m\u001b[0m\u001b[0;34m\u001b[0m\u001b[0m\n\u001b[1;32m   2677\u001b[0m \u001b[0;34m\u001b[0m\u001b[0m\n",
      "\u001b[0;32m/anaconda3/envs/py36/lib/python3.6/site-packages/tensorflow/python/client/session.py\u001b[0m in \u001b[0;36m__call__\u001b[0;34m(self, *args, **kwargs)\u001b[0m\n\u001b[1;32m   1437\u001b[0m           ret = tf_session.TF_SessionRunCallable(\n\u001b[1;32m   1438\u001b[0m               \u001b[0mself\u001b[0m\u001b[0;34m.\u001b[0m\u001b[0m_session\u001b[0m\u001b[0;34m.\u001b[0m\u001b[0m_session\u001b[0m\u001b[0;34m,\u001b[0m \u001b[0mself\u001b[0m\u001b[0;34m.\u001b[0m\u001b[0m_handle\u001b[0m\u001b[0;34m,\u001b[0m \u001b[0margs\u001b[0m\u001b[0;34m,\u001b[0m \u001b[0mstatus\u001b[0m\u001b[0;34m,\u001b[0m\u001b[0;34m\u001b[0m\u001b[0;34m\u001b[0m\u001b[0m\n\u001b[0;32m-> 1439\u001b[0;31m               run_metadata_ptr)\n\u001b[0m\u001b[1;32m   1440\u001b[0m         \u001b[0;32mif\u001b[0m \u001b[0mrun_metadata\u001b[0m\u001b[0;34m:\u001b[0m\u001b[0;34m\u001b[0m\u001b[0;34m\u001b[0m\u001b[0m\n\u001b[1;32m   1441\u001b[0m           \u001b[0mproto_data\u001b[0m \u001b[0;34m=\u001b[0m \u001b[0mtf_session\u001b[0m\u001b[0;34m.\u001b[0m\u001b[0mTF_GetBuffer\u001b[0m\u001b[0;34m(\u001b[0m\u001b[0mrun_metadata_ptr\u001b[0m\u001b[0;34m)\u001b[0m\u001b[0;34m\u001b[0m\u001b[0;34m\u001b[0m\u001b[0m\n",
      "\u001b[0;31mKeyboardInterrupt\u001b[0m: "
     ]
    }
   ],
   "source": [
    "from keras.optimizers import RMSprop\n",
    "from keras.callbacks import TensorBoard\n",
    "\n",
    "tensorboard = TensorBoard(log_dir='./logs', histogram_freq=0,\n",
    "                          write_graph=True, write_images=False)\n",
    "optimizer = RMSprop(lr=0.001)\n",
    "\n",
    "model.compile(loss='categorical_crossentropy', optimizer=optimizer, metrics=['accuracy'])\n",
    "model.fit(X_train, Y_train, epochs=100, batch_size=128, validation_data=(X_test, Y_test), shuffle=True, callbacks=[tensorboard])"
   ]
  },
  {
   "cell_type": "code",
   "execution_count": null,
   "metadata": {},
   "outputs": [],
   "source": []
  }
 ],
 "metadata": {
  "kernelspec": {
   "display_name": "Python 3",
   "language": "python",
   "name": "python3"
  },
  "language_info": {
   "codemirror_mode": {
    "name": "ipython",
    "version": 3
   },
   "file_extension": ".py",
   "mimetype": "text/x-python",
   "name": "python",
   "nbconvert_exporter": "python",
   "pygments_lexer": "ipython3",
   "version": "3.6.7"
  }
 },
 "nbformat": 4,
 "nbformat_minor": 2
}
