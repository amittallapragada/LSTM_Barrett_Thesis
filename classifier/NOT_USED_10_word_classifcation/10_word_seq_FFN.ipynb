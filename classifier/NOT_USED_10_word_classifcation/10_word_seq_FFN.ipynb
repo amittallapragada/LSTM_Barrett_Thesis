{
 "cells": [
  {
   "cell_type": "code",
   "execution_count": 1,
   "metadata": {},
   "outputs": [
    {
     "name": "stderr",
     "output_type": "stream",
     "text": [
      "Using TensorFlow backend.\n"
     ]
    }
   ],
   "source": [
    "import pandas as pd\n",
    "import seaborn as sns\n",
    "from keras.models import Sequential\n",
    "from keras.layers import LSTM, Activation, Dense, Dropout, Input, Embedding, Flatten, Bidirectional\n",
    "from keras.optimizers import Adam\n",
    "from keras.models import Model\n",
    "from keras.optimizers import RMSprop\n",
    "from keras.callbacks import EarlyStopping\n",
    "from keras.preprocessing.text import Tokenizer\n",
    "from keras.preprocessing import sequence\n",
    "from keras.preprocessing.text import text_to_word_sequence\n",
    "from keras.utils import np_utils\n",
    "#sklearn imports\n",
    "from sklearn.preprocessing import LabelEncoder\n",
    "from sklearn.preprocessing import OneHotEncoder\n",
    "from sklearn.model_selection import train_test_split"
   ]
  },
  {
   "cell_type": "code",
   "execution_count": 2,
   "metadata": {},
   "outputs": [
    {
     "name": "stdout",
     "output_type": "stream",
     "text": [
      "38237\n"
     ]
    },
    {
     "data": {
      "text/plain": [
       "<matplotlib.axes._subplots.AxesSubplot at 0x1a28a6c6d8>"
      ]
     },
     "execution_count": 2,
     "metadata": {},
     "output_type": "execute_result"
    },
    {
     "data": {
      "image/png": "[encoded data removed]",
      "text/plain": [
       "<Figure size 432x288 with 1 Axes>"
      ]
     },
     "metadata": {
      "needs_background": "light"
     },
     "output_type": "display_data"
    }
   ],
   "source": [
    "df = pd.read_pickle('10_word_seqs.pkl', compression='gzip')\n",
    "print(len(df))\n",
    "sns.countplot(df.genre)"
   ]
  },
  {
   "cell_type": "markdown",
   "metadata": {},
   "source": [
    "# preprocess data\n",
    "-  make our 10 word sequences integer encoded\n",
    "- use one-hot encoding to encode our genres"
   ]
  },
  {
   "cell_type": "markdown",
   "metadata": {},
   "source": [
    "creating our feature set w/Keras tokenizer class"
   ]
  },
  {
   "cell_type": "code",
   "execution_count": 3,
   "metadata": {},
   "outputs": [
    {
     "data": {
      "text/plain": [
       "array([[0, 0, 0, ..., 0, 3, 3],\n",
       "       [0, 0, 0, ..., 4, 1, 7],\n",
       "       [0, 0, 0, ..., 2, 4, 2],\n",
       "       ...,\n",
       "       [0, 0, 0, ..., 0, 0, 1],\n",
       "       [0, 0, 0, ..., 0, 4, 1],\n",
       "       [0, 0, 0, ..., 0, 0, 0]], dtype=int32)"
      ]
     },
     "execution_count": 3,
     "metadata": {},
     "output_type": "execute_result"
    }
   ],
   "source": [
    "\n",
    "#this value is the length of the longest song in our dataset.\n",
    "MAX_VALUE = 10 #the length of each of our sequences\n",
    "tok = Tokenizer(num_words=MAX_VALUE)\n",
    "tok.fit_on_texts(df.lyrics)\n",
    "#build sequences\n",
    "sequences = tok.texts_to_sequences(df.lyrics)\n",
    "sequences_matrix = sequence.pad_sequences(sequences, maxlen=MAX_VALUE)\n",
    "sequences_matrix"
   ]
  },
  {
   "cell_type": "markdown",
   "metadata": {},
   "source": [
    "creating our target variables"
   ]
  },
  {
   "cell_type": "code",
   "execution_count": 4,
   "metadata": {},
   "outputs": [
    {
     "name": "stdout",
     "output_type": "stream",
     "text": [
      "[[0. 0. 1. 0.]\n",
      " [0. 0. 1. 0.]\n",
      " [0. 0. 1. 0.]\n",
      " ...\n",
      " [0. 1. 0. 0.]\n",
      " [0. 1. 0. 0.]\n",
      " [0. 1. 0. 0.]]\n"
     ]
    },
    {
     "name": "stderr",
     "output_type": "stream",
     "text": [
      "/anaconda3/envs/py36/lib/python3.6/site-packages/sklearn/preprocessing/_encoders.py:368: FutureWarning: The handling of integer data will change in version 0.22. Currently, the categories are determined based on the range [0, max(values)], while in the future they will be determined based on the unique values.\n",
      "If you want the future behaviour and silence this warning, you can specify \"categories='auto'\".\n",
      "In case you used a LabelEncoder before this OneHotEncoder to convert the categories to integers, then you can now use the OneHotEncoder directly.\n",
      "  warnings.warn(msg, FutureWarning)\n"
     ]
    }
   ],
   "source": [
    "label_encoder = LabelEncoder()\n",
    "onehot_encoder = OneHotEncoder(sparse=False)\n",
    "\n",
    "integer_encoded = label_encoder.fit_transform(df.genre)\n",
    "integer_encoded = integer_encoded.reshape(len(integer_encoded), 1)\n",
    "onehot_encoded = onehot_encoder.fit_transform(integer_encoded)\n",
    "print(onehot_encoded)"
   ]
  },
  {
   "cell_type": "markdown",
   "metadata": {},
   "source": [
    "### split into test/train 80/20 split"
   ]
  },
  {
   "cell_type": "code",
   "execution_count": 5,
   "metadata": {},
   "outputs": [],
   "source": [
    "X_train,X_test,Y_train,Y_test = train_test_split(sequences_matrix,onehot_encoded,test_size=0.2)"
   ]
  },
  {
   "cell_type": "code",
   "execution_count": 10,
   "metadata": {},
   "outputs": [],
   "source": [
    "model = Sequential()\n",
    "model.add(Dense(128, input_shape=X_train[0].shape, activation='relu'))\n",
    "model.add(Dense(64, activation='relu'))\n",
    "model.add(Dense(4, activation='softmax'))"
   ]
  },
  {
   "cell_type": "code",
   "execution_count": 11,
   "metadata": {},
   "outputs": [],
   "source": [
    "from keras.optimizers import RMSprop\n",
    "from keras.callbacks import TensorBoard\n",
    "tensorboard = TensorBoard(log_dir='./logs/10_word_ffn', histogram_freq=0,\n",
    "                          write_graph=True, write_images=False)\n",
    "optimizer = RMSprop(lr=0.001)\n",
    "model.compile(loss='categorical_crossentropy', optimizer=optimizer, metrics=['accuracy'])"
   ]
  },
  {
   "cell_type": "code",
   "execution_count": 12,
   "metadata": {},
   "outputs": [
    {
     "name": "stdout",
     "output_type": "stream",
     "text": [
      "Train on 30589 samples, validate on 7648 samples\n",
      "Epoch 1/100\n",
      "30589/30589 [==============================] - 0s 13us/step - loss: 1.3877 - acc: 0.2779 - val_loss: 1.3837 - val_acc: 0.2867\n",
      "Epoch 2/100\n",
      "30589/30589 [==============================] - 0s 9us/step - loss: 1.3792 - acc: 0.2866 - val_loss: 1.3770 - val_acc: 0.2935\n",
      "Epoch 3/100\n",
      "30589/30589 [==============================] - 0s 9us/step - loss: 1.3762 - acc: 0.2927 - val_loss: 1.3730 - val_acc: 0.2977\n",
      "Epoch 4/100\n",
      "30589/30589 [==============================] - 0s 9us/step - loss: 1.3732 - acc: 0.2945 - val_loss: 1.3721 - val_acc: 0.2976\n",
      "Epoch 5/100\n",
      "30589/30589 [==============================] - 0s 9us/step - loss: 1.3709 - acc: 0.2969 - val_loss: 1.3708 - val_acc: 0.2998\n",
      "Epoch 6/100\n",
      "30589/30589 [==============================] - 0s 9us/step - loss: 1.3685 - acc: 0.3000 - val_loss: 1.3674 - val_acc: 0.3054\n",
      "Epoch 7/100\n",
      "30589/30589 [==============================] - 0s 9us/step - loss: 1.3668 - acc: 0.3022 - val_loss: 1.3666 - val_acc: 0.3120\n",
      "Epoch 8/100\n",
      "30589/30589 [==============================] - 0s 9us/step - loss: 1.3647 - acc: 0.3035 - val_loss: 1.3646 - val_acc: 0.3100\n",
      "Epoch 9/100\n",
      "30589/30589 [==============================] - 0s 9us/step - loss: 1.3636 - acc: 0.3066 - val_loss: 1.3639 - val_acc: 0.3079\n",
      "Epoch 10/100\n",
      "30589/30589 [==============================] - 0s 9us/step - loss: 1.3622 - acc: 0.3096 - val_loss: 1.3697 - val_acc: 0.2977\n",
      "Epoch 11/100\n",
      "30589/30589 [==============================] - 0s 10us/step - loss: 1.3613 - acc: 0.3124 - val_loss: 1.3701 - val_acc: 0.3103\n",
      "Epoch 12/100\n",
      "30589/30589 [==============================] - 0s 10us/step - loss: 1.3604 - acc: 0.3105 - val_loss: 1.3623 - val_acc: 0.3149\n",
      "Epoch 13/100\n",
      "30589/30589 [==============================] - 0s 9us/step - loss: 1.3595 - acc: 0.3169 - val_loss: 1.3633 - val_acc: 0.3061\n",
      "Epoch 14/100\n",
      "30589/30589 [==============================] - 0s 9us/step - loss: 1.3589 - acc: 0.3123 - val_loss: 1.3624 - val_acc: 0.3139\n",
      "Epoch 15/100\n",
      "30589/30589 [==============================] - 0s 10us/step - loss: 1.3581 - acc: 0.3146 - val_loss: 1.3603 - val_acc: 0.3108\n",
      "Epoch 16/100\n",
      "30589/30589 [==============================] - 0s 11us/step - loss: 1.3581 - acc: 0.3155 - val_loss: 1.3612 - val_acc: 0.3189\n",
      "Epoch 17/100\n",
      "30589/30589 [==============================] - 0s 9us/step - loss: 1.3569 - acc: 0.3135 - val_loss: 1.3673 - val_acc: 0.3062\n",
      "Epoch 18/100\n",
      "30589/30589 [==============================] - 0s 10us/step - loss: 1.3567 - acc: 0.3169 - val_loss: 1.3715 - val_acc: 0.3069\n",
      "Epoch 19/100\n",
      "30589/30589 [==============================] - 0s 9us/step - loss: 1.3561 - acc: 0.3187 - val_loss: 1.3606 - val_acc: 0.3118\n",
      "Epoch 20/100\n",
      "30589/30589 [==============================] - 0s 9us/step - loss: 1.3556 - acc: 0.3174 - val_loss: 1.3633 - val_acc: 0.3101\n",
      "Epoch 21/100\n",
      "30589/30589 [==============================] - 0s 9us/step - loss: 1.3546 - acc: 0.3199 - val_loss: 1.3686 - val_acc: 0.3142\n",
      "Epoch 22/100\n",
      "30589/30589 [==============================] - 0s 9us/step - loss: 1.3541 - acc: 0.3190 - val_loss: 1.3615 - val_acc: 0.3133\n",
      "Epoch 23/100\n",
      "30589/30589 [==============================] - 0s 9us/step - loss: 1.3538 - acc: 0.3190 - val_loss: 1.3632 - val_acc: 0.3192\n",
      "Epoch 24/100\n",
      "30589/30589 [==============================] - 0s 10us/step - loss: 1.3539 - acc: 0.3194 - val_loss: 1.3597 - val_acc: 0.3169\n",
      "Epoch 25/100\n",
      "30589/30589 [==============================] - 0s 11us/step - loss: 1.3533 - acc: 0.3210 - val_loss: 1.3611 - val_acc: 0.3133\n",
      "Epoch 26/100\n",
      "30589/30589 [==============================] - 0s 10us/step - loss: 1.3530 - acc: 0.3206 - val_loss: 1.3619 - val_acc: 0.3133\n",
      "Epoch 27/100\n",
      "30589/30589 [==============================] - 0s 10us/step - loss: 1.3525 - acc: 0.3200 - val_loss: 1.3634 - val_acc: 0.3108\n",
      "Epoch 28/100\n",
      "30589/30589 [==============================] - 0s 10us/step - loss: 1.3523 - acc: 0.3242 - val_loss: 1.3623 - val_acc: 0.3028\n",
      "Epoch 29/100\n",
      "30589/30589 [==============================] - 0s 10us/step - loss: 1.3519 - acc: 0.3239 - val_loss: 1.3628 - val_acc: 0.3084\n",
      "Epoch 30/100\n",
      "30589/30589 [==============================] - 0s 9us/step - loss: 1.3515 - acc: 0.3246 - val_loss: 1.3626 - val_acc: 0.3122\n",
      "Epoch 31/100\n",
      "30589/30589 [==============================] - 0s 10us/step - loss: 1.3511 - acc: 0.3258 - val_loss: 1.3678 - val_acc: 0.2999\n",
      "Epoch 32/100\n",
      "30589/30589 [==============================] - 0s 12us/step - loss: 1.3511 - acc: 0.3246 - val_loss: 1.3600 - val_acc: 0.3061\n",
      "Epoch 33/100\n",
      "30589/30589 [==============================] - 0s 9us/step - loss: 1.3505 - acc: 0.3261 - val_loss: 1.3599 - val_acc: 0.3105\n",
      "Epoch 34/100\n",
      "30589/30589 [==============================] - 0s 9us/step - loss: 1.3498 - acc: 0.3294 - val_loss: 1.3619 - val_acc: 0.3167\n",
      "Epoch 35/100\n",
      "30589/30589 [==============================] - 0s 9us/step - loss: 1.3499 - acc: 0.3273 - val_loss: 1.3610 - val_acc: 0.3101\n",
      "Epoch 36/100\n",
      "30589/30589 [==============================] - 0s 9us/step - loss: 1.3496 - acc: 0.3286 - val_loss: 1.3603 - val_acc: 0.3073\n",
      "Epoch 37/100\n",
      "30589/30589 [==============================] - 0s 9us/step - loss: 1.3499 - acc: 0.3279 - val_loss: 1.3625 - val_acc: 0.3124\n",
      "Epoch 38/100\n",
      "30589/30589 [==============================] - 0s 9us/step - loss: 1.3491 - acc: 0.3279 - val_loss: 1.3612 - val_acc: 0.3167\n",
      "Epoch 39/100\n",
      "30589/30589 [==============================] - 0s 9us/step - loss: 1.3488 - acc: 0.3267 - val_loss: 1.3618 - val_acc: 0.3139\n",
      "Epoch 40/100\n",
      "30589/30589 [==============================] - 0s 9us/step - loss: 1.3487 - acc: 0.3279 - val_loss: 1.3618 - val_acc: 0.3146\n",
      "Epoch 41/100\n",
      "30589/30589 [==============================] - 0s 12us/step - loss: 1.3483 - acc: 0.3301 - val_loss: 1.3645 - val_acc: 0.3185\n",
      "Epoch 42/100\n",
      "30589/30589 [==============================] - 0s 11us/step - loss: 1.3484 - acc: 0.3310 - val_loss: 1.3627 - val_acc: 0.3179\n",
      "Epoch 43/100\n",
      "30589/30589 [==============================] - 0s 11us/step - loss: 1.3480 - acc: 0.3309 - val_loss: 1.3634 - val_acc: 0.3154\n",
      "Epoch 44/100\n",
      "30589/30589 [==============================] - 0s 10us/step - loss: 1.3482 - acc: 0.3293 - val_loss: 1.3644 - val_acc: 0.3152\n",
      "Epoch 45/100\n",
      "30589/30589 [==============================] - 0s 10us/step - loss: 1.3472 - acc: 0.3316 - val_loss: 1.3624 - val_acc: 0.3167\n",
      "Epoch 46/100\n",
      "30589/30589 [==============================] - 0s 11us/step - loss: 1.3470 - acc: 0.3325 - val_loss: 1.3666 - val_acc: 0.2993\n",
      "Epoch 47/100\n",
      "30589/30589 [==============================] - 0s 10us/step - loss: 1.3470 - acc: 0.3302 - val_loss: 1.3659 - val_acc: 0.3078\n",
      "Epoch 48/100\n",
      "30589/30589 [==============================] - 0s 10us/step - loss: 1.3470 - acc: 0.3319 - val_loss: 1.3609 - val_acc: 0.3118\n",
      "Epoch 49/100\n",
      "30589/30589 [==============================] - 0s 13us/step - loss: 1.3463 - acc: 0.3314 - val_loss: 1.3688 - val_acc: 0.3156\n",
      "Epoch 50/100\n",
      "30589/30589 [==============================] - 0s 9us/step - loss: 1.3465 - acc: 0.3314 - val_loss: 1.3628 - val_acc: 0.3126\n",
      "Epoch 51/100\n",
      "30589/30589 [==============================] - 0s 10us/step - loss: 1.3466 - acc: 0.3315 - val_loss: 1.3631 - val_acc: 0.3164\n",
      "Epoch 52/100\n",
      "30589/30589 [==============================] - 0s 9us/step - loss: 1.3459 - acc: 0.3321 - val_loss: 1.3617 - val_acc: 0.3096\n",
      "Epoch 53/100\n",
      "30589/30589 [==============================] - 0s 9us/step - loss: 1.3457 - acc: 0.3324 - val_loss: 1.3625 - val_acc: 0.3181\n",
      "Epoch 54/100\n",
      "30589/30589 [==============================] - 0s 10us/step - loss: 1.3453 - acc: 0.3319 - val_loss: 1.3632 - val_acc: 0.3130\n",
      "Epoch 55/100\n",
      "30589/30589 [==============================] - 0s 11us/step - loss: 1.3454 - acc: 0.3356 - val_loss: 1.3626 - val_acc: 0.3151\n",
      "Epoch 56/100\n",
      "30589/30589 [==============================] - 0s 13us/step - loss: 1.3450 - acc: 0.3366 - val_loss: 1.3636 - val_acc: 0.3156\n",
      "Epoch 57/100\n",
      "30589/30589 [==============================] - 0s 11us/step - loss: 1.3447 - acc: 0.3332 - val_loss: 1.3642 - val_acc: 0.3166\n",
      "Epoch 58/100\n",
      "30589/30589 [==============================] - 0s 9us/step - loss: 1.3445 - acc: 0.3344 - val_loss: 1.3632 - val_acc: 0.3194\n",
      "Epoch 59/100\n",
      "30589/30589 [==============================] - 0s 10us/step - loss: 1.3444 - acc: 0.3336 - val_loss: 1.3638 - val_acc: 0.3181\n"
     ]
    },
    {
     "name": "stdout",
     "output_type": "stream",
     "text": [
      "Epoch 60/100\n",
      "30589/30589 [==============================] - 0s 11us/step - loss: 1.3444 - acc: 0.3347 - val_loss: 1.3686 - val_acc: 0.3115\n",
      "Epoch 61/100\n",
      "30589/30589 [==============================] - 0s 9us/step - loss: 1.3442 - acc: 0.3322 - val_loss: 1.3702 - val_acc: 0.3150\n",
      "Epoch 62/100\n",
      "30589/30589 [==============================] - 0s 12us/step - loss: 1.3439 - acc: 0.3370 - val_loss: 1.3659 - val_acc: 0.3115\n",
      "Epoch 63/100\n",
      "30589/30589 [==============================] - 0s 12us/step - loss: 1.3436 - acc: 0.3366 - val_loss: 1.3639 - val_acc: 0.3108\n",
      "Epoch 64/100\n",
      "30589/30589 [==============================] - 0s 9us/step - loss: 1.3440 - acc: 0.3355 - val_loss: 1.3662 - val_acc: 0.3108\n",
      "Epoch 65/100\n",
      "30589/30589 [==============================] - 0s 9us/step - loss: 1.3437 - acc: 0.3350 - val_loss: 1.3645 - val_acc: 0.3155\n",
      "Epoch 66/100\n",
      "30589/30589 [==============================] - 0s 9us/step - loss: 1.3432 - acc: 0.3342 - val_loss: 1.3634 - val_acc: 0.3133\n",
      "Epoch 67/100\n",
      "30589/30589 [==============================] - 0s 10us/step - loss: 1.3426 - acc: 0.3369 - val_loss: 1.3642 - val_acc: 0.3196\n",
      "Epoch 68/100\n",
      "30589/30589 [==============================] - 0s 12us/step - loss: 1.3432 - acc: 0.3349 - val_loss: 1.3615 - val_acc: 0.3186\n",
      "Epoch 69/100\n",
      "30589/30589 [==============================] - 0s 12us/step - loss: 1.3426 - acc: 0.3364 - val_loss: 1.3679 - val_acc: 0.3124\n",
      "Epoch 70/100\n",
      "30589/30589 [==============================] - 0s 11us/step - loss: 1.3429 - acc: 0.3356 - val_loss: 1.3685 - val_acc: 0.3122\n",
      "Epoch 71/100\n",
      "30589/30589 [==============================] - 0s 10us/step - loss: 1.3428 - acc: 0.3371 - val_loss: 1.3640 - val_acc: 0.3188\n",
      "Epoch 72/100\n",
      "30589/30589 [==============================] - 0s 10us/step - loss: 1.3427 - acc: 0.3363 - val_loss: 1.3718 - val_acc: 0.3139\n",
      "Epoch 73/100\n",
      "30589/30589 [==============================] - 0s 10us/step - loss: 1.3426 - acc: 0.3359 - val_loss: 1.3689 - val_acc: 0.3071\n",
      "Epoch 74/100\n",
      "30589/30589 [==============================] - 0s 9us/step - loss: 1.3425 - acc: 0.3392 - val_loss: 1.3634 - val_acc: 0.3176\n",
      "Epoch 75/100\n",
      "30589/30589 [==============================] - 0s 11us/step - loss: 1.3421 - acc: 0.3400 - val_loss: 1.3626 - val_acc: 0.3202\n",
      "Epoch 76/100\n",
      "30589/30589 [==============================] - 0s 11us/step - loss: 1.3423 - acc: 0.3362 - val_loss: 1.3628 - val_acc: 0.3186\n",
      "Epoch 77/100\n",
      "30589/30589 [==============================] - 0s 10us/step - loss: 1.3415 - acc: 0.3396 - val_loss: 1.3638 - val_acc: 0.3160\n",
      "Epoch 78/100\n",
      "30589/30589 [==============================] - 0s 10us/step - loss: 1.3417 - acc: 0.3383 - val_loss: 1.3635 - val_acc: 0.3198\n",
      "Epoch 79/100\n",
      "30589/30589 [==============================] - 0s 10us/step - loss: 1.3420 - acc: 0.3387 - val_loss: 1.3653 - val_acc: 0.3160\n",
      "Epoch 80/100\n",
      "30589/30589 [==============================] - 0s 9us/step - loss: 1.3417 - acc: 0.3385 - val_loss: 1.3625 - val_acc: 0.3118\n",
      "Epoch 81/100\n",
      "30589/30589 [==============================] - 0s 12us/step - loss: 1.3411 - acc: 0.3382 - val_loss: 1.3628 - val_acc: 0.3220\n",
      "Epoch 82/100\n",
      "30589/30589 [==============================] - 0s 12us/step - loss: 1.3415 - acc: 0.3377 - val_loss: 1.3623 - val_acc: 0.3241\n",
      "Epoch 83/100\n",
      "30589/30589 [==============================] - 0s 9us/step - loss: 1.3413 - acc: 0.3398 - val_loss: 1.3637 - val_acc: 0.3045\n",
      "Epoch 84/100\n",
      "30589/30589 [==============================] - 0s 13us/step - loss: 1.3406 - acc: 0.3374 - val_loss: 1.3659 - val_acc: 0.3218\n",
      "Epoch 85/100\n",
      "30589/30589 [==============================] - 0s 12us/step - loss: 1.3405 - acc: 0.3423 - val_loss: 1.3637 - val_acc: 0.3226\n",
      "Epoch 86/100\n",
      "30589/30589 [==============================] - 0s 10us/step - loss: 1.3408 - acc: 0.3387 - val_loss: 1.3652 - val_acc: 0.3185\n",
      "Epoch 87/100\n",
      "30589/30589 [==============================] - 0s 9us/step - loss: 1.3406 - acc: 0.3373 - val_loss: 1.3649 - val_acc: 0.3235\n",
      "Epoch 88/100\n",
      "30589/30589 [==============================] - 0s 9us/step - loss: 1.3408 - acc: 0.3399 - val_loss: 1.3647 - val_acc: 0.3160\n",
      "Epoch 89/100\n",
      "30589/30589 [==============================] - 0s 9us/step - loss: 1.3410 - acc: 0.3404 - val_loss: 1.3649 - val_acc: 0.3231\n",
      "Epoch 90/100\n",
      "30589/30589 [==============================] - 0s 9us/step - loss: 1.3408 - acc: 0.3376 - val_loss: 1.3651 - val_acc: 0.3135\n",
      "Epoch 91/100\n",
      "30589/30589 [==============================] - 0s 9us/step - loss: 1.3402 - acc: 0.3398 - val_loss: 1.3659 - val_acc: 0.3202\n",
      "Epoch 92/100\n",
      "30589/30589 [==============================] - 0s 14us/step - loss: 1.3401 - acc: 0.3402 - val_loss: 1.3608 - val_acc: 0.3186\n",
      "Epoch 93/100\n",
      "30589/30589 [==============================] - 0s 12us/step - loss: 1.3400 - acc: 0.3405 - val_loss: 1.3606 - val_acc: 0.3214\n",
      "Epoch 94/100\n",
      "30589/30589 [==============================] - 0s 10us/step - loss: 1.3401 - acc: 0.3421 - val_loss: 1.3714 - val_acc: 0.3197\n",
      "Epoch 95/100\n",
      "30589/30589 [==============================] - 0s 10us/step - loss: 1.3395 - acc: 0.3400 - val_loss: 1.3661 - val_acc: 0.3069\n",
      "Epoch 96/100\n",
      "30589/30589 [==============================] - 0s 12us/step - loss: 1.3398 - acc: 0.3404 - val_loss: 1.3673 - val_acc: 0.3180\n",
      "Epoch 97/100\n",
      "30589/30589 [==============================] - 0s 14us/step - loss: 1.3402 - acc: 0.3401 - val_loss: 1.3682 - val_acc: 0.3185\n",
      "Epoch 98/100\n",
      "30589/30589 [==============================] - 1s 18us/step - loss: 1.3394 - acc: 0.3392 - val_loss: 1.3643 - val_acc: 0.3201\n",
      "Epoch 99/100\n",
      "30589/30589 [==============================] - 0s 16us/step - loss: 1.3396 - acc: 0.3406 - val_loss: 1.3645 - val_acc: 0.3079\n",
      "Epoch 100/100\n",
      "30589/30589 [==============================] - 0s 12us/step - loss: 1.3392 - acc: 0.3383 - val_loss: 1.3668 - val_acc: 0.3219\n"
     ]
    },
    {
     "data": {
      "text/plain": [
       "<keras.callbacks.History at 0x1a29643978>"
      ]
     },
     "execution_count": 12,
     "metadata": {},
     "output_type": "execute_result"
    }
   ],
   "source": [
    "model.fit(X_train, Y_train, epochs=100, batch_size=128, validation_data=(X_test, Y_test), shuffle=True, callbacks=[tensorboard])"
   ]
  },
  {
   "cell_type": "code",
   "execution_count": null,
   "metadata": {},
   "outputs": [],
   "source": [
    "model.evaluate(x=X_test, y=Y_test, verbose=1)"
   ]
  },
  {
   "cell_type": "code",
   "execution_count": 14,
   "metadata": {},
   "outputs": [],
   "source": [
    "model = Sequential()\n",
    "model.add(Embedding(input_dim=1000, output_dim=50, input_length=10))\n",
    "model.add(Flatten())\n",
    "model.add(Dense(128, input_shape=X_train[0].shape, activation='relu'))\n",
    "model.add(Dense(64, activation='relu'))\n",
    "model.add(Dense(4, activation='softmax'))"
   ]
  },
  {
   "cell_type": "code",
   "execution_count": 15,
   "metadata": {},
   "outputs": [],
   "source": [
    "optimizer = RMSprop(lr=0.001)\n",
    "tensorboard = TensorBoard(log_dir='./logs/10_word_ffn_embed', histogram_freq=0,\n",
    "                          write_graph=True, write_images=True)\n",
    "model.compile(loss='categorical_crossentropy', optimizer=optimizer, metrics=['accuracy'])"
   ]
  },
  {
   "cell_type": "code",
   "execution_count": 16,
   "metadata": {},
   "outputs": [
    {
     "name": "stdout",
     "output_type": "stream",
     "text": [
      "Train on 30589 samples, validate on 7648 samples\n",
      "Epoch 1/100\n",
      "30589/30589 [==============================] - 1s 24us/step - loss: 1.3592 - acc: 0.3135 - val_loss: 1.3533 - val_acc: 0.3202\n",
      "Epoch 2/100\n",
      "30589/30589 [==============================] - 1s 18us/step - loss: 1.3489 - acc: 0.3299 - val_loss: 1.3504 - val_acc: 0.3332\n",
      "Epoch 3/100\n",
      "30589/30589 [==============================] - 1s 18us/step - loss: 1.3453 - acc: 0.3350 - val_loss: 1.3517 - val_acc: 0.3218\n",
      "Epoch 4/100\n",
      "30589/30589 [==============================] - 1s 17us/step - loss: 1.3424 - acc: 0.3404 - val_loss: 1.3493 - val_acc: 0.3269\n",
      "Epoch 5/100\n",
      "30589/30589 [==============================] - 1s 18us/step - loss: 1.3395 - acc: 0.3430 - val_loss: 1.3495 - val_acc: 0.3304\n",
      "Epoch 6/100\n",
      "30589/30589 [==============================] - 1s 18us/step - loss: 1.3373 - acc: 0.3455 - val_loss: 1.3484 - val_acc: 0.3305\n",
      "Epoch 7/100\n",
      "30589/30589 [==============================] - 1s 22us/step - loss: 1.3345 - acc: 0.3469 - val_loss: 1.3465 - val_acc: 0.3261\n",
      "Epoch 8/100\n",
      "30589/30589 [==============================] - 1s 24us/step - loss: 1.3319 - acc: 0.3496 - val_loss: 1.3478 - val_acc: 0.3309\n",
      "Epoch 9/100\n",
      "30589/30589 [==============================] - 1s 28us/step - loss: 1.3292 - acc: 0.3506 - val_loss: 1.3511 - val_acc: 0.3269\n",
      "Epoch 10/100\n",
      "30589/30589 [==============================] - 1s 21us/step - loss: 1.3264 - acc: 0.3543 - val_loss: 1.3520 - val_acc: 0.3305\n",
      "Epoch 11/100\n",
      "30589/30589 [==============================] - 1s 19us/step - loss: 1.3237 - acc: 0.3554 - val_loss: 1.3515 - val_acc: 0.3316\n",
      "Epoch 12/100\n",
      "30589/30589 [==============================] - 1s 20us/step - loss: 1.3219 - acc: 0.3577 - val_loss: 1.3528 - val_acc: 0.3245\n",
      "Epoch 13/100\n",
      "30589/30589 [==============================] - 1s 21us/step - loss: 1.3190 - acc: 0.3595 - val_loss: 1.3538 - val_acc: 0.3256\n",
      "Epoch 14/100\n",
      "30589/30589 [==============================] - 1s 34us/step - loss: 1.3170 - acc: 0.3600 - val_loss: 1.3548 - val_acc: 0.3251\n",
      "Epoch 15/100\n",
      "30589/30589 [==============================] - 1s 35us/step - loss: 1.3138 - acc: 0.3645 - val_loss: 1.3547 - val_acc: 0.3312\n",
      "Epoch 16/100\n",
      "30589/30589 [==============================] - 1s 22us/step - loss: 1.3117 - acc: 0.3617 - val_loss: 1.3592 - val_acc: 0.3305\n",
      "Epoch 17/100\n",
      "30589/30589 [==============================] - 1s 19us/step - loss: 1.3090 - acc: 0.3646 - val_loss: 1.3612 - val_acc: 0.3264\n",
      "Epoch 18/100\n",
      "30589/30589 [==============================] - 1s 23us/step - loss: 1.3062 - acc: 0.3673 - val_loss: 1.3581 - val_acc: 0.3278\n",
      "Epoch 19/100\n",
      "30589/30589 [==============================] - 1s 21us/step - loss: 1.3041 - acc: 0.3691 - val_loss: 1.3649 - val_acc: 0.3248\n",
      "Epoch 20/100\n",
      "30589/30589 [==============================] - 1s 20us/step - loss: 1.3015 - acc: 0.3709 - val_loss: 1.3644 - val_acc: 0.3203\n",
      "Epoch 21/100\n",
      "30589/30589 [==============================] - 1s 22us/step - loss: 1.2987 - acc: 0.3713 - val_loss: 1.3653 - val_acc: 0.3265\n",
      "Epoch 22/100\n",
      "30589/30589 [==============================] - 1s 20us/step - loss: 1.2965 - acc: 0.3714 - val_loss: 1.3728 - val_acc: 0.3248\n",
      "Epoch 23/100\n",
      "30589/30589 [==============================] - 1s 20us/step - loss: 1.2942 - acc: 0.3744 - val_loss: 1.3692 - val_acc: 0.3304\n",
      "Epoch 24/100\n",
      "30589/30589 [==============================] - 1s 20us/step - loss: 1.2916 - acc: 0.3757 - val_loss: 1.3746 - val_acc: 0.3232\n",
      "Epoch 25/100\n",
      "30589/30589 [==============================] - 1s 19us/step - loss: 1.2897 - acc: 0.3746 - val_loss: 1.3735 - val_acc: 0.3264\n",
      "Epoch 26/100\n",
      "30589/30589 [==============================] - 1s 20us/step - loss: 1.2876 - acc: 0.3741 - val_loss: 1.3761 - val_acc: 0.3316\n",
      "Epoch 27/100\n",
      "30589/30589 [==============================] - 1s 19us/step - loss: 1.2855 - acc: 0.3773 - val_loss: 1.3794 - val_acc: 0.3282\n",
      "Epoch 28/100\n",
      "30589/30589 [==============================] - 1s 25us/step - loss: 1.2835 - acc: 0.3793 - val_loss: 1.3813 - val_acc: 0.3262\n",
      "Epoch 29/100\n",
      "30589/30589 [==============================] - 1s 25us/step - loss: 1.2810 - acc: 0.3810 - val_loss: 1.3815 - val_acc: 0.3271\n",
      "Epoch 30/100\n",
      "30589/30589 [==============================] - 1s 22us/step - loss: 1.2783 - acc: 0.3826 - val_loss: 1.3846 - val_acc: 0.3324\n",
      "Epoch 31/100\n",
      "30589/30589 [==============================] - 1s 27us/step - loss: 1.2766 - acc: 0.3838 - val_loss: 1.3934 - val_acc: 0.3286\n",
      "Epoch 32/100\n",
      "30589/30589 [==============================] - 1s 24us/step - loss: 1.2756 - acc: 0.3818 - val_loss: 1.3886 - val_acc: 0.3268\n",
      "Epoch 33/100\n",
      "30589/30589 [==============================] - 1s 19us/step - loss: 1.2731 - acc: 0.3850 - val_loss: 1.3960 - val_acc: 0.3258\n",
      "Epoch 34/100\n",
      "30589/30589 [==============================] - 1s 18us/step - loss: 1.2718 - acc: 0.3846 - val_loss: 1.3989 - val_acc: 0.3286\n",
      "Epoch 35/100\n",
      "30589/30589 [==============================] - 1s 19us/step - loss: 1.2700 - acc: 0.3852 - val_loss: 1.3962 - val_acc: 0.3264\n",
      "Epoch 36/100\n",
      "30589/30589 [==============================] - 1s 19us/step - loss: 1.2687 - acc: 0.3877 - val_loss: 1.3943 - val_acc: 0.3235\n",
      "Epoch 37/100\n",
      "30589/30589 [==============================] - 1s 19us/step - loss: 1.2673 - acc: 0.3878 - val_loss: 1.4053 - val_acc: 0.3277\n",
      "Epoch 38/100\n",
      "30589/30589 [==============================] - 1s 23us/step - loss: 1.2652 - acc: 0.3888 - val_loss: 1.4065 - val_acc: 0.3224\n",
      "Epoch 39/100\n",
      "30589/30589 [==============================] - 1s 22us/step - loss: 1.2636 - acc: 0.3888 - val_loss: 1.4048 - val_acc: 0.3262\n",
      "Epoch 40/100\n",
      "30589/30589 [==============================] - 1s 25us/step - loss: 1.2618 - acc: 0.3899 - val_loss: 1.4163 - val_acc: 0.3298\n",
      "Epoch 41/100\n",
      "30589/30589 [==============================] - 1s 19us/step - loss: 1.2608 - acc: 0.3912 - val_loss: 1.4206 - val_acc: 0.3273\n",
      "Epoch 42/100\n",
      "30589/30589 [==============================] - 1s 18us/step - loss: 1.2588 - acc: 0.3905 - val_loss: 1.4135 - val_acc: 0.3260\n",
      "Epoch 43/100\n",
      "30589/30589 [==============================] - 1s 18us/step - loss: 1.2582 - acc: 0.3902 - val_loss: 1.4301 - val_acc: 0.3269\n",
      "Epoch 44/100\n",
      "30589/30589 [==============================] - 1s 18us/step - loss: 1.2572 - acc: 0.3923 - val_loss: 1.4212 - val_acc: 0.3296\n",
      "Epoch 45/100\n",
      "30589/30589 [==============================] - 1s 20us/step - loss: 1.2554 - acc: 0.3924 - val_loss: 1.4247 - val_acc: 0.3282\n",
      "Epoch 46/100\n",
      "30589/30589 [==============================] - 1s 21us/step - loss: 1.2543 - acc: 0.3939 - val_loss: 1.4270 - val_acc: 0.3249\n",
      "Epoch 47/100\n",
      "30589/30589 [==============================] - 1s 21us/step - loss: 1.2532 - acc: 0.3944 - val_loss: 1.4351 - val_acc: 0.3251\n",
      "Epoch 48/100\n",
      "30589/30589 [==============================] - 1s 21us/step - loss: 1.2521 - acc: 0.3944 - val_loss: 1.4391 - val_acc: 0.3274\n",
      "Epoch 49/100\n",
      "30589/30589 [==============================] - 1s 18us/step - loss: 1.2509 - acc: 0.3944 - val_loss: 1.4378 - val_acc: 0.3237\n",
      "Epoch 50/100\n",
      "30589/30589 [==============================] - 1s 22us/step - loss: 1.2496 - acc: 0.3954 - val_loss: 1.4390 - val_acc: 0.3257\n",
      "Epoch 51/100\n",
      "30589/30589 [==============================] - 1s 19us/step - loss: 1.2479 - acc: 0.3958 - val_loss: 1.4490 - val_acc: 0.3291\n",
      "Epoch 52/100\n",
      "30589/30589 [==============================] - 1s 19us/step - loss: 1.2483 - acc: 0.3949 - val_loss: 1.4440 - val_acc: 0.3316\n",
      "Epoch 53/100\n",
      "30589/30589 [==============================] - 1s 19us/step - loss: 1.2463 - acc: 0.3949 - val_loss: 1.4580 - val_acc: 0.3254\n",
      "Epoch 54/100\n",
      "30589/30589 [==============================] - 1s 19us/step - loss: 1.2459 - acc: 0.3958 - val_loss: 1.4513 - val_acc: 0.3294\n",
      "Epoch 55/100\n",
      "30589/30589 [==============================] - 1s 18us/step - loss: 1.2450 - acc: 0.3982 - val_loss: 1.4502 - val_acc: 0.3215\n",
      "Epoch 56/100\n",
      "30589/30589 [==============================] - 1s 18us/step - loss: 1.2442 - acc: 0.3960 - val_loss: 1.4557 - val_acc: 0.3213\n",
      "Epoch 57/100\n",
      "30589/30589 [==============================] - 1s 19us/step - loss: 1.2429 - acc: 0.3978 - val_loss: 1.4600 - val_acc: 0.3230\n",
      "Epoch 58/100\n",
      "30589/30589 [==============================] - 1s 18us/step - loss: 1.2422 - acc: 0.3979 - val_loss: 1.4599 - val_acc: 0.3270\n",
      "Epoch 59/100\n"
     ]
    },
    {
     "name": "stdout",
     "output_type": "stream",
     "text": [
      "30589/30589 [==============================] - 1s 17us/step - loss: 1.2414 - acc: 0.3985 - val_loss: 1.4692 - val_acc: 0.3219\n",
      "Epoch 60/100\n",
      "30589/30589 [==============================] - 1s 21us/step - loss: 1.2403 - acc: 0.3982 - val_loss: 1.4667 - val_acc: 0.3258\n",
      "Epoch 61/100\n",
      "30589/30589 [==============================] - 1s 17us/step - loss: 1.2398 - acc: 0.3982 - val_loss: 1.4720 - val_acc: 0.3271\n",
      "Epoch 62/100\n",
      "30589/30589 [==============================] - 1s 23us/step - loss: 1.2396 - acc: 0.4011 - val_loss: 1.4861 - val_acc: 0.3302\n",
      "Epoch 63/100\n",
      "30589/30589 [==============================] - 1s 17us/step - loss: 1.2385 - acc: 0.4002 - val_loss: 1.4759 - val_acc: 0.3222\n",
      "Epoch 64/100\n",
      "30589/30589 [==============================] - 1s 22us/step - loss: 1.2384 - acc: 0.4015 - val_loss: 1.4707 - val_acc: 0.3201\n",
      "Epoch 65/100\n",
      "30589/30589 [==============================] - 1s 23us/step - loss: 1.2371 - acc: 0.3990 - val_loss: 1.4665 - val_acc: 0.3279\n",
      "Epoch 66/100\n",
      "30589/30589 [==============================] - 1s 18us/step - loss: 1.2372 - acc: 0.3998 - val_loss: 1.4739 - val_acc: 0.3281\n",
      "Epoch 67/100\n",
      "30589/30589 [==============================] - 1s 21us/step - loss: 1.2358 - acc: 0.4000 - val_loss: 1.4873 - val_acc: 0.3239\n",
      "Epoch 68/100\n",
      "30589/30589 [==============================] - 1s 18us/step - loss: 1.2351 - acc: 0.3999 - val_loss: 1.4903 - val_acc: 0.3235\n",
      "Epoch 69/100\n",
      "30589/30589 [==============================] - 1s 18us/step - loss: 1.2348 - acc: 0.3995 - val_loss: 1.4893 - val_acc: 0.3244\n",
      "Epoch 70/100\n",
      "30589/30589 [==============================] - 1s 17us/step - loss: 1.2348 - acc: 0.4029 - val_loss: 1.4938 - val_acc: 0.3281\n",
      "Epoch 71/100\n",
      "30589/30589 [==============================] - 1s 17us/step - loss: 1.2337 - acc: 0.4036 - val_loss: 1.4905 - val_acc: 0.3236\n",
      "Epoch 72/100\n",
      "30589/30589 [==============================] - 1s 20us/step - loss: 1.2329 - acc: 0.4008 - val_loss: 1.4985 - val_acc: 0.3295\n",
      "Epoch 73/100\n",
      "30589/30589 [==============================] - 1s 29us/step - loss: 1.2333 - acc: 0.3998 - val_loss: 1.4981 - val_acc: 0.3214\n",
      "Epoch 74/100\n",
      "30589/30589 [==============================] - 1s 22us/step - loss: 1.2325 - acc: 0.3988 - val_loss: 1.4881 - val_acc: 0.3258\n",
      "Epoch 75/100\n",
      "30589/30589 [==============================] - 1s 18us/step - loss: 1.2318 - acc: 0.4025 - val_loss: 1.4987 - val_acc: 0.3181\n",
      "Epoch 76/100\n",
      "30589/30589 [==============================] - 1s 17us/step - loss: 1.2315 - acc: 0.4027 - val_loss: 1.4910 - val_acc: 0.3245\n",
      "Epoch 77/100\n",
      "30589/30589 [==============================] - 1s 21us/step - loss: 1.2311 - acc: 0.4015 - val_loss: 1.5154 - val_acc: 0.3237\n",
      "Epoch 78/100\n",
      "30589/30589 [==============================] - 1s 17us/step - loss: 1.2314 - acc: 0.4015 - val_loss: 1.5259 - val_acc: 0.3251\n",
      "Epoch 79/100\n",
      "30589/30589 [==============================] - 1s 20us/step - loss: 1.2298 - acc: 0.4019 - val_loss: 1.5114 - val_acc: 0.3248\n",
      "Epoch 80/100\n",
      "30589/30589 [==============================] - 1s 19us/step - loss: 1.2307 - acc: 0.4015 - val_loss: 1.5077 - val_acc: 0.3275\n",
      "Epoch 81/100\n",
      "30589/30589 [==============================] - 1s 26us/step - loss: 1.2292 - acc: 0.4016 - val_loss: 1.5017 - val_acc: 0.3245\n",
      "Epoch 82/100\n",
      "30589/30589 [==============================] - 1s 18us/step - loss: 1.2294 - acc: 0.4011 - val_loss: 1.5102 - val_acc: 0.3248\n",
      "Epoch 83/100\n",
      "30589/30589 [==============================] - 1s 20us/step - loss: 1.2294 - acc: 0.4000 - val_loss: 1.5101 - val_acc: 0.3274\n",
      "Epoch 84/100\n",
      "30589/30589 [==============================] - 1s 22us/step - loss: 1.2289 - acc: 0.4009 - val_loss: 1.5210 - val_acc: 0.3269\n",
      "Epoch 85/100\n",
      "30589/30589 [==============================] - 1s 22us/step - loss: 1.2284 - acc: 0.4021 - val_loss: 1.5119 - val_acc: 0.3241\n",
      "Epoch 86/100\n",
      "30589/30589 [==============================] - 1s 21us/step - loss: 1.2282 - acc: 0.4026 - val_loss: 1.5129 - val_acc: 0.3245\n",
      "Epoch 87/100\n",
      "30589/30589 [==============================] - 1s 17us/step - loss: 1.2278 - acc: 0.4033 - val_loss: 1.5136 - val_acc: 0.3260\n",
      "Epoch 88/100\n",
      "30589/30589 [==============================] - 1s 21us/step - loss: 1.2279 - acc: 0.4003 - val_loss: 1.5232 - val_acc: 0.3223\n",
      "Epoch 89/100\n",
      "30589/30589 [==============================] - 1s 20us/step - loss: 1.2271 - acc: 0.4024 - val_loss: 1.5117 - val_acc: 0.3217\n",
      "Epoch 90/100\n",
      "30589/30589 [==============================] - 1s 19us/step - loss: 1.2270 - acc: 0.4033 - val_loss: 1.5302 - val_acc: 0.3247\n",
      "Epoch 91/100\n",
      "30589/30589 [==============================] - 1s 20us/step - loss: 1.2265 - acc: 0.4041 - val_loss: 1.5390 - val_acc: 0.3218\n",
      "Epoch 92/100\n",
      "30589/30589 [==============================] - 1s 24us/step - loss: 1.2269 - acc: 0.4037 - val_loss: 1.5230 - val_acc: 0.3235\n",
      "Epoch 93/100\n",
      "30589/30589 [==============================] - 1s 24us/step - loss: 1.2259 - acc: 0.4044 - val_loss: 1.5195 - val_acc: 0.3227\n",
      "Epoch 94/100\n",
      "30589/30589 [==============================] - 1s 28us/step - loss: 1.2268 - acc: 0.4023 - val_loss: 1.5209 - val_acc: 0.3252\n",
      "Epoch 95/100\n",
      "30589/30589 [==============================] - 1s 22us/step - loss: 1.2268 - acc: 0.4027 - val_loss: 1.5375 - val_acc: 0.3241\n",
      "Epoch 96/100\n",
      "30589/30589 [==============================] - 1s 17us/step - loss: 1.2264 - acc: 0.4033 - val_loss: 1.5266 - val_acc: 0.3260\n",
      "Epoch 97/100\n",
      "30589/30589 [==============================] - 1s 17us/step - loss: 1.2254 - acc: 0.4028 - val_loss: 1.5546 - val_acc: 0.3206\n",
      "Epoch 98/100\n",
      "30589/30589 [==============================] - 1s 17us/step - loss: 1.2259 - acc: 0.4037 - val_loss: 1.5491 - val_acc: 0.3317\n",
      "Epoch 99/100\n",
      "30589/30589 [==============================] - 1s 17us/step - loss: 1.2242 - acc: 0.4019 - val_loss: 1.5513 - val_acc: 0.3290\n",
      "Epoch 100/100\n",
      "30589/30589 [==============================] - 1s 17us/step - loss: 1.2248 - acc: 0.4024 - val_loss: 1.5427 - val_acc: 0.3247\n"
     ]
    },
    {
     "data": {
      "text/plain": [
       "<keras.callbacks.History at 0x1a2d6339e8>"
      ]
     },
     "execution_count": 16,
     "metadata": {},
     "output_type": "execute_result"
    }
   ],
   "source": [
    "model.fit(X_train, Y_train, epochs=100, batch_size=128, validation_data=(X_test, Y_test), shuffle=True, callbacks=[tensorboard])\n"
   ]
  },
  {
   "cell_type": "code",
   "execution_count": 74,
   "metadata": {},
   "outputs": [
    {
     "name": "stdout",
     "output_type": "stream",
     "text": [
      "7648/7648 [==============================] - 0s 34us/step\n"
     ]
    },
    {
     "data": {
      "text/plain": [
       "[1.3543388035506883, 0.33734309623430964]"
      ]
     },
     "execution_count": 74,
     "metadata": {},
     "output_type": "execute_result"
    }
   ],
   "source": [
    "model.evaluate(x=X_test, y=Y_test, verbose=1)\n"
   ]
  },
  {
   "cell_type": "code",
   "execution_count": 77,
   "metadata": {},
   "outputs": [
    {
     "data": {
      "text/plain": [
       "['oh', 'baby', 'how', 'you', 'doing', 'you', 'know', 'im', 'gonna', 'cut']"
      ]
     },
     "execution_count": 77,
     "metadata": {},
     "output_type": "execute_result"
    }
   ],
   "source": [
    "df.iloc[0].lyrics\n"
   ]
  },
  {
   "cell_type": "code",
   "execution_count": null,
   "metadata": {},
   "outputs": [],
   "source": []
  }
 ],
 "metadata": {
  "kernelspec": {
   "display_name": "Python 3",
   "language": "python",
   "name": "python3"
  },
  "language_info": {
   "codemirror_mode": {
    "name": "ipython",
    "version": 3
   },
   "file_extension": ".py",
   "mimetype": "text/x-python",
   "name": "python",
   "nbconvert_exporter": "python",
   "pygments_lexer": "ipython3",
   "version": "3.6.7"
  }
 },
 "nbformat": 4,
 "nbformat_minor": 2
}
