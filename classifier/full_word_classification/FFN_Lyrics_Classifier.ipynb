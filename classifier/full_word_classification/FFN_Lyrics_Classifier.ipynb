{
 "cells": [
  {
   "cell_type": "code",
   "execution_count": 1,
   "metadata": {},
   "outputs": [
    {
     "name": "stderr",
     "output_type": "stream",
     "text": [
      "Using TensorFlow backend.\n"
     ]
    }
   ],
   "source": [
    "import pandas as pd\n",
    "import seaborn as sns\n",
    "from keras.models import Sequential\n",
    "from keras.layers import LSTM, Activation, Dense, Dropout, Input, Embedding, Flatten, Bidirectional\n",
    "from keras.optimizers import Adam\n",
    "from keras.models import Model\n",
    "from keras.optimizers import RMSprop\n",
    "from keras.callbacks import EarlyStopping\n",
    "from keras.preprocessing.text import Tokenizer\n",
    "from keras.preprocessing import sequence\n",
    "from keras.preprocessing.text import text_to_word_sequence\n",
    "from keras.utils import np_utils\n",
    "#sklearn imports\n",
    "from sklearn.preprocessing import LabelEncoder\n",
    "from sklearn.preprocessing import OneHotEncoder\n",
    "from sklearn.model_selection import train_test_split"
   ]
  },
  {
   "cell_type": "code",
   "execution_count": 4,
   "metadata": {},
   "outputs": [
    {
     "name": "stdout",
     "output_type": "stream",
     "text": [
      "12\n",
      "362237\n"
     ]
    },
    {
     "data": {
      "text/plain": [
       "<matplotlib.axes._subplots.AxesSubplot at 0x1a319583c8>"
      ]
     },
     "execution_count": 4,
     "metadata": {},
     "output_type": "execute_result"
    },
    {
     "data": {
      "image/png": "[encoded data removed]",
      "text/plain": [
       "<Figure size 432x288 with 1 Axes>"
      ]
     },
     "metadata": {
      "needs_background": "light"
     },
     "output_type": "display_data"
    }
   ],
   "source": [
    "df = pd.read_pickle('../data/lyrics.pkl', compression='gzip')\n",
    "print(len(set(list(df.genre))))\n",
    "print(len(df))\n",
    "sns.countplot(df.genre)"
   ]
  },
  {
   "cell_type": "code",
   "execution_count": 5,
   "metadata": {},
   "outputs": [
    {
     "data": {
      "text/html": [
       "<div>\n",
       "<style scoped>\n",
       "    .dataframe tbody tr th:only-of-type {\n",
       "        vertical-align: middle;\n",
       "    }\n",
       "\n",
       "    .dataframe tbody tr th {\n",
       "        vertical-align: top;\n",
       "    }\n",
       "\n",
       "    .dataframe thead th {\n",
       "        text-align: right;\n",
       "    }\n",
       "</style>\n",
       "<table border=\"1\" class=\"dataframe\">\n",
       "  <thead>\n",
       "    <tr style=\"text-align: right;\">\n",
       "      <th></th>\n",
       "      <th>index</th>\n",
       "      <th>song</th>\n",
       "      <th>year</th>\n",
       "      <th>artist</th>\n",
       "      <th>genre</th>\n",
       "      <th>lyrics</th>\n",
       "    </tr>\n",
       "    <tr>\n",
       "      <th>genre</th>\n",
       "      <th></th>\n",
       "      <th></th>\n",
       "      <th></th>\n",
       "      <th></th>\n",
       "      <th></th>\n",
       "      <th></th>\n",
       "    </tr>\n",
       "  </thead>\n",
       "  <tbody>\n",
       "    <tr>\n",
       "      <th>Hip-Hop</th>\n",
       "      <td>24850</td>\n",
       "      <td>21479</td>\n",
       "      <td>32</td>\n",
       "      <td>1107</td>\n",
       "      <td>1</td>\n",
       "      <td>22648</td>\n",
       "    </tr>\n",
       "    <tr>\n",
       "      <th>Metal</th>\n",
       "      <td>23759</td>\n",
       "      <td>21852</td>\n",
       "      <td>33</td>\n",
       "      <td>996</td>\n",
       "      <td>1</td>\n",
       "      <td>22498</td>\n",
       "    </tr>\n",
       "    <tr>\n",
       "      <th>Pop</th>\n",
       "      <td>40466</td>\n",
       "      <td>32443</td>\n",
       "      <td>47</td>\n",
       "      <td>2066</td>\n",
       "      <td>1</td>\n",
       "      <td>37229</td>\n",
       "    </tr>\n",
       "    <tr>\n",
       "      <th>Rock</th>\n",
       "      <td>109235</td>\n",
       "      <td>85240</td>\n",
       "      <td>48</td>\n",
       "      <td>3765</td>\n",
       "      <td>1</td>\n",
       "      <td>102512</td>\n",
       "    </tr>\n",
       "  </tbody>\n",
       "</table>\n",
       "</div>"
      ],
      "text/plain": [
       "          index   song  year  artist  genre  lyrics\n",
       "genre                                              \n",
       "Hip-Hop   24850  21479    32    1107      1   22648\n",
       "Metal     23759  21852    33     996      1   22498\n",
       "Pop       40466  32443    47    2066      1   37229\n",
       "Rock     109235  85240    48    3765      1  102512"
      ]
     },
     "execution_count": 5,
     "metadata": {},
     "output_type": "execute_result"
    }
   ],
   "source": [
    "#probably a better way to do this\n",
    "df = df[(df.genre == 'Pop') | (df.genre == 'Hip-Hop') | (df.genre == 'Metal') | (df.genre == 'Rock')]\n",
    "df.dropna(inplace=True)\n",
    "df.groupby('genre').nunique('genre')"
   ]
  },
  {
   "cell_type": "code",
   "execution_count": 6,
   "metadata": {},
   "outputs": [
    {
     "name": "stdout",
     "output_type": "stream",
     "text": [
      "8000\n"
     ]
    },
    {
     "data": {
      "image/png": "[encoded data removed]",
      "text/plain": [
       "<Figure size 432x288 with 1 Axes>"
      ]
     },
     "metadata": {
      "needs_background": "light"
     },
     "output_type": "display_data"
    }
   ],
   "source": [
    "#also probably a better way to do this using 28408 because that is the smallest count\n",
    "import matplotlib.pyplot as plt\n",
    "pop = df.loc[df['genre']=='Pop'].head(2000)\n",
    "hiphop = df.loc[df['genre']=='Hip-Hop'].head(2000)\n",
    "rock = df.loc[df['genre']=='Rock'].head(2000)\n",
    "metal = df.loc[df['genre']=='Metal'].head(2000)\n",
    "#really ratchet\n",
    "output = pop.append(hiphop)\n",
    "output = output.append(rock)\n",
    "output = output.append(metal)\n",
    "output.dropna(inplace=True)\n",
    "output.reset_index(drop=True, inplace=True)\n",
    "print(len(output))\n",
    "#but it works...\n",
    "t = sns.countplot(output.genre)\n",
    "plt.savefig('dataset.png')"
   ]
  },
  {
   "cell_type": "markdown",
   "metadata": {},
   "source": [
    "# preprocess data\n",
    "-  make our 10 word sequences integer encoded\n",
    "- use one-hot encoding to encode our genres"
   ]
  },
  {
   "cell_type": "markdown",
   "metadata": {},
   "source": [
    "creating our feature set w/Keras tokenizer class"
   ]
  },
  {
   "cell_type": "code",
   "execution_count": 8,
   "metadata": {},
   "outputs": [
    {
     "data": {
      "text/plain": [
       "8000"
      ]
     },
     "execution_count": 8,
     "metadata": {},
     "output_type": "execute_result"
    }
   ],
   "source": [
    "#this value is the length of the longest song in our dataset.\n",
    "MAX_VALUE = 8196\n",
    "tok = Tokenizer(num_words=MAX_VALUE)\n",
    "tok.fit_on_texts(df.lyrics)\n",
    "#build sequences\n",
    "sequences = tok.texts_to_sequences(output.lyrics)\n",
    "sequences_matrix = sequence.pad_sequences(sequences, maxlen=MAX_VALUE)\n",
    "len(sequences_matrix)"
   ]
  },
  {
   "cell_type": "markdown",
   "metadata": {},
   "source": [
    "creating our target variables"
   ]
  },
  {
   "cell_type": "code",
   "execution_count": 9,
   "metadata": {},
   "outputs": [
    {
     "name": "stdout",
     "output_type": "stream",
     "text": [
      "[[0. 0. 1. 0.]\n",
      " [0. 0. 1. 0.]\n",
      " [0. 0. 1. 0.]\n",
      " ...\n",
      " [0. 1. 0. 0.]\n",
      " [0. 1. 0. 0.]\n",
      " [0. 1. 0. 0.]]\n"
     ]
    },
    {
     "name": "stderr",
     "output_type": "stream",
     "text": [
      "/anaconda3/envs/py36/lib/python3.6/site-packages/sklearn/preprocessing/_encoders.py:368: FutureWarning: The handling of integer data will change in version 0.22. Currently, the categories are determined based on the range [0, max(values)], while in the future they will be determined based on the unique values.\n",
      "If you want the future behaviour and silence this warning, you can specify \"categories='auto'\".\n",
      "In case you used a LabelEncoder before this OneHotEncoder to convert the categories to integers, then you can now use the OneHotEncoder directly.\n",
      "  warnings.warn(msg, FutureWarning)\n"
     ]
    }
   ],
   "source": [
    "label_encoder = LabelEncoder()\n",
    "onehot_encoder = OneHotEncoder(sparse=False)\n",
    "\n",
    "integer_encoded = label_encoder.fit_transform(output.genre)\n",
    "integer_encoded = integer_encoded.reshape(len(integer_encoded), 1)\n",
    "onehot_encoded = onehot_encoder.fit_transform(integer_encoded)\n",
    "print(onehot_encoded)"
   ]
  },
  {
   "cell_type": "markdown",
   "metadata": {},
   "source": [
    "### split into test/train 80/20 split"
   ]
  },
  {
   "cell_type": "code",
   "execution_count": 13,
   "metadata": {},
   "outputs": [],
   "source": [
    "X_train,X_test,Y_train,Y_test = train_test_split(sequences_matrix,onehot_encoded,test_size=0.2)"
   ]
  },
  {
   "cell_type": "code",
   "execution_count": 20,
   "metadata": {},
   "outputs": [],
   "source": [
    "model = Sequential()\n",
    "model.add(Dense(128, input_shape=X_train[0].shape, activation='relu'))\n",
    "model.add(Dense(64, activation='relu'))\n",
    "model.add(Dense(4, activation='softmax'))\n",
    "model.compile(loss='categorical_crossentropy', optimizer=optimizer, metrics=['accuracy'])"
   ]
  },
  {
   "cell_type": "code",
   "execution_count": 22,
   "metadata": {},
   "outputs": [],
   "source": [
    "from keras.optimizers import RMSprop\n",
    "from keras.callbacks import TensorBoard\n",
    "tensorboard = TensorBoard(log_dir='./logs', histogram_freq=0,\n",
    "                          write_graph=True, write_images=False)\n",
    "optimizer = RMSprop(lr=0.001)\n"
   ]
  },
  {
   "cell_type": "code",
   "execution_count": 22,
   "metadata": {},
   "outputs": [
    {
     "name": "stdout",
     "output_type": "stream",
     "text": [
      "Train on 6400 samples, validate on 1600 samples\n",
      "Epoch 1/100\n",
      "6400/6400 [==============================] - 1s 165us/step - loss: 11.8995 - acc: 0.2564 - val_loss: 11.8336 - val_acc: 0.2575\n",
      "Epoch 2/100\n",
      "6400/6400 [==============================] - 1s 118us/step - loss: 11.8395 - acc: 0.2594 - val_loss: 11.8740 - val_acc: 0.2525\n",
      "Epoch 3/100\n",
      "6400/6400 [==============================] - 1s 118us/step - loss: 11.8278 - acc: 0.2591 - val_loss: 11.8218 - val_acc: 0.2550\n",
      "Epoch 4/100\n",
      "6400/6400 [==============================] - 1s 119us/step - loss: 11.6438 - acc: 0.2708 - val_loss: 11.3283 - val_acc: 0.2875\n",
      "Epoch 5/100\n",
      "6400/6400 [==============================] - 1s 120us/step - loss: 11.2223 - acc: 0.2953 - val_loss: 11.1604 - val_acc: 0.2913\n",
      "Epoch 6/100\n",
      "6400/6400 [==============================] - 1s 120us/step - loss: 11.2619 - acc: 0.2945 - val_loss: 11.0392 - val_acc: 0.3063\n",
      "Epoch 7/100\n",
      "6400/6400 [==============================] - 1s 119us/step - loss: 11.2086 - acc: 0.2966 - val_loss: 11.2583 - val_acc: 0.2931\n",
      "Epoch 8/100\n",
      "6400/6400 [==============================] - 1s 119us/step - loss: 11.2424 - acc: 0.2961 - val_loss: 11.1541 - val_acc: 0.3013\n",
      "Epoch 9/100\n",
      "6400/6400 [==============================] - 1s 135us/step - loss: 11.2225 - acc: 0.2977 - val_loss: 11.2112 - val_acc: 0.2963\n",
      "Epoch 10/100\n",
      "6400/6400 [==============================] - 1s 129us/step - loss: 11.2335 - acc: 0.2966 - val_loss: 11.2882 - val_acc: 0.2931\n",
      "Epoch 11/100\n",
      "6400/6400 [==============================] - 1s 134us/step - loss: 11.1837 - acc: 0.2978 - val_loss: 11.0420 - val_acc: 0.3069\n",
      "Epoch 12/100\n",
      "6400/6400 [==============================] - 1s 122us/step - loss: 11.1860 - acc: 0.2994 - val_loss: 11.2732 - val_acc: 0.2881\n",
      "Epoch 13/100\n",
      "6400/6400 [==============================] - 1s 122us/step - loss: 11.1902 - acc: 0.2997 - val_loss: 11.0511 - val_acc: 0.3069\n",
      "Epoch 14/100\n",
      "6400/6400 [==============================] - 1s 124us/step - loss: 11.1718 - acc: 0.3008 - val_loss: 10.9690 - val_acc: 0.3106\n",
      "Epoch 15/100\n",
      "6400/6400 [==============================] - 1s 128us/step - loss: 11.1552 - acc: 0.3019 - val_loss: 10.9607 - val_acc: 0.3150\n",
      "Epoch 16/100\n",
      "6400/6400 [==============================] - 1s 167us/step - loss: 11.1637 - acc: 0.3013 - val_loss: 11.0037 - val_acc: 0.3050\n",
      "Epoch 17/100\n",
      "6400/6400 [==============================] - 1s 129us/step - loss: 11.2413 - acc: 0.2950 - val_loss: 11.5034 - val_acc: 0.2806\n",
      "Epoch 18/100\n",
      "6400/6400 [==============================] - 1s 123us/step - loss: 11.2786 - acc: 0.2939 - val_loss: 10.8952 - val_acc: 0.3187\n",
      "Epoch 19/100\n",
      "6400/6400 [==============================] - 1s 126us/step - loss: 11.2871 - acc: 0.2942 - val_loss: 11.1708 - val_acc: 0.3025\n",
      "Epoch 20/100\n",
      "6400/6400 [==============================] - 1s 123us/step - loss: 11.3588 - acc: 0.2894 - val_loss: 11.1568 - val_acc: 0.3031\n",
      "Epoch 21/100\n",
      "6400/6400 [==============================] - 1s 123us/step - loss: 11.2340 - acc: 0.2972 - val_loss: 11.3700 - val_acc: 0.2900\n",
      "Epoch 22/100\n",
      "6400/6400 [==============================] - 1s 124us/step - loss: 11.4155 - acc: 0.2855 - val_loss: 11.6725 - val_acc: 0.2700\n",
      "Epoch 23/100\n",
      "6400/6400 [==============================] - 1s 126us/step - loss: 11.3501 - acc: 0.2894 - val_loss: 11.4935 - val_acc: 0.2825\n",
      "Epoch 24/100\n",
      "6400/6400 [==============================] - 1s 137us/step - loss: 11.1909 - acc: 0.3005 - val_loss: 11.1050 - val_acc: 0.3025\n",
      "Epoch 25/100\n",
      "6400/6400 [==============================] - 1s 127us/step - loss: 11.1496 - acc: 0.3030 - val_loss: 11.3703 - val_acc: 0.2900\n",
      "Epoch 26/100\n",
      "6400/6400 [==============================] - 1s 133us/step - loss: 11.1803 - acc: 0.3005 - val_loss: 11.2357 - val_acc: 0.2975\n",
      "Epoch 27/100\n",
      "6400/6400 [==============================] - 1s 125us/step - loss: 11.1585 - acc: 0.3031 - val_loss: 11.4013 - val_acc: 0.2875\n",
      "Epoch 28/100\n",
      "6400/6400 [==============================] - 1s 128us/step - loss: 11.2491 - acc: 0.2967 - val_loss: 11.0486 - val_acc: 0.3100\n",
      "Epoch 29/100\n",
      "6400/6400 [==============================] - 1s 125us/step - loss: 11.1665 - acc: 0.3014 - val_loss: 11.3551 - val_acc: 0.2900\n",
      "Epoch 30/100\n",
      "6400/6400 [==============================] - 1s 125us/step - loss: 11.1579 - acc: 0.3022 - val_loss: 11.1422 - val_acc: 0.3013\n",
      "Epoch 31/100\n",
      "6400/6400 [==============================] - 1s 131us/step - loss: 11.1833 - acc: 0.3006 - val_loss: 11.0562 - val_acc: 0.3094\n",
      "Epoch 32/100\n",
      "6400/6400 [==============================] - 1s 120us/step - loss: 11.1626 - acc: 0.3023 - val_loss: 11.0469 - val_acc: 0.3075\n",
      "Epoch 33/100\n",
      "6400/6400 [==============================] - 1s 124us/step - loss: 11.1680 - acc: 0.3003 - val_loss: 11.1738 - val_acc: 0.3019\n",
      "Epoch 34/100\n",
      "6400/6400 [==============================] - 1s 123us/step - loss: 11.2239 - acc: 0.2981 - val_loss: 11.1548 - val_acc: 0.3031\n",
      "Epoch 35/100\n",
      "6400/6400 [==============================] - 1s 127us/step - loss: 11.1697 - acc: 0.3009 - val_loss: 11.1593 - val_acc: 0.3031\n",
      "Epoch 36/100\n",
      "6400/6400 [==============================] - 1s 131us/step - loss: 11.1913 - acc: 0.3002 - val_loss: 11.1581 - val_acc: 0.3031\n",
      "Epoch 37/100\n",
      "6400/6400 [==============================] - 1s 134us/step - loss: 11.1766 - acc: 0.2998 - val_loss: 11.1471 - val_acc: 0.3019\n",
      "Epoch 38/100\n",
      "6400/6400 [==============================] - 1s 125us/step - loss: 11.1375 - acc: 0.3034 - val_loss: 11.1756 - val_acc: 0.3019\n",
      "Epoch 39/100\n",
      "6400/6400 [==============================] - 1s 120us/step - loss: 11.1829 - acc: 0.3002 - val_loss: 11.1227 - val_acc: 0.3044\n",
      "Epoch 40/100\n",
      "6400/6400 [==============================] - 1s 124us/step - loss: 11.1264 - acc: 0.3042 - val_loss: 11.1488 - val_acc: 0.3031\n",
      "Epoch 41/100\n",
      "6400/6400 [==============================] - 1s 129us/step - loss: 11.1639 - acc: 0.3014 - val_loss: 11.1120 - val_acc: 0.3056\n",
      "Epoch 42/100\n",
      "6400/6400 [==============================] - 1s 128us/step - loss: 11.1991 - acc: 0.3002 - val_loss: 11.1107 - val_acc: 0.3044\n",
      "Epoch 43/100\n",
      "6400/6400 [==============================] - 1s 124us/step - loss: 11.1475 - acc: 0.3039 - val_loss: 11.1557 - val_acc: 0.2981\n",
      "Epoch 44/100\n",
      "6400/6400 [==============================] - 1s 127us/step - loss: 11.2045 - acc: 0.2992 - val_loss: 11.2379 - val_acc: 0.2975\n",
      "Epoch 45/100\n",
      "6400/6400 [==============================] - 1s 124us/step - loss: 11.1211 - acc: 0.3030 - val_loss: 11.4064 - val_acc: 0.2812\n",
      "Epoch 46/100\n",
      "6400/6400 [==============================] - 1s 120us/step - loss: 11.1548 - acc: 0.3016 - val_loss: 11.2758 - val_acc: 0.2956\n",
      "Epoch 47/100\n",
      "6400/6400 [==============================] - 1s 119us/step - loss: 11.1538 - acc: 0.3025 - val_loss: 11.0825 - val_acc: 0.3069\n",
      "Epoch 48/100\n",
      "6400/6400 [==============================] - 1s 126us/step - loss: 11.0830 - acc: 0.3063 - val_loss: 11.0978 - val_acc: 0.3056\n",
      "Epoch 49/100\n",
      "6400/6400 [==============================] - 1s 123us/step - loss: 11.1708 - acc: 0.3023 - val_loss: 11.0721 - val_acc: 0.3075\n",
      "Epoch 50/100\n",
      "6400/6400 [==============================] - 1s 120us/step - loss: 11.1781 - acc: 0.3011 - val_loss: 11.1538 - val_acc: 0.3025\n",
      "Epoch 51/100\n",
      "6400/6400 [==============================] - 1s 119us/step - loss: 11.1708 - acc: 0.3009 - val_loss: 11.2189 - val_acc: 0.2988\n",
      "Epoch 52/100\n",
      "6400/6400 [==============================] - 1s 124us/step - loss: 11.1416 - acc: 0.3034 - val_loss: 11.1580 - val_acc: 0.3031\n",
      "Epoch 53/100\n",
      "6400/6400 [==============================] - 1s 124us/step - loss: 11.2415 - acc: 0.2972 - val_loss: 10.9981 - val_acc: 0.3131\n",
      "Epoch 54/100\n",
      "6400/6400 [==============================] - 1s 123us/step - loss: 11.1781 - acc: 0.3011 - val_loss: 11.0446 - val_acc: 0.3094\n",
      "Epoch 55/100\n",
      "6400/6400 [==============================] - 1s 122us/step - loss: 11.1367 - acc: 0.3033 - val_loss: 11.0408 - val_acc: 0.3100\n",
      "Epoch 56/100\n",
      "6400/6400 [==============================] - 1s 126us/step - loss: 11.1578 - acc: 0.3020 - val_loss: 11.0715 - val_acc: 0.3088\n",
      "Epoch 57/100\n",
      "6400/6400 [==============================] - 1s 130us/step - loss: 11.1437 - acc: 0.3034 - val_loss: 11.0931 - val_acc: 0.3088\n",
      "Epoch 58/100\n",
      "6400/6400 [==============================] - 1s 127us/step - loss: 11.1659 - acc: 0.3022 - val_loss: 11.0542 - val_acc: 0.3088\n",
      "Epoch 59/100\n"
     ]
    },
    {
     "name": "stdout",
     "output_type": "stream",
     "text": [
      "6400/6400 [==============================] - 1s 125us/step - loss: 11.1942 - acc: 0.3009 - val_loss: 11.3206 - val_acc: 0.2925\n",
      "Epoch 60/100\n",
      "6400/6400 [==============================] - 1s 128us/step - loss: 11.1791 - acc: 0.3017 - val_loss: 11.2081 - val_acc: 0.2938\n",
      "Epoch 61/100\n",
      "6400/6400 [==============================] - 1s 123us/step - loss: 11.1030 - acc: 0.3056 - val_loss: 11.1560 - val_acc: 0.2975\n",
      "Epoch 62/100\n",
      "6400/6400 [==============================] - 1s 125us/step - loss: 11.1623 - acc: 0.3016 - val_loss: 11.2521 - val_acc: 0.2969\n",
      "Epoch 63/100\n",
      "6400/6400 [==============================] - 1s 127us/step - loss: 11.1637 - acc: 0.3014 - val_loss: 11.1600 - val_acc: 0.3031\n",
      "Epoch 64/100\n",
      "6400/6400 [==============================] - 1s 125us/step - loss: 11.1579 - acc: 0.3011 - val_loss: 11.0982 - val_acc: 0.3063\n",
      "Epoch 65/100\n",
      "6400/6400 [==============================] - 1s 123us/step - loss: 11.1372 - acc: 0.3034 - val_loss: 11.0238 - val_acc: 0.3113\n",
      "Epoch 66/100\n",
      "6400/6400 [==============================] - 1s 129us/step - loss: 11.1267 - acc: 0.3047 - val_loss: 11.2149 - val_acc: 0.2994\n",
      "Epoch 67/100\n",
      "6400/6400 [==============================] - 1s 117us/step - loss: 11.1922 - acc: 0.3008 - val_loss: 11.0524 - val_acc: 0.3106\n",
      "Epoch 68/100\n",
      "6400/6400 [==============================] - 1s 121us/step - loss: 11.1405 - acc: 0.3038 - val_loss: 11.0801 - val_acc: 0.3075\n",
      "Epoch 69/100\n",
      "6400/6400 [==============================] - 1s 126us/step - loss: 11.1217 - acc: 0.3045 - val_loss: 11.1051 - val_acc: 0.3013\n",
      "Epoch 70/100\n",
      "6400/6400 [==============================] - 1s 119us/step - loss: 11.1312 - acc: 0.3041 - val_loss: 11.0974 - val_acc: 0.3069\n",
      "Epoch 71/100\n",
      "6400/6400 [==============================] - 1s 116us/step - loss: 11.1624 - acc: 0.3019 - val_loss: 11.0384 - val_acc: 0.3106\n",
      "Epoch 72/100\n",
      "6400/6400 [==============================] - 1s 123us/step - loss: 11.1187 - acc: 0.3056 - val_loss: 11.1126 - val_acc: 0.3063\n",
      "Epoch 73/100\n",
      "6400/6400 [==============================] - 1s 116us/step - loss: 11.1601 - acc: 0.3030 - val_loss: 11.1123 - val_acc: 0.3056\n",
      "Epoch 74/100\n",
      "6400/6400 [==============================] - 1s 117us/step - loss: 11.1439 - acc: 0.3030 - val_loss: 11.0891 - val_acc: 0.3075\n",
      "Epoch 75/100\n",
      "6400/6400 [==============================] - 1s 125us/step - loss: 11.1492 - acc: 0.3031 - val_loss: 11.0916 - val_acc: 0.3075\n",
      "Epoch 76/100\n",
      "6400/6400 [==============================] - 1s 122us/step - loss: 11.1570 - acc: 0.3028 - val_loss: 11.1992 - val_acc: 0.3006\n",
      "Epoch 77/100\n",
      "6400/6400 [==============================] - 1s 118us/step - loss: 11.1616 - acc: 0.3027 - val_loss: 11.2275 - val_acc: 0.2981\n",
      "Epoch 78/100\n",
      "6400/6400 [==============================] - 1s 128us/step - loss: 11.1558 - acc: 0.3028 - val_loss: 11.0905 - val_acc: 0.3075\n",
      "Epoch 79/100\n",
      "6400/6400 [==============================] - 1s 119us/step - loss: 11.1382 - acc: 0.3038 - val_loss: 11.0888 - val_acc: 0.3075\n",
      "Epoch 80/100\n",
      "6400/6400 [==============================] - 1s 127us/step - loss: 11.1864 - acc: 0.3014 - val_loss: 11.2799 - val_acc: 0.2969\n",
      "Epoch 81/100\n",
      "6400/6400 [==============================] - 1s 119us/step - loss: 11.1428 - acc: 0.3042 - val_loss: 11.1032 - val_acc: 0.3063\n",
      "Epoch 82/100\n",
      "6400/6400 [==============================] - 1s 116us/step - loss: 11.1391 - acc: 0.3042 - val_loss: 11.0749 - val_acc: 0.3081\n",
      "Epoch 83/100\n",
      "6400/6400 [==============================] - 1s 124us/step - loss: 11.1509 - acc: 0.3030 - val_loss: 11.2277 - val_acc: 0.2988\n",
      "Epoch 84/100\n",
      "6400/6400 [==============================] - 1s 117us/step - loss: 11.1368 - acc: 0.3038 - val_loss: 11.1356 - val_acc: 0.2988\n",
      "Epoch 85/100\n",
      "6400/6400 [==============================] - 1s 133us/step - loss: 11.1072 - acc: 0.3053 - val_loss: 11.1781 - val_acc: 0.3019\n",
      "Epoch 86/100\n",
      "6400/6400 [==============================] - 1s 136us/step - loss: 11.1273 - acc: 0.3048 - val_loss: 11.2905 - val_acc: 0.2950\n",
      "Epoch 87/100\n",
      "6400/6400 [==============================] - 1s 118us/step - loss: 11.2303 - acc: 0.2978 - val_loss: 11.4241 - val_acc: 0.2856\n",
      "Epoch 88/100\n",
      "6400/6400 [==============================] - 1s 118us/step - loss: 11.1429 - acc: 0.3038 - val_loss: 11.1276 - val_acc: 0.3044\n",
      "Epoch 89/100\n",
      "6400/6400 [==============================] - 1s 115us/step - loss: 11.0971 - acc: 0.3059 - val_loss: 11.1248 - val_acc: 0.3050\n",
      "Epoch 90/100\n",
      "6400/6400 [==============================] - 1s 115us/step - loss: 11.2070 - acc: 0.2994 - val_loss: 11.2571 - val_acc: 0.2969\n",
      "Epoch 91/100\n",
      "6400/6400 [==============================] - 1s 115us/step - loss: 11.5036 - acc: 0.2805 - val_loss: 11.2306 - val_acc: 0.2988\n",
      "Epoch 92/100\n",
      "6400/6400 [==============================] - 1s 118us/step - loss: 11.1672 - acc: 0.3019 - val_loss: 11.1715 - val_acc: 0.3025\n",
      "Epoch 93/100\n",
      "6400/6400 [==============================] - 1s 122us/step - loss: 11.1851 - acc: 0.3016 - val_loss: 11.2069 - val_acc: 0.3000\n",
      "Epoch 94/100\n",
      "6400/6400 [==============================] - 1s 119us/step - loss: 11.2593 - acc: 0.2963 - val_loss: 11.3036 - val_acc: 0.2944\n",
      "Epoch 95/100\n",
      "6400/6400 [==============================] - 1s 115us/step - loss: 11.3058 - acc: 0.2933 - val_loss: 11.2138 - val_acc: 0.2994\n",
      "Epoch 96/100\n",
      "6400/6400 [==============================] - 1s 118us/step - loss: 11.1853 - acc: 0.3003 - val_loss: 11.1837 - val_acc: 0.3013\n",
      "Epoch 97/100\n",
      "6400/6400 [==============================] - 1s 127us/step - loss: 11.2310 - acc: 0.2978 - val_loss: 11.2402 - val_acc: 0.2981\n",
      "Epoch 98/100\n",
      "6400/6400 [==============================] - 1s 116us/step - loss: 11.1805 - acc: 0.3009 - val_loss: 11.1590 - val_acc: 0.3031\n",
      "Epoch 99/100\n",
      "6400/6400 [==============================] - 1s 116us/step - loss: 11.1778 - acc: 0.3017 - val_loss: 11.1756 - val_acc: 0.3025\n",
      "Epoch 100/100\n",
      "6400/6400 [==============================] - 1s 120us/step - loss: 11.1772 - acc: 0.3022 - val_loss: 11.1686 - val_acc: 0.3019\n"
     ]
    },
    {
     "data": {
      "text/plain": [
       "<keras.callbacks.History at 0x1a2f26e518>"
      ]
     },
     "execution_count": 22,
     "metadata": {},
     "output_type": "execute_result"
    }
   ],
   "source": [
    "model.fit(X_train, Y_train, epochs=100, batch_size=128, validation_data=(X_test, Y_test), shuffle=True)"
   ]
  },
  {
   "cell_type": "code",
   "execution_count": 24,
   "metadata": {},
   "outputs": [
    {
     "name": "stdout",
     "output_type": "stream",
     "text": [
      "6400/6400 [==============================] - 1s 88us/step\n"
     ]
    },
    {
     "data": {
      "text/plain": [
       "[11.161810691356658, 0.303125]"
      ]
     },
     "execution_count": 24,
     "metadata": {},
     "output_type": "execute_result"
    }
   ],
   "source": [
    "model.evaluate(x=X_train, y=Y_train, verbose=1)"
   ]
  },
  {
   "cell_type": "code",
   "execution_count": 11,
   "metadata": {},
   "outputs": [
    {
     "ename": "NameError",
     "evalue": "name 'X_train' is not defined",
     "output_type": "error",
     "traceback": [
      "\u001b[0;31m---------------------------------------------------------------------------\u001b[0m",
      "\u001b[0;31mNameError\u001b[0m                                 Traceback (most recent call last)",
      "\u001b[0;32m<ipython-input-11-6b78606a3a04>\u001b[0m in \u001b[0;36m<module>\u001b[0;34m\u001b[0m\n\u001b[1;32m      2\u001b[0m \u001b[0mmodel\u001b[0m\u001b[0;34m.\u001b[0m\u001b[0madd\u001b[0m\u001b[0;34m(\u001b[0m\u001b[0mEmbedding\u001b[0m\u001b[0;34m(\u001b[0m\u001b[0minput_dim\u001b[0m\u001b[0;34m=\u001b[0m\u001b[0;36m1000\u001b[0m\u001b[0;34m,\u001b[0m \u001b[0moutput_dim\u001b[0m\u001b[0;34m=\u001b[0m\u001b[0;36m50\u001b[0m\u001b[0;34m,\u001b[0m \u001b[0minput_length\u001b[0m\u001b[0;34m=\u001b[0m\u001b[0;36m10\u001b[0m\u001b[0;34m)\u001b[0m\u001b[0;34m)\u001b[0m\u001b[0;34m\u001b[0m\u001b[0;34m\u001b[0m\u001b[0m\n\u001b[1;32m      3\u001b[0m \u001b[0mmodel\u001b[0m\u001b[0;34m.\u001b[0m\u001b[0madd\u001b[0m\u001b[0;34m(\u001b[0m\u001b[0mFlatten\u001b[0m\u001b[0;34m(\u001b[0m\u001b[0;34m)\u001b[0m\u001b[0;34m)\u001b[0m\u001b[0;34m\u001b[0m\u001b[0;34m\u001b[0m\u001b[0m\n\u001b[0;32m----> 4\u001b[0;31m \u001b[0mmodel\u001b[0m\u001b[0;34m.\u001b[0m\u001b[0madd\u001b[0m\u001b[0;34m(\u001b[0m\u001b[0mDense\u001b[0m\u001b[0;34m(\u001b[0m\u001b[0;36m128\u001b[0m\u001b[0;34m,\u001b[0m \u001b[0minput_shape\u001b[0m\u001b[0;34m=\u001b[0m\u001b[0mX_train\u001b[0m\u001b[0;34m[\u001b[0m\u001b[0;36m0\u001b[0m\u001b[0;34m]\u001b[0m\u001b[0;34m.\u001b[0m\u001b[0mshape\u001b[0m\u001b[0;34m,\u001b[0m \u001b[0mactivation\u001b[0m\u001b[0;34m=\u001b[0m\u001b[0;34m'relu'\u001b[0m\u001b[0;34m)\u001b[0m\u001b[0;34m)\u001b[0m\u001b[0;34m\u001b[0m\u001b[0;34m\u001b[0m\u001b[0m\n\u001b[0m\u001b[1;32m      5\u001b[0m \u001b[0mmodel\u001b[0m\u001b[0;34m.\u001b[0m\u001b[0madd\u001b[0m\u001b[0;34m(\u001b[0m\u001b[0mDense\u001b[0m\u001b[0;34m(\u001b[0m\u001b[0;36m64\u001b[0m\u001b[0;34m,\u001b[0m \u001b[0mactivation\u001b[0m\u001b[0;34m=\u001b[0m\u001b[0;34m'relu'\u001b[0m\u001b[0;34m)\u001b[0m\u001b[0;34m)\u001b[0m\u001b[0;34m\u001b[0m\u001b[0;34m\u001b[0m\u001b[0m\n\u001b[1;32m      6\u001b[0m \u001b[0mmodel\u001b[0m\u001b[0;34m.\u001b[0m\u001b[0madd\u001b[0m\u001b[0;34m(\u001b[0m\u001b[0mDense\u001b[0m\u001b[0;34m(\u001b[0m\u001b[0;36m4\u001b[0m\u001b[0;34m,\u001b[0m \u001b[0mactivation\u001b[0m\u001b[0;34m=\u001b[0m\u001b[0;34m'softmax'\u001b[0m\u001b[0;34m)\u001b[0m\u001b[0;34m)\u001b[0m\u001b[0;34m\u001b[0m\u001b[0;34m\u001b[0m\u001b[0m\n",
      "\u001b[0;31mNameError\u001b[0m: name 'X_train' is not defined"
     ]
    }
   ],
   "source": [
    "model = Sequential()\n",
    "model.add(Embedding(input_dim=1000, output_dim=50, input_length=10))\n",
    "model.add(Flatten())\n",
    "model.add(Dense(128, input_shape=X_train[0].shape, activation='relu'))\n",
    "model.add(Dense(64, activation='relu'))\n",
    "model.add(Dense(4, activation='softmax'))"
   ]
  },
  {
   "cell_type": "code",
   "execution_count": 15,
   "metadata": {},
   "outputs": [],
   "source": [
    "optimizer = RMSprop(lr=0.001)\n",
    "model.compile(loss='categorical_crossentropy', optimizer=optimizer, metrics=['accuracy'])"
   ]
  },
  {
   "cell_type": "code",
   "execution_count": 17,
   "metadata": {},
   "outputs": [
    {
     "name": "stdout",
     "output_type": "stream",
     "text": [
      "Train on 6400 samples, validate on 1600 samples\n",
      "Epoch 1/100\n",
      "6400/6400 [==============================] - 1s 198us/step - loss: 9.8636 - acc: 0.3794 - val_loss: 9.6278 - val_acc: 0.3931\n",
      "Epoch 2/100\n",
      "6400/6400 [==============================] - 1s 118us/step - loss: 9.3117 - acc: 0.4116 - val_loss: 9.3721 - val_acc: 0.4131\n",
      "Epoch 3/100\n",
      "6400/6400 [==============================] - 1s 119us/step - loss: 9.1654 - acc: 0.4255 - val_loss: 9.3954 - val_acc: 0.4138\n",
      "Epoch 4/100\n",
      "6400/6400 [==============================] - 1s 121us/step - loss: 9.0853 - acc: 0.4309 - val_loss: 9.4592 - val_acc: 0.4094\n",
      "Epoch 5/100\n",
      "6400/6400 [==============================] - 1s 121us/step - loss: 9.1526 - acc: 0.4273 - val_loss: 9.4346 - val_acc: 0.4094\n",
      "Epoch 6/100\n",
      "6400/6400 [==============================] - 1s 120us/step - loss: 9.1669 - acc: 0.4261 - val_loss: 9.4519 - val_acc: 0.4088\n",
      "Epoch 7/100\n",
      "6400/6400 [==============================] - 1s 121us/step - loss: 9.1744 - acc: 0.4263 - val_loss: 9.3984 - val_acc: 0.4138\n",
      "Epoch 8/100\n",
      "6400/6400 [==============================] - 1s 123us/step - loss: 9.1371 - acc: 0.4286 - val_loss: 9.3845 - val_acc: 0.4156\n",
      "Epoch 9/100\n",
      "6400/6400 [==============================] - 1s 123us/step - loss: 9.1989 - acc: 0.4244 - val_loss: 9.3769 - val_acc: 0.4156\n",
      "Epoch 10/100\n",
      "6400/6400 [==============================] - 1s 143us/step - loss: 9.2007 - acc: 0.4239 - val_loss: 10.5121 - val_acc: 0.3444\n",
      "Epoch 11/100\n",
      "6400/6400 [==============================] - 1s 125us/step - loss: 9.5484 - acc: 0.4027 - val_loss: 9.4373 - val_acc: 0.4106\n",
      "Epoch 12/100\n",
      "6400/6400 [==============================] - 1s 122us/step - loss: 9.6681 - acc: 0.3952 - val_loss: 9.8950 - val_acc: 0.3825\n",
      "Epoch 13/100\n",
      "6400/6400 [==============================] - 1s 121us/step - loss: 9.1675 - acc: 0.4263 - val_loss: 9.4284 - val_acc: 0.4050\n",
      "Epoch 14/100\n",
      "6400/6400 [==============================] - 1s 122us/step - loss: 9.2215 - acc: 0.4217 - val_loss: 9.2979 - val_acc: 0.4188\n",
      "Epoch 15/100\n",
      "6400/6400 [==============================] - 1s 125us/step - loss: 9.0404 - acc: 0.4328 - val_loss: 9.4045 - val_acc: 0.4113\n",
      "Epoch 16/100\n",
      "6400/6400 [==============================] - 1s 123us/step - loss: 9.0832 - acc: 0.4288 - val_loss: 9.3924 - val_acc: 0.4069\n",
      "Epoch 17/100\n",
      "6400/6400 [==============================] - 1s 125us/step - loss: 9.1398 - acc: 0.4264 - val_loss: 9.7429 - val_acc: 0.3912\n",
      "Epoch 18/100\n",
      "6400/6400 [==============================] - 1s 154us/step - loss: 9.3207 - acc: 0.4158 - val_loss: 9.4270 - val_acc: 0.4100\n",
      "Epoch 19/100\n",
      "6400/6400 [==============================] - 1s 133us/step - loss: 8.9952 - acc: 0.4359 - val_loss: 9.1710 - val_acc: 0.4263\n",
      "Epoch 20/100\n",
      "6400/6400 [==============================] - 1s 129us/step - loss: 8.9975 - acc: 0.4353 - val_loss: 9.3309 - val_acc: 0.4163\n",
      "Epoch 21/100\n",
      "1536/6400 [======>.......................] - ETA: 0s - loss: 9.0826 - acc: 0.4316"
     ]
    },
    {
     "ename": "KeyboardInterrupt",
     "evalue": "",
     "output_type": "error",
     "traceback": [
      "\u001b[0;31m---------------------------------------------------------------------------\u001b[0m",
      "\u001b[0;31mKeyboardInterrupt\u001b[0m                         Traceback (most recent call last)",
      "\u001b[0;32m<ipython-input-17-22be41537530>\u001b[0m in \u001b[0;36m<module>\u001b[0;34m\u001b[0m\n\u001b[0;32m----> 1\u001b[0;31m \u001b[0mmodel\u001b[0m\u001b[0;34m.\u001b[0m\u001b[0mfit\u001b[0m\u001b[0;34m(\u001b[0m\u001b[0mX_train\u001b[0m\u001b[0;34m,\u001b[0m \u001b[0mY_train\u001b[0m\u001b[0;34m,\u001b[0m \u001b[0mepochs\u001b[0m\u001b[0;34m=\u001b[0m\u001b[0;36m100\u001b[0m\u001b[0;34m,\u001b[0m \u001b[0mbatch_size\u001b[0m\u001b[0;34m=\u001b[0m\u001b[0;36m128\u001b[0m\u001b[0;34m,\u001b[0m \u001b[0mvalidation_data\u001b[0m\u001b[0;34m=\u001b[0m\u001b[0;34m(\u001b[0m\u001b[0mX_test\u001b[0m\u001b[0;34m,\u001b[0m \u001b[0mY_test\u001b[0m\u001b[0;34m)\u001b[0m\u001b[0;34m,\u001b[0m \u001b[0mshuffle\u001b[0m\u001b[0;34m=\u001b[0m\u001b[0;32mTrue\u001b[0m\u001b[0;34m)\u001b[0m\u001b[0;34m\u001b[0m\u001b[0;34m\u001b[0m\u001b[0m\n\u001b[0m",
      "\u001b[0;32m/anaconda3/envs/py36/lib/python3.6/site-packages/keras/engine/training.py\u001b[0m in \u001b[0;36mfit\u001b[0;34m(self, x, y, batch_size, epochs, verbose, callbacks, validation_split, validation_data, shuffle, class_weight, sample_weight, initial_epoch, steps_per_epoch, validation_steps, **kwargs)\u001b[0m\n\u001b[1;32m   1037\u001b[0m                                         \u001b[0minitial_epoch\u001b[0m\u001b[0;34m=\u001b[0m\u001b[0minitial_epoch\u001b[0m\u001b[0;34m,\u001b[0m\u001b[0;34m\u001b[0m\u001b[0;34m\u001b[0m\u001b[0m\n\u001b[1;32m   1038\u001b[0m                                         \u001b[0msteps_per_epoch\u001b[0m\u001b[0;34m=\u001b[0m\u001b[0msteps_per_epoch\u001b[0m\u001b[0;34m,\u001b[0m\u001b[0;34m\u001b[0m\u001b[0;34m\u001b[0m\u001b[0m\n\u001b[0;32m-> 1039\u001b[0;31m                                         validation_steps=validation_steps)\n\u001b[0m\u001b[1;32m   1040\u001b[0m \u001b[0;34m\u001b[0m\u001b[0m\n\u001b[1;32m   1041\u001b[0m     def evaluate(self, x=None, y=None,\n",
      "\u001b[0;32m/anaconda3/envs/py36/lib/python3.6/site-packages/keras/engine/training_arrays.py\u001b[0m in \u001b[0;36mfit_loop\u001b[0;34m(model, f, ins, out_labels, batch_size, epochs, verbose, callbacks, val_f, val_ins, shuffle, callback_metrics, initial_epoch, steps_per_epoch, validation_steps)\u001b[0m\n\u001b[1;32m    197\u001b[0m                     \u001b[0mins_batch\u001b[0m\u001b[0;34m[\u001b[0m\u001b[0mi\u001b[0m\u001b[0;34m]\u001b[0m \u001b[0;34m=\u001b[0m \u001b[0mins_batch\u001b[0m\u001b[0;34m[\u001b[0m\u001b[0mi\u001b[0m\u001b[0;34m]\u001b[0m\u001b[0;34m.\u001b[0m\u001b[0mtoarray\u001b[0m\u001b[0;34m(\u001b[0m\u001b[0;34m)\u001b[0m\u001b[0;34m\u001b[0m\u001b[0;34m\u001b[0m\u001b[0m\n\u001b[1;32m    198\u001b[0m \u001b[0;34m\u001b[0m\u001b[0m\n\u001b[0;32m--> 199\u001b[0;31m                 \u001b[0mouts\u001b[0m \u001b[0;34m=\u001b[0m \u001b[0mf\u001b[0m\u001b[0;34m(\u001b[0m\u001b[0mins_batch\u001b[0m\u001b[0;34m)\u001b[0m\u001b[0;34m\u001b[0m\u001b[0;34m\u001b[0m\u001b[0m\n\u001b[0m\u001b[1;32m    200\u001b[0m                 \u001b[0mouts\u001b[0m \u001b[0;34m=\u001b[0m \u001b[0mto_list\u001b[0m\u001b[0;34m(\u001b[0m\u001b[0mouts\u001b[0m\u001b[0;34m)\u001b[0m\u001b[0;34m\u001b[0m\u001b[0;34m\u001b[0m\u001b[0m\n\u001b[1;32m    201\u001b[0m                 \u001b[0;32mfor\u001b[0m \u001b[0ml\u001b[0m\u001b[0;34m,\u001b[0m \u001b[0mo\u001b[0m \u001b[0;32min\u001b[0m \u001b[0mzip\u001b[0m\u001b[0;34m(\u001b[0m\u001b[0mout_labels\u001b[0m\u001b[0;34m,\u001b[0m \u001b[0mouts\u001b[0m\u001b[0;34m)\u001b[0m\u001b[0;34m:\u001b[0m\u001b[0;34m\u001b[0m\u001b[0;34m\u001b[0m\u001b[0m\n",
      "\u001b[0;32m/anaconda3/envs/py36/lib/python3.6/site-packages/keras/backend/tensorflow_backend.py\u001b[0m in \u001b[0;36m__call__\u001b[0;34m(self, inputs)\u001b[0m\n\u001b[1;32m   2713\u001b[0m                 \u001b[0;32mreturn\u001b[0m \u001b[0mself\u001b[0m\u001b[0;34m.\u001b[0m\u001b[0m_legacy_call\u001b[0m\u001b[0;34m(\u001b[0m\u001b[0minputs\u001b[0m\u001b[0;34m)\u001b[0m\u001b[0;34m\u001b[0m\u001b[0;34m\u001b[0m\u001b[0m\n\u001b[1;32m   2714\u001b[0m \u001b[0;34m\u001b[0m\u001b[0m\n\u001b[0;32m-> 2715\u001b[0;31m             \u001b[0;32mreturn\u001b[0m \u001b[0mself\u001b[0m\u001b[0;34m.\u001b[0m\u001b[0m_call\u001b[0m\u001b[0;34m(\u001b[0m\u001b[0minputs\u001b[0m\u001b[0;34m)\u001b[0m\u001b[0;34m\u001b[0m\u001b[0;34m\u001b[0m\u001b[0m\n\u001b[0m\u001b[1;32m   2716\u001b[0m         \u001b[0;32melse\u001b[0m\u001b[0;34m:\u001b[0m\u001b[0;34m\u001b[0m\u001b[0;34m\u001b[0m\u001b[0m\n\u001b[1;32m   2717\u001b[0m             \u001b[0;32mif\u001b[0m \u001b[0mpy_any\u001b[0m\u001b[0;34m(\u001b[0m\u001b[0mis_tensor\u001b[0m\u001b[0;34m(\u001b[0m\u001b[0mx\u001b[0m\u001b[0;34m)\u001b[0m \u001b[0;32mfor\u001b[0m \u001b[0mx\u001b[0m \u001b[0;32min\u001b[0m \u001b[0minputs\u001b[0m\u001b[0;34m)\u001b[0m\u001b[0;34m:\u001b[0m\u001b[0;34m\u001b[0m\u001b[0;34m\u001b[0m\u001b[0m\n",
      "\u001b[0;32m/anaconda3/envs/py36/lib/python3.6/site-packages/keras/backend/tensorflow_backend.py\u001b[0m in \u001b[0;36m_call\u001b[0;34m(self, inputs)\u001b[0m\n\u001b[1;32m   2673\u001b[0m             \u001b[0mfetched\u001b[0m \u001b[0;34m=\u001b[0m \u001b[0mself\u001b[0m\u001b[0;34m.\u001b[0m\u001b[0m_callable_fn\u001b[0m\u001b[0;34m(\u001b[0m\u001b[0;34m*\u001b[0m\u001b[0marray_vals\u001b[0m\u001b[0;34m,\u001b[0m \u001b[0mrun_metadata\u001b[0m\u001b[0;34m=\u001b[0m\u001b[0mself\u001b[0m\u001b[0;34m.\u001b[0m\u001b[0mrun_metadata\u001b[0m\u001b[0;34m)\u001b[0m\u001b[0;34m\u001b[0m\u001b[0;34m\u001b[0m\u001b[0m\n\u001b[1;32m   2674\u001b[0m         \u001b[0;32melse\u001b[0m\u001b[0;34m:\u001b[0m\u001b[0;34m\u001b[0m\u001b[0;34m\u001b[0m\u001b[0m\n\u001b[0;32m-> 2675\u001b[0;31m             \u001b[0mfetched\u001b[0m \u001b[0;34m=\u001b[0m \u001b[0mself\u001b[0m\u001b[0;34m.\u001b[0m\u001b[0m_callable_fn\u001b[0m\u001b[0;34m(\u001b[0m\u001b[0;34m*\u001b[0m\u001b[0marray_vals\u001b[0m\u001b[0;34m)\u001b[0m\u001b[0;34m\u001b[0m\u001b[0;34m\u001b[0m\u001b[0m\n\u001b[0m\u001b[1;32m   2676\u001b[0m         \u001b[0;32mreturn\u001b[0m \u001b[0mfetched\u001b[0m\u001b[0;34m[\u001b[0m\u001b[0;34m:\u001b[0m\u001b[0mlen\u001b[0m\u001b[0;34m(\u001b[0m\u001b[0mself\u001b[0m\u001b[0;34m.\u001b[0m\u001b[0moutputs\u001b[0m\u001b[0;34m)\u001b[0m\u001b[0;34m]\u001b[0m\u001b[0;34m\u001b[0m\u001b[0;34m\u001b[0m\u001b[0m\n\u001b[1;32m   2677\u001b[0m \u001b[0;34m\u001b[0m\u001b[0m\n",
      "\u001b[0;32m/anaconda3/envs/py36/lib/python3.6/site-packages/tensorflow/python/client/session.py\u001b[0m in \u001b[0;36m__call__\u001b[0;34m(self, *args, **kwargs)\u001b[0m\n\u001b[1;32m   1437\u001b[0m           ret = tf_session.TF_SessionRunCallable(\n\u001b[1;32m   1438\u001b[0m               \u001b[0mself\u001b[0m\u001b[0;34m.\u001b[0m\u001b[0m_session\u001b[0m\u001b[0;34m.\u001b[0m\u001b[0m_session\u001b[0m\u001b[0;34m,\u001b[0m \u001b[0mself\u001b[0m\u001b[0;34m.\u001b[0m\u001b[0m_handle\u001b[0m\u001b[0;34m,\u001b[0m \u001b[0margs\u001b[0m\u001b[0;34m,\u001b[0m \u001b[0mstatus\u001b[0m\u001b[0;34m,\u001b[0m\u001b[0;34m\u001b[0m\u001b[0;34m\u001b[0m\u001b[0m\n\u001b[0;32m-> 1439\u001b[0;31m               run_metadata_ptr)\n\u001b[0m\u001b[1;32m   1440\u001b[0m         \u001b[0;32mif\u001b[0m \u001b[0mrun_metadata\u001b[0m\u001b[0;34m:\u001b[0m\u001b[0;34m\u001b[0m\u001b[0;34m\u001b[0m\u001b[0m\n\u001b[1;32m   1441\u001b[0m           \u001b[0mproto_data\u001b[0m \u001b[0;34m=\u001b[0m \u001b[0mtf_session\u001b[0m\u001b[0;34m.\u001b[0m\u001b[0mTF_GetBuffer\u001b[0m\u001b[0;34m(\u001b[0m\u001b[0mrun_metadata_ptr\u001b[0m\u001b[0;34m)\u001b[0m\u001b[0;34m\u001b[0m\u001b[0;34m\u001b[0m\u001b[0m\n",
      "\u001b[0;31mKeyboardInterrupt\u001b[0m: "
     ]
    }
   ],
   "source": [
    "model.fit(X_train, Y_train, epochs=100, batch_size=128, validation_data=(X_test, Y_test), shuffle=True)\n"
   ]
  },
  {
   "cell_type": "code",
   "execution_count": 10,
   "metadata": {},
   "outputs": [
    {
     "ename": "NameError",
     "evalue": "name 'model' is not defined",
     "output_type": "error",
     "traceback": [
      "\u001b[0;31m---------------------------------------------------------------------------\u001b[0m",
      "\u001b[0;31mNameError\u001b[0m                                 Traceback (most recent call last)",
      "\u001b[0;32m<ipython-input-10-537a4614ffe9>\u001b[0m in \u001b[0;36m<module>\u001b[0;34m\u001b[0m\n\u001b[0;32m----> 1\u001b[0;31m \u001b[0mmodel\u001b[0m\u001b[0;34m.\u001b[0m\u001b[0mevaluate\u001b[0m\u001b[0;34m(\u001b[0m\u001b[0mx\u001b[0m\u001b[0;34m=\u001b[0m\u001b[0mX_train\u001b[0m\u001b[0;34m,\u001b[0m \u001b[0my\u001b[0m\u001b[0;34m=\u001b[0m\u001b[0mY_train\u001b[0m\u001b[0;34m,\u001b[0m \u001b[0mverbose\u001b[0m\u001b[0;34m=\u001b[0m\u001b[0;36m1\u001b[0m\u001b[0;34m)\u001b[0m\u001b[0;34m\u001b[0m\u001b[0;34m\u001b[0m\u001b[0m\n\u001b[0m",
      "\u001b[0;31mNameError\u001b[0m: name 'model' is not defined"
     ]
    }
   ],
   "source": [
    "model.evaluate(x=X_train, y=Y_train, verbose=1)\n"
   ]
  },
  {
   "cell_type": "code",
   "execution_count": 77,
   "metadata": {},
   "outputs": [
    {
     "data": {
      "text/plain": [
       "['oh', 'baby', 'how', 'you', 'doing', 'you', 'know', 'im', 'gonna', 'cut']"
      ]
     },
     "execution_count": 77,
     "metadata": {},
     "output_type": "execute_result"
    }
   ],
   "source": [
    "df.iloc[0].lyrics\n"
   ]
  },
  {
   "cell_type": "code",
   "execution_count": null,
   "metadata": {},
   "outputs": [],
   "source": [
    "hello world my name is Amit\n",
    "h e\n",
    "he l\n",
    "hel l\n",
    "hell o"
   ]
  }
 ],
 "metadata": {
  "kernelspec": {
   "display_name": "Python 3",
   "language": "python",
   "name": "python3"
  },
  "language_info": {
   "codemirror_mode": {
    "name": "ipython",
    "version": 3
   },
   "file_extension": ".py",
   "mimetype": "text/x-python",
   "name": "python",
   "nbconvert_exporter": "python",
   "pygments_lexer": "ipython3",
   "version": "3.6.7"
  }
 },
 "nbformat": 4,
 "nbformat_minor": 2
}
