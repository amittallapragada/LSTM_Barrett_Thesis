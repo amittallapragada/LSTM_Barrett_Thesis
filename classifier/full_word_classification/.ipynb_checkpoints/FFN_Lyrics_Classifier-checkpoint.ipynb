{
 "cells": [
  {
   "cell_type": "markdown",
   "metadata": {},
   "source": [
    "# Feed Forward Network Lyrics Classifier"
   ]
  },
  {
   "cell_type": "code",
   "execution_count": 1,
   "metadata": {},
   "outputs": [
    {
     "name": "stderr",
     "output_type": "stream",
     "text": [
      "Using TensorFlow backend.\n"
     ]
    }
   ],
   "source": [
    "import pandas as pd\n",
    "import seaborn as sns\n",
    "from keras.models import Sequential\n",
    "from keras.layers import LSTM, Activation, Dense, Dropout, Input, Embedding, Flatten, Bidirectional\n",
    "from keras.optimizers import Adam\n",
    "from keras.models import Model\n",
    "from keras.optimizers import RMSprop\n",
    "from keras.callbacks import EarlyStopping\n",
    "from keras.preprocessing.text import Tokenizer\n",
    "from keras.preprocessing import sequence\n",
    "from keras.preprocessing.text import text_to_word_sequence\n",
    "from keras.utils import np_utils\n",
    "#sklearn imports\n",
    "from sklearn.preprocessing import LabelEncoder\n",
    "from sklearn.preprocessing import OneHotEncoder\n",
    "from sklearn.model_selection import train_test_split"
   ]
  },
  {
   "cell_type": "code",
   "execution_count": 4,
   "metadata": {},
   "outputs": [
    {
     "data": {
      "text/plain": [
       "<matplotlib.axes._subplots.AxesSubplot at 0x12a5bc0f0>"
      ]
     },
     "execution_count": 4,
     "metadata": {},
     "output_type": "execute_result"
    },
    {
     "data": {
      "image/png": "[encoded data removed]",
      "text/plain": [
       "<Figure size 432x288 with 1 Axes>"
      ]
     },
     "metadata": {
      "needs_background": "light"
     },
     "output_type": "display_data"
    }
   ],
   "source": [
    "df = pd.read_pickle('../../data/lyrics.pkl', compression='gzip')\n",
    "sns.countplot(df.genre)"
   ]
  },
  {
   "cell_type": "markdown",
   "metadata": {},
   "source": [
    "### We limit the scope of this project to classifying to 4 genres so our data for each genre can be of equivalent size"
   ]
  },
  {
   "cell_type": "code",
   "execution_count": 5,
   "metadata": {},
   "outputs": [
    {
     "data": {
      "text/html": [
       "<div>\n",
       "<style scoped>\n",
       "    .dataframe tbody tr th:only-of-type {\n",
       "        vertical-align: middle;\n",
       "    }\n",
       "\n",
       "    .dataframe tbody tr th {\n",
       "        vertical-align: top;\n",
       "    }\n",
       "\n",
       "    .dataframe thead th {\n",
       "        text-align: right;\n",
       "    }\n",
       "</style>\n",
       "<table border=\"1\" class=\"dataframe\">\n",
       "  <thead>\n",
       "    <tr style=\"text-align: right;\">\n",
       "      <th></th>\n",
       "      <th>index</th>\n",
       "      <th>song</th>\n",
       "      <th>year</th>\n",
       "      <th>artist</th>\n",
       "      <th>genre</th>\n",
       "      <th>lyrics</th>\n",
       "    </tr>\n",
       "    <tr>\n",
       "      <th>genre</th>\n",
       "      <th></th>\n",
       "      <th></th>\n",
       "      <th></th>\n",
       "      <th></th>\n",
       "      <th></th>\n",
       "      <th></th>\n",
       "    </tr>\n",
       "  </thead>\n",
       "  <tbody>\n",
       "    <tr>\n",
       "      <th>Hip-Hop</th>\n",
       "      <td>24850</td>\n",
       "      <td>21479</td>\n",
       "      <td>32</td>\n",
       "      <td>1107</td>\n",
       "      <td>1</td>\n",
       "      <td>22648</td>\n",
       "    </tr>\n",
       "    <tr>\n",
       "      <th>Metal</th>\n",
       "      <td>23759</td>\n",
       "      <td>21852</td>\n",
       "      <td>33</td>\n",
       "      <td>996</td>\n",
       "      <td>1</td>\n",
       "      <td>22498</td>\n",
       "    </tr>\n",
       "    <tr>\n",
       "      <th>Pop</th>\n",
       "      <td>40466</td>\n",
       "      <td>32443</td>\n",
       "      <td>47</td>\n",
       "      <td>2066</td>\n",
       "      <td>1</td>\n",
       "      <td>37229</td>\n",
       "    </tr>\n",
       "    <tr>\n",
       "      <th>Rock</th>\n",
       "      <td>109235</td>\n",
       "      <td>85240</td>\n",
       "      <td>48</td>\n",
       "      <td>3765</td>\n",
       "      <td>1</td>\n",
       "      <td>102512</td>\n",
       "    </tr>\n",
       "  </tbody>\n",
       "</table>\n",
       "</div>"
      ],
      "text/plain": [
       "          index   song  year  artist  genre  lyrics\n",
       "genre                                              \n",
       "Hip-Hop   24850  21479    32    1107      1   22648\n",
       "Metal     23759  21852    33     996      1   22498\n",
       "Pop       40466  32443    47    2066      1   37229\n",
       "Rock     109235  85240    48    3765      1  102512"
      ]
     },
     "execution_count": 5,
     "metadata": {},
     "output_type": "execute_result"
    }
   ],
   "source": [
    "#probably a better way to do this\n",
    "df = df[(df.genre == 'Pop') | (df.genre == 'Hip-Hop') | (df.genre == 'Metal') | (df.genre == 'Rock')]\n",
    "df.dropna(inplace=True)\n",
    "df.groupby('genre').nunique('genre')"
   ]
  },
  {
   "cell_type": "code",
   "execution_count": 6,
   "metadata": {},
   "outputs": [
    {
     "name": "stdout",
     "output_type": "stream",
     "text": [
      "8000\n"
     ]
    },
    {
     "data": {
      "image/png": "[encoded data removed]",
      "text/plain": [
       "<Figure size 432x288 with 1 Axes>"
      ]
     },
     "metadata": {
      "needs_background": "light"
     },
     "output_type": "display_data"
    }
   ],
   "source": [
    "#also probably a better way to do this using 28408 because that is the smallest count\n",
    "import matplotlib.pyplot as plt\n",
    "pop = df.loc[df['genre']=='Pop'].head(2000)\n",
    "hiphop = df.loc[df['genre']=='Hip-Hop'].head(2000)\n",
    "rock = df.loc[df['genre']=='Rock'].head(2000)\n",
    "metal = df.loc[df['genre']=='Metal'].head(2000)\n",
    "#really ratchet\n",
    "output = pop.append(hiphop)\n",
    "output = output.append(rock)\n",
    "output = output.append(metal)\n",
    "output.dropna(inplace=True)\n",
    "output.reset_index(drop=True, inplace=True)\n",
    "print(len(output))\n",
    "#but it works...\n",
    "t = sns.countplot(output.genre)\n",
    "plt.savefig('dataset.png')"
   ]
  },
  {
   "cell_type": "markdown",
   "metadata": {},
   "source": [
    "# preprocess data\n",
    "- convert our songs into numerical sequences each padded to the length of the longest song\n",
    "- use one-hot encoding to encode our genres"
   ]
  },
  {
   "cell_type": "markdown",
   "metadata": {},
   "source": [
    "creating our feature set w/Keras tokenizer class"
   ]
  },
  {
   "cell_type": "code",
   "execution_count": 7,
   "metadata": {},
   "outputs": [
    {
     "data": {
      "text/plain": [
       "8000"
      ]
     },
     "execution_count": 7,
     "metadata": {},
     "output_type": "execute_result"
    }
   ],
   "source": [
    "#this value is the length of the longest song in our dataset.\n",
    "MAX_VALUE = 8196\n",
    "tok = Tokenizer(num_words=MAX_VALUE)\n",
    "tok.fit_on_texts(df.lyrics)\n",
    "#build sequences\n",
    "sequences = tok.texts_to_sequences(output.lyrics)\n",
    "sequences_matrix = sequence.pad_sequences(sequences, maxlen=MAX_VALUE)\n",
    "len(sequences_matrix)"
   ]
  },
  {
   "cell_type": "markdown",
   "metadata": {},
   "source": [
    "creating our target variables"
   ]
  },
  {
   "cell_type": "code",
   "execution_count": 8,
   "metadata": {},
   "outputs": [
    {
     "name": "stdout",
     "output_type": "stream",
     "text": [
      "[[0. 0. 1. 0.]\n",
      " [0. 0. 1. 0.]\n",
      " [0. 0. 1. 0.]\n",
      " ...\n",
      " [0. 1. 0. 0.]\n",
      " [0. 1. 0. 0.]\n",
      " [0. 1. 0. 0.]]\n"
     ]
    },
    {
     "name": "stderr",
     "output_type": "stream",
     "text": [
      "/anaconda3/envs/py36/lib/python3.6/site-packages/sklearn/preprocessing/_encoders.py:371: FutureWarning: The handling of integer data will change in version 0.22. Currently, the categories are determined based on the range [0, max(values)], while in the future they will be determined based on the unique values.\n",
      "If you want the future behaviour and silence this warning, you can specify \"categories='auto'\".\n",
      "In case you used a LabelEncoder before this OneHotEncoder to convert the categories to integers, then you can now use the OneHotEncoder directly.\n",
      "  warnings.warn(msg, FutureWarning)\n"
     ]
    }
   ],
   "source": [
    "label_encoder = LabelEncoder()\n",
    "onehot_encoder = OneHotEncoder(sparse=False)\n",
    "\n",
    "integer_encoded = label_encoder.fit_transform(output.genre)\n",
    "integer_encoded = integer_encoded.reshape(len(integer_encoded), 1)\n",
    "onehot_encoded = onehot_encoder.fit_transform(integer_encoded)\n",
    "print(onehot_encoded)"
   ]
  },
  {
   "cell_type": "markdown",
   "metadata": {},
   "source": [
    "### Split data into test/train 80/20 split"
   ]
  },
  {
   "cell_type": "code",
   "execution_count": 9,
   "metadata": {},
   "outputs": [],
   "source": [
    "X_train,X_test,Y_train,Y_test = train_test_split(sequences_matrix,onehot_encoded,test_size=0.2)"
   ]
  },
  {
   "cell_type": "code",
   "execution_count": 13,
   "metadata": {},
   "outputs": [],
   "source": [
    "model = Sequential()\n",
    "model.add(Dense(128, input_shape=X_train[0].shape, activation='relu'))\n",
    "model.add(Dense(64, activation='relu'))\n",
    "model.add(Dense(4, activation='softmax'))\n",
    "optimizer = RMSprop(lr=0.001)\n",
    "model.compile(loss='categorical_crossentropy', optimizer=optimizer, metrics=['accuracy'])"
   ]
  },
  {
   "cell_type": "code",
   "execution_count": 14,
   "metadata": {
    "scrolled": true
   },
   "outputs": [
    {
     "name": "stdout",
     "output_type": "stream",
     "text": [
      "Train on 6400 samples, validate on 1600 samples\n",
      "Epoch 1/100\n",
      "6400/6400 [==============================] - 1s 166us/step - loss: 11.7956 - acc: 0.2620 - val_loss: 12.2142 - val_acc: 0.2412\n",
      "Epoch 2/100\n",
      "6400/6400 [==============================] - 1s 128us/step - loss: 9.8642 - acc: 0.3847 - val_loss: 9.5234 - val_acc: 0.4075\n",
      "Epoch 3/100\n",
      "6400/6400 [==============================] - 1s 142us/step - loss: 9.6683 - acc: 0.3947 - val_loss: 9.3840 - val_acc: 0.4144\n",
      "Epoch 4/100\n",
      "6400/6400 [==============================] - 1s 154us/step - loss: 9.2417 - acc: 0.4216 - val_loss: 9.2085 - val_acc: 0.4238\n",
      "Epoch 5/100\n",
      "6400/6400 [==============================] - 1s 128us/step - loss: 9.2190 - acc: 0.4225 - val_loss: 9.5060 - val_acc: 0.4081\n",
      "Epoch 6/100\n",
      "6400/6400 [==============================] - 1s 146us/step - loss: 9.3872 - acc: 0.4134 - val_loss: 9.2895 - val_acc: 0.4175\n",
      "Epoch 7/100\n",
      "6400/6400 [==============================] - 1s 137us/step - loss: 9.2115 - acc: 0.4244 - val_loss: 9.1573 - val_acc: 0.4275\n",
      "Epoch 8/100\n",
      "6400/6400 [==============================] - 1s 131us/step - loss: 9.0768 - acc: 0.4320 - val_loss: 9.4648 - val_acc: 0.4106\n",
      "Epoch 9/100\n",
      "6400/6400 [==============================] - 1s 168us/step - loss: 9.2498 - acc: 0.4225 - val_loss: 9.4050 - val_acc: 0.4131\n",
      "Epoch 10/100\n",
      "6400/6400 [==============================] - 1s 139us/step - loss: 9.3438 - acc: 0.4145 - val_loss: 9.8541 - val_acc: 0.3831\n",
      "Epoch 11/100\n",
      "6400/6400 [==============================] - 1s 128us/step - loss: 9.4769 - acc: 0.4064 - val_loss: 9.3995 - val_acc: 0.4094\n",
      "Epoch 12/100\n",
      "6400/6400 [==============================] - 1s 128us/step - loss: 9.2925 - acc: 0.4164 - val_loss: 9.4206 - val_acc: 0.4075\n",
      "Epoch 13/100\n",
      "6400/6400 [==============================] - 1s 128us/step - loss: 9.3795 - acc: 0.4120 - val_loss: 9.1272 - val_acc: 0.4306\n",
      "Epoch 14/100\n",
      "6400/6400 [==============================] - 1s 127us/step - loss: 9.3637 - acc: 0.4120 - val_loss: 9.1965 - val_acc: 0.4213\n",
      "Epoch 15/100\n",
      "6400/6400 [==============================] - 1s 128us/step - loss: 9.2094 - acc: 0.4211 - val_loss: 9.1658 - val_acc: 0.4263\n",
      "Epoch 16/100\n",
      "6400/6400 [==============================] - 1s 128us/step - loss: 9.3098 - acc: 0.4155 - val_loss: 9.5905 - val_acc: 0.4000\n",
      "Epoch 17/100\n",
      "6400/6400 [==============================] - 1s 132us/step - loss: 9.6803 - acc: 0.3933 - val_loss: 9.1968 - val_acc: 0.4206\n",
      "Epoch 18/100\n",
      "6400/6400 [==============================] - 1s 144us/step - loss: 9.2068 - acc: 0.4220 - val_loss: 9.1676 - val_acc: 0.4256\n",
      "Epoch 19/100\n",
      "6400/6400 [==============================] - 1s 145us/step - loss: 9.3186 - acc: 0.4161 - val_loss: 9.6551 - val_acc: 0.3956\n",
      "Epoch 20/100\n",
      "6400/6400 [==============================] - 1s 129us/step - loss: 9.5562 - acc: 0.4014 - val_loss: 9.5879 - val_acc: 0.4006\n",
      "Epoch 21/100\n",
      "6400/6400 [==============================] - 1s 129us/step - loss: 9.4488 - acc: 0.4075 - val_loss: 9.1672 - val_acc: 0.4269\n",
      "Epoch 22/100\n",
      "6400/6400 [==============================] - 1s 130us/step - loss: 9.4386 - acc: 0.4081 - val_loss: 9.4758 - val_acc: 0.4069\n",
      "Epoch 23/100\n",
      "6400/6400 [==============================] - 1s 129us/step - loss: 9.2815 - acc: 0.4178 - val_loss: 9.2606 - val_acc: 0.4206\n",
      "Epoch 24/100\n",
      "6400/6400 [==============================] - 1s 129us/step - loss: 9.2563 - acc: 0.4200 - val_loss: 9.5832 - val_acc: 0.3994\n",
      "Epoch 25/100\n",
      "6400/6400 [==============================] - 1s 129us/step - loss: 9.1867 - acc: 0.4241 - val_loss: 9.1683 - val_acc: 0.4263\n",
      "Epoch 26/100\n",
      "6400/6400 [==============================] - 1s 128us/step - loss: 9.1535 - acc: 0.4261 - val_loss: 9.1590 - val_acc: 0.4225\n",
      "Epoch 27/100\n",
      "6400/6400 [==============================] - 1s 128us/step - loss: 9.2077 - acc: 0.4225 - val_loss: 9.1619 - val_acc: 0.4263\n",
      "Epoch 28/100\n",
      "6400/6400 [==============================] - 1s 128us/step - loss: 9.1629 - acc: 0.4245 - val_loss: 9.1634 - val_acc: 0.4263\n",
      "Epoch 29/100\n",
      "6400/6400 [==============================] - 1s 128us/step - loss: 9.1979 - acc: 0.4244 - val_loss: 9.1605 - val_acc: 0.4269\n",
      "Epoch 30/100\n",
      "6400/6400 [==============================] - 1s 128us/step - loss: 9.1926 - acc: 0.4248 - val_loss: 9.1871 - val_acc: 0.4213\n",
      "Epoch 31/100\n",
      "6400/6400 [==============================] - 1s 129us/step - loss: 9.1723 - acc: 0.4250 - val_loss: 9.1257 - val_acc: 0.4250\n",
      "Epoch 32/100\n",
      "6400/6400 [==============================] - 1s 128us/step - loss: 9.1601 - acc: 0.4253 - val_loss: 9.1740 - val_acc: 0.4263\n",
      "Epoch 33/100\n",
      "6400/6400 [==============================] - 1s 128us/step - loss: 9.2727 - acc: 0.4186 - val_loss: 9.2326 - val_acc: 0.4219\n",
      "Epoch 34/100\n",
      "6400/6400 [==============================] - 1s 129us/step - loss: 9.1935 - acc: 0.4239 - val_loss: 9.1824 - val_acc: 0.4256\n",
      "Epoch 35/100\n",
      "6400/6400 [==============================] - 1s 129us/step - loss: 9.2387 - acc: 0.4222 - val_loss: 9.7739 - val_acc: 0.3887\n",
      "Epoch 36/100\n",
      "6400/6400 [==============================] - 1s 129us/step - loss: 10.0638 - acc: 0.3708 - val_loss: 10.2895 - val_acc: 0.3563\n",
      "Epoch 37/100\n",
      "6400/6400 [==============================] - 1s 129us/step - loss: 9.7896 - acc: 0.3872 - val_loss: 9.2754 - val_acc: 0.4194\n",
      "Epoch 38/100\n",
      "6400/6400 [==============================] - 1s 128us/step - loss: 9.3138 - acc: 0.4159 - val_loss: 9.1550 - val_acc: 0.4269\n",
      "Epoch 39/100\n",
      "6400/6400 [==============================] - 1s 129us/step - loss: 9.2167 - acc: 0.4228 - val_loss: 9.1812 - val_acc: 0.4256\n",
      "Epoch 40/100\n",
      "6400/6400 [==============================] - 1s 128us/step - loss: 9.1988 - acc: 0.4236 - val_loss: 9.1826 - val_acc: 0.4250\n",
      "Epoch 41/100\n",
      "6400/6400 [==============================] - 1s 128us/step - loss: 9.6475 - acc: 0.3956 - val_loss: 9.3252 - val_acc: 0.4150\n",
      "Epoch 42/100\n",
      "6400/6400 [==============================] - 1s 128us/step - loss: 9.2701 - acc: 0.4198 - val_loss: 9.2499 - val_acc: 0.4213\n",
      "Epoch 43/100\n",
      "6400/6400 [==============================] - 1s 128us/step - loss: 9.3320 - acc: 0.4155 - val_loss: 9.2375 - val_acc: 0.4213\n",
      "Epoch 44/100\n",
      "6400/6400 [==============================] - 1s 129us/step - loss: 9.3699 - acc: 0.4134 - val_loss: 9.7349 - val_acc: 0.3912\n",
      "Epoch 45/100\n",
      "6400/6400 [==============================] - 1s 128us/step - loss: 9.6547 - acc: 0.3961 - val_loss: 9.3477 - val_acc: 0.4150\n",
      "Epoch 46/100\n",
      "6400/6400 [==============================] - 1s 128us/step - loss: 9.3456 - acc: 0.4152 - val_loss: 9.2256 - val_acc: 0.4213\n",
      "Epoch 47/100\n",
      "6400/6400 [==============================] - 1s 128us/step - loss: 9.3130 - acc: 0.4172 - val_loss: 9.3065 - val_acc: 0.4169\n",
      "Epoch 48/100\n",
      "6400/6400 [==============================] - 1s 130us/step - loss: 9.1673 - acc: 0.4252 - val_loss: 9.1917 - val_acc: 0.4244\n",
      "Epoch 49/100\n",
      "6400/6400 [==============================] - 1s 129us/step - loss: 9.2004 - acc: 0.4236 - val_loss: 9.2509 - val_acc: 0.4213\n",
      "Epoch 50/100\n",
      "6400/6400 [==============================] - 1s 129us/step - loss: 9.1784 - acc: 0.4247 - val_loss: 9.1813 - val_acc: 0.4256\n",
      "Epoch 51/100\n",
      "6400/6400 [==============================] - 1s 128us/step - loss: 9.3138 - acc: 0.4167 - val_loss: 9.2928 - val_acc: 0.4188\n",
      "Epoch 52/100\n",
      "6400/6400 [==============================] - 1s 129us/step - loss: 9.3592 - acc: 0.4141 - val_loss: 9.2743 - val_acc: 0.4194\n",
      "Epoch 53/100\n",
      "6400/6400 [==============================] - 1s 130us/step - loss: 9.3469 - acc: 0.4148 - val_loss: 9.2518 - val_acc: 0.4219\n",
      "Epoch 54/100\n",
      "6400/6400 [==============================] - 1s 128us/step - loss: 9.3564 - acc: 0.4136 - val_loss: 9.5828 - val_acc: 0.4012\n",
      "Epoch 55/100\n",
      "6400/6400 [==============================] - 1s 132us/step - loss: 9.5040 - acc: 0.4050 - val_loss: 9.2568 - val_acc: 0.4206\n",
      "Epoch 56/100\n",
      "6400/6400 [==============================] - 1s 131us/step - loss: 9.2080 - acc: 0.4231 - val_loss: 9.1968 - val_acc: 0.4250\n",
      "Epoch 57/100\n",
      "6400/6400 [==============================] - 1s 130us/step - loss: 9.1915 - acc: 0.4247 - val_loss: 9.2143 - val_acc: 0.4231\n",
      "Epoch 58/100\n",
      "6400/6400 [==============================] - 1s 148us/step - loss: 9.2076 - acc: 0.4237 - val_loss: 9.2316 - val_acc: 0.4225\n",
      "Epoch 59/100\n",
      "6400/6400 [==============================] - 1s 139us/step - loss: 9.1915 - acc: 0.4248 - val_loss: 9.2423 - val_acc: 0.4188\n",
      "Epoch 60/100\n"
     ]
    },
    {
     "name": "stdout",
     "output_type": "stream",
     "text": [
      "6400/6400 [==============================] - 1s 130us/step - loss: 9.0969 - acc: 0.4298 - val_loss: 9.2570 - val_acc: 0.4213\n",
      "Epoch 61/100\n",
      "6400/6400 [==============================] - 1s 126us/step - loss: 9.2035 - acc: 0.4233 - val_loss: 9.2321 - val_acc: 0.4219\n",
      "Epoch 62/100\n",
      "6400/6400 [==============================] - 1s 126us/step - loss: 9.1793 - acc: 0.4253 - val_loss: 9.2221 - val_acc: 0.4231\n",
      "Epoch 63/100\n",
      "6400/6400 [==============================] - 1s 124us/step - loss: 9.2332 - acc: 0.4181 - val_loss: 9.3073 - val_acc: 0.4181\n",
      "Epoch 64/100\n",
      "6400/6400 [==============================] - 1s 123us/step - loss: 9.3121 - acc: 0.4173 - val_loss: 9.2642 - val_acc: 0.4206\n",
      "Epoch 65/100\n",
      "6400/6400 [==============================] - 1s 124us/step - loss: 9.1618 - acc: 0.4266 - val_loss: 9.1724 - val_acc: 0.4263\n",
      "Epoch 66/100\n",
      "6400/6400 [==============================] - 1s 135us/step - loss: 9.0838 - acc: 0.4312 - val_loss: 9.1682 - val_acc: 0.4269\n",
      "Epoch 67/100\n",
      "6400/6400 [==============================] - 1s 137us/step - loss: 9.1202 - acc: 0.4266 - val_loss: 9.1948 - val_acc: 0.4250\n",
      "Epoch 68/100\n",
      "6400/6400 [==============================] - 1s 130us/step - loss: 9.1298 - acc: 0.4275 - val_loss: 9.1851 - val_acc: 0.4250\n",
      "Epoch 69/100\n",
      "6400/6400 [==============================] - 1s 146us/step - loss: 9.0353 - acc: 0.4339 - val_loss: 9.2199 - val_acc: 0.4238\n",
      "Epoch 70/100\n",
      "6400/6400 [==============================] - 1s 147us/step - loss: 8.9088 - acc: 0.4422 - val_loss: 9.2628 - val_acc: 0.4206\n",
      "Epoch 71/100\n",
      "6400/6400 [==============================] - 1s 135us/step - loss: 8.9697 - acc: 0.4377 - val_loss: 9.2048 - val_acc: 0.4244\n",
      "Epoch 72/100\n",
      "6400/6400 [==============================] - 1s 128us/step - loss: 8.8568 - acc: 0.4445 - val_loss: 9.2084 - val_acc: 0.4244\n",
      "Epoch 73/100\n",
      "6400/6400 [==============================] - 1s 129us/step - loss: 9.0940 - acc: 0.4305 - val_loss: 9.2009 - val_acc: 0.4244\n",
      "Epoch 74/100\n",
      "6400/6400 [==============================] - 1s 128us/step - loss: 9.0141 - acc: 0.4353 - val_loss: 9.2419 - val_acc: 0.4206\n",
      "Epoch 75/100\n",
      "6400/6400 [==============================] - 1s 145us/step - loss: 9.0006 - acc: 0.4364 - val_loss: 9.1052 - val_acc: 0.4300\n",
      "Epoch 76/100\n",
      "6400/6400 [==============================] - 1s 134us/step - loss: 8.9414 - acc: 0.4397 - val_loss: 9.2525 - val_acc: 0.4206\n",
      "Epoch 77/100\n",
      "6400/6400 [==============================] - 1s 128us/step - loss: 9.0680 - acc: 0.4316 - val_loss: 9.2819 - val_acc: 0.4194\n",
      "Epoch 78/100\n",
      "6400/6400 [==============================] - 1s 128us/step - loss: 9.1662 - acc: 0.4258 - val_loss: 9.3415 - val_acc: 0.4163\n",
      "Epoch 79/100\n",
      "6400/6400 [==============================] - 1s 129us/step - loss: 9.1300 - acc: 0.4284 - val_loss: 9.3279 - val_acc: 0.4163\n",
      "Epoch 80/100\n",
      "6400/6400 [==============================] - 1s 127us/step - loss: 8.9695 - acc: 0.4373 - val_loss: 9.1899 - val_acc: 0.4256\n",
      "Epoch 81/100\n",
      "6400/6400 [==============================] - 1s 128us/step - loss: 8.8518 - acc: 0.4456 - val_loss: 9.2104 - val_acc: 0.4238\n",
      "Epoch 82/100\n",
      "6400/6400 [==============================] - 1s 129us/step - loss: 9.2048 - acc: 0.4237 - val_loss: 9.4847 - val_acc: 0.4069\n",
      "Epoch 83/100\n",
      "6400/6400 [==============================] - 1s 128us/step - loss: 9.5209 - acc: 0.4039 - val_loss: 9.9748 - val_acc: 0.3769\n",
      "Epoch 84/100\n",
      "6400/6400 [==============================] - 1s 127us/step - loss: 9.6450 - acc: 0.3964 - val_loss: 9.7788 - val_acc: 0.3887\n",
      "Epoch 85/100\n",
      "6400/6400 [==============================] - 1s 129us/step - loss: 9.9829 - acc: 0.3758 - val_loss: 10.1130 - val_acc: 0.3675\n",
      "Epoch 86/100\n",
      "6400/6400 [==============================] - 1s 136us/step - loss: 9.9135 - acc: 0.3802 - val_loss: 10.1826 - val_acc: 0.3638\n",
      "Epoch 87/100\n",
      "6400/6400 [==============================] - 1s 136us/step - loss: 9.5011 - acc: 0.4052 - val_loss: 9.6859 - val_acc: 0.3937\n",
      "Epoch 88/100\n",
      "6400/6400 [==============================] - 1s 143us/step - loss: 9.3520 - acc: 0.4147 - val_loss: 9.3302 - val_acc: 0.4169\n",
      "Epoch 89/100\n",
      "6400/6400 [==============================] - 1s 139us/step - loss: 9.1320 - acc: 0.4281 - val_loss: 9.2736 - val_acc: 0.4188\n",
      "Epoch 90/100\n",
      "6400/6400 [==============================] - 1s 135us/step - loss: 9.0804 - acc: 0.4311 - val_loss: 9.5828 - val_acc: 0.4000\n",
      "Epoch 91/100\n",
      "6400/6400 [==============================] - 1s 149us/step - loss: 9.2857 - acc: 0.4181 - val_loss: 9.5915 - val_acc: 0.3994\n",
      "Epoch 92/100\n",
      "6400/6400 [==============================] - 1s 136us/step - loss: 9.0946 - acc: 0.4303 - val_loss: 9.1600 - val_acc: 0.4269\n",
      "Epoch 93/100\n",
      "6400/6400 [==============================] - 1s 139us/step - loss: 9.0858 - acc: 0.4308 - val_loss: 9.5946 - val_acc: 0.3994\n",
      "Epoch 94/100\n",
      "6400/6400 [==============================] - 1s 139us/step - loss: 9.0746 - acc: 0.4317 - val_loss: 9.1382 - val_acc: 0.4281\n",
      "Epoch 95/100\n",
      "6400/6400 [==============================] - 1s 138us/step - loss: 9.0839 - acc: 0.4314 - val_loss: 9.1904 - val_acc: 0.4256\n",
      "Epoch 96/100\n",
      "6400/6400 [==============================] - 1s 143us/step - loss: 9.0175 - acc: 0.4355 - val_loss: 9.1008 - val_acc: 0.4300\n",
      "Epoch 97/100\n",
      "6400/6400 [==============================] - 1s 145us/step - loss: 8.9377 - acc: 0.4406 - val_loss: 9.1209 - val_acc: 0.4294\n",
      "Epoch 98/100\n",
      "6400/6400 [==============================] - 1s 141us/step - loss: 9.1342 - acc: 0.4284 - val_loss: 9.5955 - val_acc: 0.4000\n",
      "Epoch 99/100\n",
      "6400/6400 [==============================] - 1s 139us/step - loss: 9.3267 - acc: 0.4161 - val_loss: 9.4210 - val_acc: 0.4062\n",
      "Epoch 100/100\n",
      "6400/6400 [==============================] - 1s 159us/step - loss: 9.3267 - acc: 0.4161 - val_loss: 9.4753 - val_acc: 0.4056\n"
     ]
    },
    {
     "data": {
      "text/plain": [
       "<keras.callbacks.History at 0x10e0435f8>"
      ]
     },
     "execution_count": 14,
     "metadata": {},
     "output_type": "execute_result"
    }
   ],
   "source": [
    "model.fit(X_train, Y_train, epochs=100, batch_size=128, validation_data=(X_test, Y_test), shuffle=True)"
   ]
  },
  {
   "cell_type": "markdown",
   "metadata": {},
   "source": [
    "### Pretrained model"
   ]
  },
  {
   "cell_type": "code",
   "execution_count": 17,
   "metadata": {},
   "outputs": [],
   "source": [
    "model.load_weights('models/full_word_classifier_FFN.h5')"
   ]
  },
  {
   "cell_type": "code",
   "execution_count": 18,
   "metadata": {},
   "outputs": [
    {
     "name": "stdout",
     "output_type": "stream",
     "text": [
      "6400/6400 [==============================] - 1s 85us/step\n"
     ]
    },
    {
     "data": {
      "text/plain": [
       "[9.182485146522522, 0.425]"
      ]
     },
     "execution_count": 18,
     "metadata": {},
     "output_type": "execute_result"
    }
   ],
   "source": [
    "model.evaluate(x=X_train, y=Y_train, verbose=1)"
   ]
  },
  {
   "cell_type": "code",
   "execution_count": null,
   "metadata": {},
   "outputs": [],
   "source": []
  }
 ],
 "metadata": {
  "kernelspec": {
   "display_name": "Python 3",
   "language": "python",
   "name": "python3"
  },
  "language_info": {
   "codemirror_mode": {
    "name": "ipython",
    "version": 3
   },
   "file_extension": ".py",
   "mimetype": "text/x-python",
   "name": "python",
   "nbconvert_exporter": "python",
   "pygments_lexer": "ipython3",
   "version": "3.6.7"
  }
 },
 "nbformat": 4,
 "nbformat_minor": 2
}
