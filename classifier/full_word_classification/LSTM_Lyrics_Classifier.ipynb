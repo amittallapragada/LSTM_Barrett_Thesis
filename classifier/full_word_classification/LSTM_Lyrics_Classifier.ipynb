{
  "nbformat": 4,
  "nbformat_minor": 0,
  "metadata": {
    "colab": {
      "name": "LSTM_Lyrics_Classifier.ipynb",
      "version": "0.3.2",
      "provenance": [],
      "collapsed_sections": []
    },
    "kernelspec": {
      "name": "python3",
      "display_name": "Python 3"
    },
    "accelerator": "GPU"
  },
  "cells": [
    {
      "metadata": {
        "id": "pj2ebZO-TjVh",
        "colab_type": "text"
      },
      "cell_type": "markdown",
      "source": [
        "# Classifying Lyrics with LSTM Networks"
      ]
    },
    {
      "metadata": {
        "id": "CQCJKe-FuKog",
        "colab_type": "code",
        "colab": {}
      },
      "cell_type": "code",
      "source": [
        "import pandas as pd\n",
        "import numpy as np\n",
        "#keras imports\n",
        "from keras.models import Sequential\n",
        "from keras.layers import Dense, Activation\n",
        "from keras.layers import Dropout\n",
        "from keras.layers import LSTM,CuDNNLSTM\n",
        "from keras.callbacks import LambdaCallback, ModelCheckpoint\n",
        "from keras.utils import np_utils\n",
        "import tensorflow as tf\n",
        "from keras.optimizers import RMSprop\n",
        "import seaborn as sns\n",
        "from keras.preprocessing.text import Tokenizer\n",
        "from keras.preprocessing import sequence\n",
        "from keras.preprocessing.text import text_to_word_sequence\n",
        "from keras.utils import np_utils\n",
        "#sklearn imports\n",
        "from sklearn.preprocessing import LabelEncoder\n",
        "from sklearn.preprocessing import OneHotEncoder\n",
        "from sklearn.metrics import confusion_matrix\n",
        "import pickle\n",
        "#import seaborn\n",
        "device_name = tf.test.gpu_device_name()\n",
        "#matplotlib\n",
        "import matplotlib.pyplot as plt\n",
        "#misc\n",
        "import itertools"
      ],
      "execution_count": 0,
      "outputs": []
    },
    {
      "metadata": {
        "id": "NdVPuo-vT4T7",
        "colab_type": "text"
      },
      "cell_type": "markdown",
      "source": [
        "To access files on Colab, you can import data directly to your google drive account and access it from there"
      ]
    },
    {
      "metadata": {
        "id": "InXifgY4uAPN",
        "colab_type": "code",
        "colab": {}
      },
      "cell_type": "code",
      "source": [
        "from google.colab import drive\n",
        "drive.mount('/content/drive/')"
      ],
      "execution_count": 0,
      "outputs": []
    },
    {
      "metadata": {
        "id": "hvONG6nmUPxF",
        "colab_type": "text"
      },
      "cell_type": "markdown",
      "source": [
        "We used the Keras' CuDNN LSTM implementation. In order to use this, you need to use a GPU. Change your runtime by adding a GPU as a hardware accelarator on Colab."
      ]
    },
    {
      "metadata": {
        "id": "GX05WOX3unwV",
        "colab_type": "code",
        "outputId": "071670a2-a454-4ab8-e1ce-09ac6cfd0d80",
        "colab": {
          "base_uri": "https://localhost:8080/",
          "height": 34
        }
      },
      "cell_type": "code",
      "source": [
        "device_name"
      ],
      "execution_count": 77,
      "outputs": [
        {
          "output_type": "execute_result",
          "data": {
            "text/plain": [
              "'/device:GPU:0'"
            ]
          },
          "metadata": {
            "tags": []
          },
          "execution_count": 77
        }
      ]
    },
    {
      "metadata": {
        "id": "zOzSPOrVUS-m",
        "colab_type": "text"
      },
      "cell_type": "markdown",
      "source": [
        "### Visualizing our data\n",
        "Source: Kaggle https://www.kaggle.com/gyani95/380000-lyrics-from-metrolyrics\n"
      ]
    },
    {
      "metadata": {
        "id": "hmh5gNSmuwRe",
        "colab_type": "code",
        "outputId": "63616fcd-fb24-4874-8dd2-4d55282d769a",
        "colab": {
          "base_uri": "https://localhost:8080/",
          "height": 202
        }
      },
      "cell_type": "code",
      "source": [
        "file_path = 'PATH_TO_DATA/lyrics.pkl'\n",
        "df = pd.read_pickle(file_path, compression='gzip')\n",
        "#drop nulls\n",
        "df.dropna(inplace=True)\n",
        "df.head()\n"
      ],
      "execution_count": 78,
      "outputs": [
        {
          "output_type": "execute_result",
          "data": {
            "text/html": [
              "<div>\n",
              "<style scoped>\n",
              "    .dataframe tbody tr th:only-of-type {\n",
              "        vertical-align: middle;\n",
              "    }\n",
              "\n",
              "    .dataframe tbody tr th {\n",
              "        vertical-align: top;\n",
              "    }\n",
              "\n",
              "    .dataframe thead th {\n",
              "        text-align: right;\n",
              "    }\n",
              "</style>\n",
              "<table border=\"1\" class=\"dataframe\">\n",
              "  <thead>\n",
              "    <tr style=\"text-align: right;\">\n",
              "      <th></th>\n",
              "      <th>index</th>\n",
              "      <th>song</th>\n",
              "      <th>year</th>\n",
              "      <th>artist</th>\n",
              "      <th>genre</th>\n",
              "      <th>lyrics</th>\n",
              "    </tr>\n",
              "  </thead>\n",
              "  <tbody>\n",
              "    <tr>\n",
              "      <th>0</th>\n",
              "      <td>0</td>\n",
              "      <td>ego-remix</td>\n",
              "      <td>2009</td>\n",
              "      <td>beyonce-knowles</td>\n",
              "      <td>Pop</td>\n",
              "      <td>Oh baby, how you doing?\\nYou know I'm gonna cu...</td>\n",
              "    </tr>\n",
              "    <tr>\n",
              "      <th>1</th>\n",
              "      <td>1</td>\n",
              "      <td>then-tell-me</td>\n",
              "      <td>2009</td>\n",
              "      <td>beyonce-knowles</td>\n",
              "      <td>Pop</td>\n",
              "      <td>playin' everything so easy,\\nit's like you see...</td>\n",
              "    </tr>\n",
              "    <tr>\n",
              "      <th>2</th>\n",
              "      <td>2</td>\n",
              "      <td>honesty</td>\n",
              "      <td>2009</td>\n",
              "      <td>beyonce-knowles</td>\n",
              "      <td>Pop</td>\n",
              "      <td>If you search\\nFor tenderness\\nIt isn't hard t...</td>\n",
              "    </tr>\n",
              "    <tr>\n",
              "      <th>3</th>\n",
              "      <td>3</td>\n",
              "      <td>you-are-my-rock</td>\n",
              "      <td>2009</td>\n",
              "      <td>beyonce-knowles</td>\n",
              "      <td>Pop</td>\n",
              "      <td>Oh oh oh I, oh oh oh I\\n[Verse 1:]\\nIf I wrote...</td>\n",
              "    </tr>\n",
              "    <tr>\n",
              "      <th>4</th>\n",
              "      <td>4</td>\n",
              "      <td>black-culture</td>\n",
              "      <td>2009</td>\n",
              "      <td>beyonce-knowles</td>\n",
              "      <td>Pop</td>\n",
              "      <td>Party the people, the people the party it's po...</td>\n",
              "    </tr>\n",
              "  </tbody>\n",
              "</table>\n",
              "</div>"
            ],
            "text/plain": [
              "   index             song  year           artist genre  \\\n",
              "0      0        ego-remix  2009  beyonce-knowles   Pop   \n",
              "1      1     then-tell-me  2009  beyonce-knowles   Pop   \n",
              "2      2          honesty  2009  beyonce-knowles   Pop   \n",
              "3      3  you-are-my-rock  2009  beyonce-knowles   Pop   \n",
              "4      4    black-culture  2009  beyonce-knowles   Pop   \n",
              "\n",
              "                                              lyrics  \n",
              "0  Oh baby, how you doing?\\nYou know I'm gonna cu...  \n",
              "1  playin' everything so easy,\\nit's like you see...  \n",
              "2  If you search\\nFor tenderness\\nIt isn't hard t...  \n",
              "3  Oh oh oh I, oh oh oh I\\n[Verse 1:]\\nIf I wrote...  \n",
              "4  Party the people, the people the party it's po...  "
            ]
          },
          "metadata": {
            "tags": []
          },
          "execution_count": 78
        }
      ]
    },
    {
      "metadata": {
        "id": "VsUEwLR9uzjL",
        "colab_type": "code",
        "outputId": "2e9cacc8-59cd-424f-8468-6ce79bf96ba4",
        "colab": {
          "base_uri": "https://localhost:8080/",
          "height": 413
        }
      },
      "cell_type": "code",
      "source": [
        "sns.countplot(df.genre)"
      ],
      "execution_count": 17,
      "outputs": [
        {
          "output_type": "stream",
          "text": [
            "/usr/local/lib/python3.6/dist-packages/seaborn/categorical.py:1428: FutureWarning: remove_na is deprecated and is a private function. Do not use.\n",
            "  stat_data = remove_na(group_data)\n"
          ],
          "name": "stderr"
        },
        {
          "output_type": "execute_result",
          "data": {
            "text/plain": [
              "<matplotlib.axes._subplots.AxesSubplot at 0x7fcd81403b00>"
            ]
          },
          "metadata": {
            "tags": []
          },
          "execution_count": 17
        },
        {
          "output_type": "display_data",
          "data": {
            "image/png": "[encoded data removed]",
            "text/plain": [
              "<Figure size 576x396 with 1 Axes>"
            ]
          },
          "metadata": {
            "tags": []
          }
        }
      ]
    },
    {
      "metadata": {
        "id": "k1TAM7jRUic2",
        "colab_type": "text"
      },
      "cell_type": "markdown",
      "source": [
        "### To reduce error due to unequal genre data, we chose to classify between four genres instead of the original 12"
      ]
    },
    {
      "metadata": {
        "id": "GNpswRMBu9Q-",
        "colab_type": "code",
        "colab": {}
      },
      "cell_type": "code",
      "source": [
        "genres = ['Pop', 'Indie', 'Jazz', 'Rock']\n",
        "df = df[(df.genre == 'Pop') | (df.genre == 'Hip-Hop') | (df.genre == 'Metal') | (df.genre == 'Rock')]\n",
        "pop = df.loc[df['genre']=='Pop'].head(2000)\n",
        "hiphop = df.loc[df['genre']=='Hip-Hop'].head(2000)\n",
        "rock = df.loc[df['genre']=='Rock'].head(2000)\n",
        "metal = df.loc[df['genre']=='Metal'].head(2000)"
      ],
      "execution_count": 0,
      "outputs": []
    },
    {
      "metadata": {
        "id": "Jx4Z9h-gv0Y2",
        "colab_type": "code",
        "outputId": "834dec5b-087c-4f49-8370-1b641233db13",
        "colab": {
          "base_uri": "https://localhost:8080/",
          "height": 430
        }
      },
      "cell_type": "code",
      "source": [
        "#really lazy way od doing this\n",
        "output = pop.append(hiphop)\n",
        "output = output.append(rock)\n",
        "output = output.append(metal)\n",
        "output.reset_index(drop=True, inplace=True)\n",
        "print(len(output))\n",
        "df = output\n",
        "df.reset_index(drop=True, inplace=True)\n",
        "sns.countplot(df.genre)"
      ],
      "execution_count": 82,
      "outputs": [
        {
          "output_type": "stream",
          "text": [
            "8000\n"
          ],
          "name": "stdout"
        },
        {
          "output_type": "stream",
          "text": [
            "/usr/local/lib/python3.6/dist-packages/seaborn/categorical.py:1428: FutureWarning: remove_na is deprecated and is a private function. Do not use.\n",
            "  stat_data = remove_na(group_data)\n"
          ],
          "name": "stderr"
        },
        {
          "output_type": "execute_result",
          "data": {
            "text/plain": [
              "<matplotlib.axes._subplots.AxesSubplot at 0x7fcd7752a2b0>"
            ]
          },
          "metadata": {
            "tags": []
          },
          "execution_count": 82
        },
        {
          "output_type": "display_data",
          "data": {
            "image/png": "[encoded data removed]",
            "text/plain": [
              "<Figure size 576x396 with 1 Axes>"
            ]
          },
          "metadata": {
            "tags": []
          }
        }
      ]
    },
    {
      "metadata": {
        "id": "heSUM-UqU9AK",
        "colab_type": "text"
      },
      "cell_type": "markdown",
      "source": [
        "## Data Preprocessing\n",
        "\n",
        "\n",
        "1.   Lowercase all the text, remove new lines, and convert each song into a list of words\n",
        "2.   Preprocess_df tokenizes these lists and creates sequences out of them with their lengths being the length of the longest song in our data\n",
        "3.   One-hot encode our target variables\n",
        "4.   Create our test/train data\n"
      ]
    },
    {
      "metadata": {
        "id": "JVtFQ9tJE6_Q",
        "colab_type": "code",
        "colab": {}
      },
      "cell_type": "code",
      "source": [
        " df['lyrics'] = df['lyrics'].apply(lambda x: str(x).lower().replace('\\n', \" \").split(' '))"
      ],
      "execution_count": 0,
      "outputs": []
    },
    {
      "metadata": {
        "id": "E7B_nn8mv4vx",
        "colab_type": "code",
        "colab": {}
      },
      "cell_type": "code",
      "source": [
        "#preprocess the df without word embeddings.\n",
        "def preprocess_df(df, save_pickle = False):\n",
        "        #split and lower all values \n",
        "        print('lowering vals and converting songs to lists...')\n",
        "        #df['lyrics'] = df['lyrics'].apply(lambda x: str(x).lower().replace('\\n', \" \").split(' '))\n",
        "        #find max value in lyrics\n",
        "        print('finding max length of a song...')\n",
        "        max_len = 0\n",
        "        index = 0\n",
        "        for i in range(len(df['lyrics'])):\n",
        "          lyric = df.lyrics.iloc[i]\n",
        "          #max_len = max(len(lyric), max_len)\n",
        "          if max_len < len(lyric):\n",
        "            max_len = len(lyric)\n",
        "            index = i\n",
        "        print('max_len',max_len)\n",
        "        print('index', i)\n",
        "        max_words = 10000\n",
        "        print('Tokenizing...')\n",
        "        #tok = Tokenizer(num_words=max_words)\n",
        "        tok = Tokenizer(num_words=max_len)\n",
        "        tok.fit_on_texts(df.lyrics)\n",
        "        sequences = tok.texts_to_sequences(df.lyrics)\n",
        "        sequences_matrix = sequence.pad_sequences(sequences, maxlen=max_len)\n",
        "        #check to make sure length is 8196 \n",
        "        #reshape to 3-dimensional because thats how Dynamic RNNs like it.\n",
        "        #90928 = 28408 * 4 (num of each type of song)\n",
        "        print('reshaping output')\n",
        "        sequences_matrix = sequences_matrix.reshape(len(df), max_len,1)\n",
        "        #sequences_matrix = sequences_matrix.reshape(len(df), max_len)\n",
        "\n",
        "        print(sequences_matrix.shape)\n",
        "        if save_pickle:\n",
        "                print('writing to file...')\n",
        "                temp = sequences_matrix.reshape(len(df), 1238)\n",
        "                with open('lyrics_clean.txt', 'w') as outfile:\n",
        "                        np.savetxt(outfile, temp)\n",
        "                print('saved.')\n",
        "        return sequences_matrix"
      ],
      "execution_count": 0,
      "outputs": []
    },
    {
      "metadata": {
        "id": "byk9D9Qyv9XO",
        "colab_type": "code",
        "outputId": "f0b90690-f038-4f42-9dd8-f11a1bd7a431",
        "colab": {
          "base_uri": "https://localhost:8080/",
          "height": 138
        }
      },
      "cell_type": "code",
      "source": [
        "sequences_matrix = preprocess_df(df)"
      ],
      "execution_count": 30,
      "outputs": [
        {
          "output_type": "stream",
          "text": [
            "lowering vals and converting songs to lists...\n",
            "finding max length of a song...\n",
            "max_len 8196\n",
            "index 7999\n",
            "Tokenizing...\n",
            "reshaping output\n",
            "(8000, 8196, 1)\n"
          ],
          "name": "stdout"
        }
      ]
    },
    {
      "metadata": {
        "id": "Kov6ZoRWVik0",
        "colab_type": "text"
      },
      "cell_type": "markdown",
      "source": [
        "Confirm our longest song's length"
      ]
    },
    {
      "metadata": {
        "id": "SoBPvjULNzQT",
        "colab_type": "code",
        "outputId": "fb36198a-0358-4617-9784-d78b7e190e05",
        "colab": {
          "base_uri": "https://localhost:8080/",
          "height": 156
        }
      },
      "cell_type": "code",
      "source": [
        "df.lyrics.map(len).max()\n",
        "df['TEST'] = df.lyrics.apply(lambda x: len(x))\n",
        "df.TEST.idxmax()\n",
        "\n",
        "df.iloc[3024]"
      ],
      "execution_count": 31,
      "outputs": [
        {
          "output_type": "execute_result",
          "data": {
            "text/plain": [
              "index                                                 18869\n",
              "song                                           rap-monument\n",
              "year                                                   2014\n",
              "artist                                     flatbush-zombies\n",
              "genre                                          [0, 1, 0, 0]\n",
              "lyrics    [raprock, lit, pop, news, country, r&b;, histo...\n",
              "TEST                                                   8196\n",
              "Name: 3024, dtype: object"
            ]
          },
          "metadata": {
            "tags": []
          },
          "execution_count": 31
        }
      ]
    },
    {
      "metadata": {
        "id": "hYGlRU1nVu7M",
        "colab_type": "text"
      },
      "cell_type": "markdown",
      "source": [
        "One-hot encode targets"
      ]
    },
    {
      "metadata": {
        "id": "lIGKiOx8wGdS",
        "colab_type": "code",
        "colab": {}
      },
      "cell_type": "code",
      "source": [
        "#lazy way to one-hot encode\n",
        "one_hot = {'Pop':[1,0,0,0], 'Hip-Hop':[0,1,0,0], 'Metal': [0,0,1,0], 'Rock':[0,0,0,1]}\n",
        "\n",
        "df['genre'] = df['genre'].apply(lambda x: one_hot[x])"
      ],
      "execution_count": 0,
      "outputs": []
    },
    {
      "metadata": {
        "id": "vnXzp8ub6T9t",
        "colab_type": "code",
        "colab": {}
      },
      "cell_type": "code",
      "source": [
        "targets = np.matrix(df['genre'].tolist())"
      ],
      "execution_count": 0,
      "outputs": []
    },
    {
      "metadata": {
        "id": "AlRFpHD6VxWy",
        "colab_type": "text"
      },
      "cell_type": "markdown",
      "source": [
        "Create an 80/20 test-train split"
      ]
    },
    {
      "metadata": {
        "id": "TCHbR-3jzvx6",
        "colab_type": "code",
        "colab": {}
      },
      "cell_type": "code",
      "source": [
        "\n",
        "from sklearn.model_selection import train_test_split\n",
        "\n",
        "X_train,X_test,Y_train,Y_test = train_test_split(sequences_matrix,targets,test_size=0.2)\n"
      ],
      "execution_count": 0,
      "outputs": []
    },
    {
      "metadata": {
        "id": "rPefqKkAV2Rv",
        "colab_type": "text"
      },
      "cell_type": "markdown",
      "source": [
        "## Building Our Models\n",
        "### We tested 4 different types of models\n",
        "\n",
        "\n",
        "1.   1 Layer LSTM Model\n",
        "2.   1 Layer LSTM Model W/Dropout\n",
        "3.   2 Layer LSTM Model\n",
        "4.   1 Layer LSTM Model W/Word Embeddings\n",
        "\n"
      ]
    },
    {
      "metadata": {
        "id": "JVsmJy43bnAX",
        "colab_type": "text"
      },
      "cell_type": "markdown",
      "source": [
        "## 1 Layer LSTM Model"
      ]
    },
    {
      "metadata": {
        "id": "cC1Pngmlbk1z",
        "colab_type": "code",
        "outputId": "8689ade3-3c87-47f8-9ba0-b7a27f64a097",
        "colab": {
          "base_uri": "https://localhost:8080/",
          "height": 255
        }
      },
      "cell_type": "code",
      "source": [
        "from keras.layers import CuDNNLSTM, Flatten\n",
        "from keras.layers import Dropout, Embedding\n",
        "model = Sequential()\n",
        "model.add(CuDNNLSTM(128, input_shape=(sequences_matrix[0].shape)))\n",
        "model.add(Dense(4))\n",
        "model.add(Activation('softmax'))\n",
        "model.compile(loss='categorical_crossentropy', optimizer=optimizer, metrics=['accuracy'])\n",
        "print(model.summary())"
      ],
      "execution_count": 0,
      "outputs": [
        {
          "output_type": "stream",
          "text": [
            "_________________________________________________________________\n",
            "Layer (type)                 Output Shape              Param #   \n",
            "=================================================================\n",
            "cu_dnnlstm_12 (CuDNNLSTM)    (None, 128)               67072     \n",
            "_________________________________________________________________\n",
            "dense_9 (Dense)              (None, 4)                 516       \n",
            "_________________________________________________________________\n",
            "activation_9 (Activation)    (None, 4)                 0         \n",
            "=================================================================\n",
            "Total params: 67,588\n",
            "Trainable params: 67,588\n",
            "Non-trainable params: 0\n",
            "_________________________________________________________________\n",
            "None\n"
          ],
          "name": "stdout"
        }
      ]
    },
    {
      "metadata": {
        "id": "lMykvxbPke4E",
        "colab_type": "text"
      },
      "cell_type": "markdown",
      "source": [
        "## 1 Layer LSTM Model W/Dropout"
      ]
    },
    {
      "metadata": {
        "id": "1hjrawO3kaRz",
        "colab_type": "code",
        "outputId": "43c0552d-40b2-48ba-9cfd-4175a6b30584",
        "colab": {
          "base_uri": "https://localhost:8080/",
          "height": 294
        }
      },
      "cell_type": "code",
      "source": [
        "from keras.layers import CuDNNLSTM, Flatten\n",
        "from keras.layers import Dropout, Embedding\n",
        "model = Sequential()\n",
        "model.add(CuDNNLSTM(128, input_shape=(sequences_matrix[0].shape)))\n",
        "model.add(Dropout(.2))\n",
        "model.add(Dense(4))\n",
        "model.add(Activation('softmax'))\n",
        "model.compile(loss='categorical_crossentropy', optimizer=optimizer, metrics=['accuracy'])\n",
        "print(model.summary())\n",
        "optimizer = RMSprop(lr=0.001)\n"
      ],
      "execution_count": 43,
      "outputs": [
        {
          "output_type": "stream",
          "text": [
            "_________________________________________________________________\n",
            "Layer (type)                 Output Shape              Param #   \n",
            "=================================================================\n",
            "cu_dnnlstm_2 (CuDNNLSTM)     (None, 128)               67072     \n",
            "_________________________________________________________________\n",
            "dropout_2 (Dropout)          (None, 128)               0         \n",
            "_________________________________________________________________\n",
            "dense_2 (Dense)              (None, 4)                 516       \n",
            "_________________________________________________________________\n",
            "activation_2 (Activation)    (None, 4)                 0         \n",
            "=================================================================\n",
            "Total params: 67,588\n",
            "Trainable params: 67,588\n",
            "Non-trainable params: 0\n",
            "_________________________________________________________________\n",
            "None\n"
          ],
          "name": "stdout"
        }
      ]
    },
    {
      "metadata": {
        "id": "2t829LZFwV_d",
        "colab_type": "text"
      },
      "cell_type": "markdown",
      "source": [
        "## 2 Layer LSTM Model "
      ]
    },
    {
      "metadata": {
        "id": "R_GIiKkywOlF",
        "colab_type": "code",
        "outputId": "b7eaa7f0-aa61-48fb-8bd7-2f2081f53d1b",
        "colab": {
          "base_uri": "https://localhost:8080/",
          "height": 289
        }
      },
      "cell_type": "code",
      "source": [
        "from keras.layers import CuDNNLSTM, Flatten\n",
        "from keras.layers import Dropout, Embedding\n",
        "model = Sequential()\n",
        "model.add(CuDNNLSTM(128, input_shape=(sequences_matrix[0].shape), return_sequences=True))\n",
        "model.add(CuDNNLSTM(64))\n",
        "model.add(Dense(4))\n",
        "model.add(Activation('softmax'))\n",
        "model.compile(loss='categorical_crossentropy', optimizer=optimizer, metrics=['accuracy'])\n",
        "\n",
        "print(model.summary())\n"
      ],
      "execution_count": 0,
      "outputs": [
        {
          "output_type": "stream",
          "text": [
            "_________________________________________________________________\n",
            "Layer (type)                 Output Shape              Param #   \n",
            "=================================================================\n",
            "cu_dnnlstm_10 (CuDNNLSTM)    (None, 8196, 128)         67072     \n",
            "_________________________________________________________________\n",
            "cu_dnnlstm_11 (CuDNNLSTM)    (None, 64)                49664     \n",
            "_________________________________________________________________\n",
            "dense_8 (Dense)              (None, 4)                 260       \n",
            "_________________________________________________________________\n",
            "activation_8 (Activation)    (None, 4)                 0         \n",
            "=================================================================\n",
            "Total params: 116,996\n",
            "Trainable params: 116,996\n",
            "Non-trainable params: 0\n",
            "_________________________________________________________________\n",
            "None\n"
          ],
          "name": "stdout"
        }
      ]
    },
    {
      "metadata": {
        "id": "20-yvN3nkjre",
        "colab_type": "text"
      },
      "cell_type": "markdown",
      "source": [
        "## 1 Layer LSTM Model W/Embedding Layer\n",
        "- Note: sequence matrix must be reshaped to run this model"
      ]
    },
    {
      "metadata": {
        "id": "wB4iebvpwcTU",
        "colab_type": "code",
        "outputId": "38b3b531-e453-4d42-fd9f-3c19240475c5",
        "colab": {
          "base_uri": "https://localhost:8080/",
          "height": 453
        }
      },
      "cell_type": "code",
      "source": [
        "from keras.layers import CuDNNLSTM, Flatten\n",
        "from keras.layers import Dropout, Embedding, LSTM\n",
        "model = Sequential()\n",
        "model.add(Embedding(input_dim=1000, output_dim=50, input_length=8196))\n",
        "#model.add(Flatten())\n",
        "#model.add(CuDNNLSTM(128, input_shape=(sequences_matrix[0].shape)))\n",
        "model.add(CuDNNLSTM(128))\n",
        "model.add(Dropout(.2))\n",
        "model.add(Dense(4))\n",
        "model.add(Activation('softmax'))\n",
        "print(model.summary())"
      ],
      "execution_count": 40,
      "outputs": [
        {
          "output_type": "stream",
          "text": [
            "WARNING:tensorflow:From /usr/local/lib/python3.6/dist-packages/tensorflow/python/framework/op_def_library.py:263: colocate_with (from tensorflow.python.framework.ops) is deprecated and will be removed in a future version.\n",
            "Instructions for updating:\n",
            "Colocations handled automatically by placer.\n",
            "WARNING:tensorflow:From /usr/local/lib/python3.6/dist-packages/keras/backend/tensorflow_backend.py:3445: calling dropout (from tensorflow.python.ops.nn_ops) with keep_prob is deprecated and will be removed in a future version.\n",
            "Instructions for updating:\n",
            "Please use `rate` instead of `keep_prob`. Rate should be set to `rate = 1 - keep_prob`.\n",
            "_________________________________________________________________\n",
            "Layer (type)                 Output Shape              Param #   \n",
            "=================================================================\n",
            "embedding_1 (Embedding)      (None, 8196, 50)          50000     \n",
            "_________________________________________________________________\n",
            "cu_dnnlstm_1 (CuDNNLSTM)     (None, 128)               92160     \n",
            "_________________________________________________________________\n",
            "dropout_1 (Dropout)          (None, 128)               0         \n",
            "_________________________________________________________________\n",
            "dense_1 (Dense)              (None, 4)                 516       \n",
            "_________________________________________________________________\n",
            "activation_1 (Activation)    (None, 4)                 0         \n",
            "=================================================================\n",
            "Total params: 142,676\n",
            "Trainable params: 142,676\n",
            "Non-trainable params: 0\n",
            "_________________________________________________________________\n",
            "None\n"
          ],
          "name": "stdout"
        }
      ]
    },
    {
      "metadata": {
        "id": "DSpmjbRrWdc0",
        "colab_type": "text"
      },
      "cell_type": "markdown",
      "source": [
        "## Train Model\n",
        "1. We chose RMSProp as our optimizer as computing squared gradients has proven to decrease the impact of the vanishing gradient\n",
        "2. We chose Categorical Crossentropy as our loss function as it is the most commonly used function in multi-class classification problems and works well w/one-hot encoded target variables"
      ]
    },
    {
      "metadata": {
        "id": "fQDMG-tpweVx",
        "colab_type": "code",
        "colab": {}
      },
      "cell_type": "code",
      "source": [
        "from keras.callbacks import ModelCheckpoint, EarlyStopping\n",
        "\n",
        "optimizer = RMSprop(lr=0.001)\n",
        "\n",
        "filepath=\"drive/My Drive/weights-improvement-{epoch:02d}-{val_acc:.2f}.hdf5\"\n",
        "mc = ModelCheckpoint('filepath', monitor='val_loss', verbose=0, save_best_only=False, save_weights_only=False, mode='auto', period=10)\n",
        "\n",
        "#note: using rmsprop instead of adam significantly increased accuracy.\n",
        "#note: using cudnnlstm drastically increased training speed.\n",
        "model.compile(loss='categorical_crossentropy', optimizer=optimizer, metrics=['accuracy'])\n",
        "\n",
        "model.fit(X_train, Y_train, epochs=100, batch_size=128, shuffle=True, callbacks=[tensorboard,mc])\n",
        "\n",
        "model.save('full_word_classifier_1D_LSTM.h5')\n",
        "print('moved to drive.')"
      ],
      "execution_count": 0,
      "outputs": []
    },
    {
      "metadata": {
        "id": "X6L_KvXW60Rf",
        "colab_type": "code",
        "colab": {}
      },
      "cell_type": "code",
      "source": [
        "model.load_weights('PATH_TO_SAVE/full_word_classifier_LSTM_dropout.h5')"
      ],
      "execution_count": 0,
      "outputs": []
    },
    {
      "metadata": {
        "id": "HHpk54zZ6m3Y",
        "colab_type": "code",
        "outputId": "8fcef49d-2cec-41ee-9b8a-10065d4f92a9",
        "colab": {
          "base_uri": "https://localhost:8080/",
          "height": 51
        }
      },
      "cell_type": "code",
      "source": [
        "model.evaluate(X_train, Y_train)"
      ],
      "execution_count": 0,
      "outputs": [
        {
          "output_type": "stream",
          "text": [
            "6400/6400 [==============================] - 65s 10ms/step\n"
          ],
          "name": "stdout"
        },
        {
          "output_type": "execute_result",
          "data": {
            "text/plain": [
              "[0.7697302666306496, 0.71640625]"
            ]
          },
          "metadata": {
            "tags": []
          },
          "execution_count": 155
        }
      ]
    },
    {
      "metadata": {
        "id": "_sDr3wkbRI2X",
        "colab_type": "text"
      },
      "cell_type": "markdown",
      "source": [
        "## Testing 1 Layer LSTM W/Dropout (Best Model)"
      ]
    },
    {
      "metadata": {
        "id": "BZpii4BWSZCt",
        "colab_type": "text"
      },
      "cell_type": "markdown",
      "source": [
        "#### Predict genre for a particular song"
      ]
    },
    {
      "metadata": {
        "id": "W0UNjbVI_PHv",
        "colab_type": "code",
        "colab": {}
      },
      "cell_type": "code",
      "source": [
        "song = \"\"\"I knew you were\n",
        "You were gonna come to me\n",
        "And here you are\n",
        "But you better choose carefully\n",
        "'Cause I’m capable of anything\n",
        "Of anything and everything\n",
        "Make me your Aphrodite\n",
        "Make me your one and only\n",
        "But don’t make me your enemy, your enemy, your enemy\n",
        "So you wanna play with magic\n",
        "Boy, you should know whatcha falling for\n",
        "Baby do you dare to do this\n",
        "'Cause I’m coming atcha like a dark horse\n",
        "Are you ready for, ready for\n",
        "A perfect storm, a perfect storm\n",
        "'Cause once you’re mine, once you’re mine\n",
        "There’s no going back\n",
        "Mark my words\n",
        "This love will make you levitate\n",
        "Like a bird\n",
        "Like a bird without a cage\n",
        "But down to earth\n",
        "If you choose to walk away, don’t walk away\n",
        "It’s in the palm of your hand now baby\n",
        "It’s a yes or no, no maybe\n",
        "So just be sure before you give it up to me\n",
        "Up to me, give it up to me\n",
        "So you wanna play with magic\n",
        "Boy, you should know whatcha falling for\n",
        "Baby do you dare to do this\n",
        "'Cause I’m coming atcha like a dark horse\n",
        "Are you ready for, ready for\n",
        "A perfect storm, a perfect storm\n",
        "'Cause once you’re mine, once you’re mine\n",
        "There’s no going back\n",
        "She’s a beast\n",
        "I call her Karma\n",
        "She eat your heart out\n",
        "Like Jeffrey Dahmer\n",
        "Be careful\n",
        "Try not to lead her on\n",
        "Shawty’s heart was on steroids\n",
        "'Cause her love was so strong\n",
        "You may fall in love\n",
        "When you meet her\n",
        "If you get the chance you better keep her\n",
        "She swears by it but if you break her heart\n",
        "She turn cold as a freezer\n",
        "That fairy tale ending with a knight in shining armor\n",
        "She can be my Sleeping Beauty\n",
        "I’m gon’ put her in a coma\n",
        "Woo! Damn I think I love her\n",
        "Shawty so bad\n",
        "I’m sprung and I don’t care\n",
        "She got me like a roller coaster\n",
        "Turn the bedroom into a fair\n",
        "Her love is like a drug\n",
        "I was tryna hit it and quit it\n",
        "But lil’ mama so dope\n",
        "I messed around and got addicted\n",
        "So you wanna play with magic\n",
        "Boy, you should know whatcha falling for\n",
        "Baby do you dare to do this\n",
        "'Cause I’m coming atcha like a dark horse\n",
        "Are you ready for, ready for\n",
        "A perfect storm, a perfect storm\n",
        "'Cause once you’re mine, once you’re mine\n",
        "There’s no going back\"\"\""
      ],
      "execution_count": 0,
      "outputs": []
    },
    {
      "metadata": {
        "id": "dGwA5H0aSiiJ",
        "colab_type": "text"
      },
      "cell_type": "markdown",
      "source": [
        "#### Tokenize the corpus, predict value for particular song, convert value back from one-hot encoding"
      ]
    },
    {
      "metadata": {
        "id": "gQLhEEjxgmNt",
        "colab_type": "code",
        "outputId": "4f3cd307-28b0-4eb9-c62f-d096aa118b04",
        "colab": {
          "base_uri": "https://localhost:8080/",
          "height": 277
        }
      },
      "cell_type": "code",
      "source": [
        "tok = Tokenizer(num_words=8196)\n",
        "tok.fit_on_texts(df.lyrics)\n",
        "\n",
        "model.summary()"
      ],
      "execution_count": 72,
      "outputs": [
        {
          "output_type": "stream",
          "text": [
            "_________________________________________________________________\n",
            "Layer (type)                 Output Shape              Param #   \n",
            "=================================================================\n",
            "cu_dnnlstm_2 (CuDNNLSTM)     (None, 128)               67072     \n",
            "_________________________________________________________________\n",
            "dropout_2 (Dropout)          (None, 128)               0         \n",
            "_________________________________________________________________\n",
            "dense_2 (Dense)              (None, 4)                 516       \n",
            "_________________________________________________________________\n",
            "activation_2 (Activation)    (None, 4)                 0         \n",
            "=================================================================\n",
            "Total params: 67,588\n",
            "Trainable params: 67,588\n",
            "Non-trainable params: 0\n",
            "_________________________________________________________________\n"
          ],
          "name": "stdout"
        }
      ]
    },
    {
      "metadata": {
        "id": "OPGb09NG_uKE",
        "colab_type": "code",
        "colab": {}
      },
      "cell_type": "code",
      "source": [
        "song = song.lower()\n",
        "song = song.replace('\\n', ' ')\n",
        "song = song.split(' ')\n",
        "song = [song]\n",
        "\n",
        "#break into seqs\n",
        "sequences = tok.texts_to_sequences(song)\n",
        "sequences_matrix = sequence.pad_sequences(sequences, maxlen=8196)\n",
        "sequences_matrix = sequences_matrix.reshape(1, 8196, 1)\n",
        "\n",
        "#predict\n",
        "output = model.predict(sequences_matrix)\n",
        "\n",
        "#jank solution to output genre name\n",
        "song = [0,0,0,0]\n",
        "max_val = np.argmax(output)\n",
        "song[max_val] = 1\n",
        "for k,v in one_hot.items():\n",
        "  if song == v:\n",
        "    print(k)\n",
        "    break\n",
        "\n"
      ],
      "execution_count": 0,
      "outputs": []
    },
    {
      "metadata": {
        "id": "47ncEfuYS25S",
        "colab_type": "text"
      },
      "cell_type": "markdown",
      "source": [
        "### Build Confusion Matrix for 1 Layer LSTM W/Dropout"
      ]
    },
    {
      "metadata": {
        "id": "g8-T0HlgTG0l",
        "colab_type": "text"
      },
      "cell_type": "markdown",
      "source": [
        "First we convert all our predicted values one-hot encoding values to their respective genres in english"
      ]
    },
    {
      "metadata": {
        "id": "AytEUCvS_xM6",
        "colab_type": "code",
        "colab": {}
      },
      "cell_type": "code",
      "source": [
        "predicted = model.predict(X_test)\n",
        "\n",
        "b = np.zeros_like(predicted)\n",
        "b[np.arange(len(predicted)), predicted.argmax(1)] = 1\n",
        "preds = b.tolist()\n",
        "\n",
        "hot_one = {(1,0,0,0): 'Pop', (0,1,0,0):'Hip-Hop', (0,0,1,0):'Metal', (0,0,0,1):'Rock'}\n",
        "preds = [hot_one[tuple(x)] for x in preds]\n",
        "  "
      ],
      "execution_count": 0,
      "outputs": []
    },
    {
      "metadata": {
        "id": "zMyOU9izhZxf",
        "colab_type": "code",
        "colab": {}
      },
      "cell_type": "code",
      "source": [
        "y_vals = Y_test.tolist()\n",
        "y_vals = [hot_one[tuple(x)] for x in y_vals]"
      ],
      "execution_count": 0,
      "outputs": []
    },
    {
      "metadata": {
        "id": "ZeraiulvTVUx",
        "colab_type": "text"
      },
      "cell_type": "markdown",
      "source": [
        "Next we compare the predicted values against the actual and visualize them with sklearn's confusion matrix function"
      ]
    },
    {
      "metadata": {
        "id": "2Ougx4ORknm1",
        "colab_type": "code",
        "colab": {}
      },
      "cell_type": "code",
      "source": [
        "\n",
        "def plot_confusion_matrix(cm, classes,\n",
        "                          normalize=False,\n",
        "                          title='Confusion matrix',\n",
        "                          cmap=plt.cm.Blues):\n",
        "    \"\"\"\n",
        "    This function prints and plots the confusion matrix.\n",
        "    Normalization can be applied by setting `normalize=True`.\n",
        "    \"\"\"\n",
        "    if normalize:\n",
        "        cm = cm.astype('float') / cm.sum(axis=1)[:, np.newaxis]\n",
        "        print(\"Normalized confusion matrix\")\n",
        "    else:\n",
        "        print('Confusion matrix, without normalization')\n",
        "\n",
        "    plt.imshow(cm, interpolation='nearest', cmap=cmap)\n",
        "    plt.title(title)\n",
        "    plt.colorbar()\n",
        "    tick_marks = np.arange(len(classes))\n",
        "    plt.xticks(tick_marks, classes, rotation=45)\n",
        "    plt.yticks(tick_marks, classes)\n",
        "\n",
        "    fmt = '.2f' if normalize else 'd'\n",
        "    thresh = cm.max() / 2.\n",
        "    for i, j in itertools.product(range(cm.shape[0]), range(cm.shape[1])):\n",
        "        plt.text(j, i, format(cm[i, j], fmt),\n",
        "                 horizontalalignment=\"center\",\n",
        "                 color=\"white\" if cm[i, j] > thresh else \"black\")\n",
        "\n",
        "    plt.ylabel('True label')\n",
        "    plt.xlabel('Predicted label')\n",
        "    plt.tight_layout()\n",
        "    plt.savefig('conf_matrix.png')"
      ],
      "execution_count": 0,
      "outputs": []
    },
    {
      "metadata": {
        "id": "0KXftY8xk54v",
        "colab_type": "code",
        "outputId": "86925f4c-eabf-4f62-ae23-38a3390f1272",
        "colab": {
          "base_uri": "https://localhost:8080/",
          "height": 418
        }
      },
      "cell_type": "code",
      "source": [
        "cnf_mtrx = confusion_matrix(y_vals, preds, labels=['Rock', 'Pop', 'Hip-Hop', 'Metal'])\n",
        "plt.figure()\n",
        "plot_confusion_matrix(cnf_mtrx, classes=['Rock', 'Pop', 'Hip-Hop', 'Metal'],\n",
        "                      title='LSTM With Dropout Confusion Matrix')\n",
        "plt.show()"
      ],
      "execution_count": 76,
      "outputs": [
        {
          "output_type": "stream",
          "text": [
            "Confusion matrix, without normalization\n"
          ],
          "name": "stdout"
        },
        {
          "output_type": "display_data",
          "data": {
            "image/png": "[encoded data removed]",
            "text/plain": [
              "<Figure size 576x396 with 2 Axes>"
            ]
          },
          "metadata": {
            "tags": []
          }
        }
      ]
    },
    {
      "metadata": {
        "id": "KgCCDg6GTfi7",
        "colab_type": "code",
        "colab": {}
      },
      "cell_type": "code",
      "source": [
        ""
      ],
      "execution_count": 0,
      "outputs": []
    }
  ]
}